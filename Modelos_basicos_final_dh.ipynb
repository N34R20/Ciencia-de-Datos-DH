{
  "nbformat": 4,
  "nbformat_minor": 0,
  "metadata": {
    "colab": {
      "provenance": [],
      "collapsed_sections": [
        "cjLAp0VbD2FE",
        "Q43k1U_SObyF",
        "bKu2oHB3Oenp",
        "HQ0gSDCDSmyg",
        "UKavHPEZiEgR",
        "IIFECo8RjeD-",
        "B4gwLFZei7FR",
        "40toQm0eTBw_",
        "KdnTwrgZi7aJ"
      ],
      "authorship_tag": "ABX9TyN9b6fZeTPBbjxCX4vAimEC",
      "include_colab_link": true
    },
    "kernelspec": {
      "name": "python3",
      "display_name": "Python 3"
    },
    "language_info": {
      "name": "python"
    }
  },
  "cells": [
    {
      "cell_type": "markdown",
      "metadata": {
        "id": "view-in-github",
        "colab_type": "text"
      },
      "source": [
        "<a href=\"https://colab.research.google.com/github/N34R20/Ciencia-de-Datos-DH/blob/main/Modelos_basicos_final_dh.ipynb\" target=\"_parent\"><img src=\"https://colab.research.google.com/assets/colab-badge.svg\" alt=\"Open In Colab\"/></a>"
      ]
    },
    {
      "cell_type": "code",
      "execution_count": null,
      "metadata": {
        "colab": {
          "base_uri": "https://localhost:8080/"
        },
        "id": "cFfQSx9dd66m",
        "outputId": "75322b81-10c0-4347-b927-0ec3d8d2a4be"
      },
      "outputs": [
        {
          "output_type": "stream",
          "name": "stdout",
          "text": [
            "Drive already mounted at /content/drive; to attempt to forcibly remount, call drive.mount(\"/content/drive\", force_remount=True).\n"
          ]
        }
      ],
      "source": [
        "from google.colab import drive\n",
        "drive.mount('/content/drive')"
      ]
    },
    {
      "cell_type": "code",
      "source": [
        "%pip install statsmodels\n",
        "%pip install statsmodels.tsa"
      ],
      "metadata": {
        "colab": {
          "base_uri": "https://localhost:8080/"
        },
        "id": "j47VP5eLeNVd",
        "outputId": "64a74f9e-a695-43b7-e64e-1e22c739f766"
      },
      "execution_count": null,
      "outputs": [
        {
          "output_type": "stream",
          "name": "stdout",
          "text": [
            "Requirement already satisfied: statsmodels in /usr/local/lib/python3.7/dist-packages (0.10.2)\n",
            "Requirement already satisfied: pandas>=0.19 in /usr/local/lib/python3.7/dist-packages (from statsmodels) (1.3.5)\n",
            "Requirement already satisfied: scipy>=0.18 in /usr/local/lib/python3.7/dist-packages (from statsmodels) (1.4.1)\n",
            "Requirement already satisfied: patsy>=0.4.0 in /usr/local/lib/python3.7/dist-packages (from statsmodels) (0.5.2)\n",
            "Requirement already satisfied: numpy>=1.11 in /usr/local/lib/python3.7/dist-packages (from statsmodels) (1.21.5)\n",
            "Requirement already satisfied: python-dateutil>=2.7.3 in /usr/local/lib/python3.7/dist-packages (from pandas>=0.19->statsmodels) (2.8.2)\n",
            "Requirement already satisfied: pytz>=2017.3 in /usr/local/lib/python3.7/dist-packages (from pandas>=0.19->statsmodels) (2018.9)\n",
            "Requirement already satisfied: six in /usr/local/lib/python3.7/dist-packages (from patsy>=0.4.0->statsmodels) (1.15.0)\n",
            "\u001b[31mERROR: Could not find a version that satisfies the requirement statsmodels.tsa (from versions: none)\u001b[0m\n",
            "\u001b[31mERROR: No matching distribution found for statsmodels.tsa\u001b[0m\n"
          ]
        }
      ]
    },
    {
      "cell_type": "code",
      "source": [
        "import pandas as pd\n",
        "import numpy as np\n",
        "from matplotlib import pyplot as plt\n",
        "import missingno as msn\n",
        "import seaborn as sns\n",
        "from datetime import date\n",
        "import sklearn\n",
        "from dateutil.relativedelta import relativedelta\n",
        "from statsmodels.tsa.seasonal import seasonal_decompose\n",
        "import shapely\n",
        "import calendar\n",
        "\n"
      ],
      "metadata": {
        "id": "29FBRKi3eV_J"
      },
      "execution_count": null,
      "outputs": []
    },
    {
      "cell_type": "code",
      "source": [
        "from sklearn.model_selection import TimeSeriesSplit"
      ],
      "metadata": {
        "id": "wo6dF82ae5Gs"
      },
      "execution_count": null,
      "outputs": []
    },
    {
      "cell_type": "code",
      "source": [
        "path_dataset_final = '/content/drive/MyDrive/Data /dataset_final.csv'\n",
        "df = pd.read_csv(path_dataset_final)\n",
        "df"
      ],
      "metadata": {
        "id": "rCxDHs19eW0W",
        "colab": {
          "base_uri": "https://localhost:8080/",
          "height": 840
        },
        "outputId": "fade299a-1200-4c7d-d66b-5db9142766f9"
      },
      "execution_count": null,
      "outputs": [
        {
          "output_type": "execute_result",
          "data": {
            "text/plain": [
              "       Unnamed: 0      causa        rol       tipo       sexo  edad  \\\n",
              "0               0  homicidio  conductor       moto  masculino  18.0   \n",
              "1               1   lesiones   pasajero  automovil  masculino  26.0   \n",
              "2               2  homicidio  conductor       moto  masculino  24.0   \n",
              "3               3   lesiones  conductor       moto  masculino  37.0   \n",
              "4               4  homicidio   pasajero  automovil  masculino  19.0   \n",
              "...           ...        ...        ...        ...        ...   ...   \n",
              "26131       26131   lesiones     peaton     peaton  masculino  11.0   \n",
              "26132       26132   lesiones   ciclista  bicicleta   femenino  17.0   \n",
              "26133       26133   lesiones     peaton     peaton   femenino   3.0   \n",
              "26134       26134   lesiones     peaton     peaton  masculino   5.0   \n",
              "26135       26135   lesiones   pasajero  automovil   femenino   6.0   \n",
              "\n",
              "            fecha  hora tipo_calle                           geocodificacion  \\\n",
              "0      2015-01-01     2    avenida  point(107881.450960282 101307.802557128)   \n",
              "1      2015-01-01     7      calle        POINT(99434.1139023 99998.2519356)   \n",
              "2      2015-03-14     4    avenida  point(94030.4783360778 97680.9200807321)   \n",
              "3      2015-04-01    15    avenida        POINT(104578.721381 104043.896923)   \n",
              "4      2015-08-14     2    avenida  point(103286.903159354 107774.354385908)   \n",
              "...           ...   ...        ...                                       ...   \n",
              "26131  2017-12-12    17      calle        point(102464.785026 104303.334298)   \n",
              "26132  2017-12-14    16      calle   point(104370.266665253 104649.02576906)   \n",
              "26133  2017-12-16    18      calle        point(108516.345434 102125.539587)   \n",
              "26134  2017-12-16    12      calle        point(98886.2980366 93738.9567445)   \n",
              "26135  2017-12-19     9      calle  point(98425.4387096603 100771.031956165)   \n",
              "\n",
              "       ...  comuna               tipo_colision1  participantes_victimas  \\\n",
              "0      ...     1.0      motovehiculo - vehiculo                    moto   \n",
              "1      ...     7.0          vehiculo - vehiculo               automovil   \n",
              "2      ...     9.0  motovehiculo - motovehiculo                    moto   \n",
              "3      ...    14.0      vehiculo - motovehiculo                    moto   \n",
              "4      ...    14.0          vehiculo - vehiculo               automovil   \n",
              "...    ...     ...                          ...                     ...   \n",
              "26131  ...    15.0        motovehiculo - peaton                  peaton   \n",
              "26132  ...    14.0         bicicleta - vehiculo               bicicleta   \n",
              "26133  ...     1.0            peaton - vehiculo                  peaton   \n",
              "26134  ...     8.0        motovehiculo - peaton                  peaton   \n",
              "26135  ...    11.0          vehiculo - vehiculo               automovil   \n",
              "\n",
              "       participantes_acusados month  year day  day_of_week  \\\n",
              "0                   automovil     1  2015   1            3   \n",
              "1                   automovil     1  2015   1            3   \n",
              "2                        moto     3  2015  14            5   \n",
              "3                   automovil     4  2015   1            2   \n",
              "4                   automovil     8  2015  14            4   \n",
              "...                       ...   ...   ...  ..          ...   \n",
              "26131                    moto    12  2017  12            1   \n",
              "26132               automovil    12  2017  14            3   \n",
              "26133              taxi/remis    12  2017  16            5   \n",
              "26134                    moto    12  2017  16            5   \n",
              "26135               automovil    12  2017  19            1   \n",
              "\n",
              "                                geometry            barrio  \n",
              "0      POINT (-58.37736201 -34.61745115)         MONSERRAT  \n",
              "1       POINT (-58.46947105 -34.6292856)            FLORES  \n",
              "2      POINT (-58.52841602 -34.65015732)           LINIERS  \n",
              "3       POINT (-58.41338878 -34.5928067)           PALERMO  \n",
              "4      POINT (-58.42748462 -34.55918365)           PALERMO  \n",
              "...                                  ...               ...  \n",
              "26131  POINT (-58.43643274 -34.59047523)      VILLA CRESPO  \n",
              "26132  POINT (-58.41566423 -34.58735279)           PALERMO  \n",
              "26133  POINT (-58.37044742 -34.61007472)         MONSERRAT  \n",
              "26134   POINT (-58.4754538 -34.68570845)   VILLA RIACHUELO  \n",
              "26135   POINT (-58.4804695 -34.62231836)  VILLA SANTA RITA  \n",
              "\n",
              "[26136 rows x 23 columns]"
            ],
            "text/html": [
              "\n",
              "  <div id=\"df-8bae036b-7888-4d22-9c88-6ada558761fe\">\n",
              "    <div class=\"colab-df-container\">\n",
              "      <div>\n",
              "<style scoped>\n",
              "    .dataframe tbody tr th:only-of-type {\n",
              "        vertical-align: middle;\n",
              "    }\n",
              "\n",
              "    .dataframe tbody tr th {\n",
              "        vertical-align: top;\n",
              "    }\n",
              "\n",
              "    .dataframe thead th {\n",
              "        text-align: right;\n",
              "    }\n",
              "</style>\n",
              "<table border=\"1\" class=\"dataframe\">\n",
              "  <thead>\n",
              "    <tr style=\"text-align: right;\">\n",
              "      <th></th>\n",
              "      <th>Unnamed: 0</th>\n",
              "      <th>causa</th>\n",
              "      <th>rol</th>\n",
              "      <th>tipo</th>\n",
              "      <th>sexo</th>\n",
              "      <th>edad</th>\n",
              "      <th>fecha</th>\n",
              "      <th>hora</th>\n",
              "      <th>tipo_calle</th>\n",
              "      <th>geocodificacion</th>\n",
              "      <th>...</th>\n",
              "      <th>comuna</th>\n",
              "      <th>tipo_colision1</th>\n",
              "      <th>participantes_victimas</th>\n",
              "      <th>participantes_acusados</th>\n",
              "      <th>month</th>\n",
              "      <th>year</th>\n",
              "      <th>day</th>\n",
              "      <th>day_of_week</th>\n",
              "      <th>geometry</th>\n",
              "      <th>barrio</th>\n",
              "    </tr>\n",
              "  </thead>\n",
              "  <tbody>\n",
              "    <tr>\n",
              "      <th>0</th>\n",
              "      <td>0</td>\n",
              "      <td>homicidio</td>\n",
              "      <td>conductor</td>\n",
              "      <td>moto</td>\n",
              "      <td>masculino</td>\n",
              "      <td>18.0</td>\n",
              "      <td>2015-01-01</td>\n",
              "      <td>2</td>\n",
              "      <td>avenida</td>\n",
              "      <td>point(107881.450960282 101307.802557128)</td>\n",
              "      <td>...</td>\n",
              "      <td>1.0</td>\n",
              "      <td>motovehiculo - vehiculo</td>\n",
              "      <td>moto</td>\n",
              "      <td>automovil</td>\n",
              "      <td>1</td>\n",
              "      <td>2015</td>\n",
              "      <td>1</td>\n",
              "      <td>3</td>\n",
              "      <td>POINT (-58.37736201 -34.61745115)</td>\n",
              "      <td>MONSERRAT</td>\n",
              "    </tr>\n",
              "    <tr>\n",
              "      <th>1</th>\n",
              "      <td>1</td>\n",
              "      <td>lesiones</td>\n",
              "      <td>pasajero</td>\n",
              "      <td>automovil</td>\n",
              "      <td>masculino</td>\n",
              "      <td>26.0</td>\n",
              "      <td>2015-01-01</td>\n",
              "      <td>7</td>\n",
              "      <td>calle</td>\n",
              "      <td>POINT(99434.1139023 99998.2519356)</td>\n",
              "      <td>...</td>\n",
              "      <td>7.0</td>\n",
              "      <td>vehiculo - vehiculo</td>\n",
              "      <td>automovil</td>\n",
              "      <td>automovil</td>\n",
              "      <td>1</td>\n",
              "      <td>2015</td>\n",
              "      <td>1</td>\n",
              "      <td>3</td>\n",
              "      <td>POINT (-58.46947105 -34.6292856)</td>\n",
              "      <td>FLORES</td>\n",
              "    </tr>\n",
              "    <tr>\n",
              "      <th>2</th>\n",
              "      <td>2</td>\n",
              "      <td>homicidio</td>\n",
              "      <td>conductor</td>\n",
              "      <td>moto</td>\n",
              "      <td>masculino</td>\n",
              "      <td>24.0</td>\n",
              "      <td>2015-03-14</td>\n",
              "      <td>4</td>\n",
              "      <td>avenida</td>\n",
              "      <td>point(94030.4783360778 97680.9200807321)</td>\n",
              "      <td>...</td>\n",
              "      <td>9.0</td>\n",
              "      <td>motovehiculo - motovehiculo</td>\n",
              "      <td>moto</td>\n",
              "      <td>moto</td>\n",
              "      <td>3</td>\n",
              "      <td>2015</td>\n",
              "      <td>14</td>\n",
              "      <td>5</td>\n",
              "      <td>POINT (-58.52841602 -34.65015732)</td>\n",
              "      <td>LINIERS</td>\n",
              "    </tr>\n",
              "    <tr>\n",
              "      <th>3</th>\n",
              "      <td>3</td>\n",
              "      <td>lesiones</td>\n",
              "      <td>conductor</td>\n",
              "      <td>moto</td>\n",
              "      <td>masculino</td>\n",
              "      <td>37.0</td>\n",
              "      <td>2015-04-01</td>\n",
              "      <td>15</td>\n",
              "      <td>avenida</td>\n",
              "      <td>POINT(104578.721381 104043.896923)</td>\n",
              "      <td>...</td>\n",
              "      <td>14.0</td>\n",
              "      <td>vehiculo - motovehiculo</td>\n",
              "      <td>moto</td>\n",
              "      <td>automovil</td>\n",
              "      <td>4</td>\n",
              "      <td>2015</td>\n",
              "      <td>1</td>\n",
              "      <td>2</td>\n",
              "      <td>POINT (-58.41338878 -34.5928067)</td>\n",
              "      <td>PALERMO</td>\n",
              "    </tr>\n",
              "    <tr>\n",
              "      <th>4</th>\n",
              "      <td>4</td>\n",
              "      <td>homicidio</td>\n",
              "      <td>pasajero</td>\n",
              "      <td>automovil</td>\n",
              "      <td>masculino</td>\n",
              "      <td>19.0</td>\n",
              "      <td>2015-08-14</td>\n",
              "      <td>2</td>\n",
              "      <td>avenida</td>\n",
              "      <td>point(103286.903159354 107774.354385908)</td>\n",
              "      <td>...</td>\n",
              "      <td>14.0</td>\n",
              "      <td>vehiculo - vehiculo</td>\n",
              "      <td>automovil</td>\n",
              "      <td>automovil</td>\n",
              "      <td>8</td>\n",
              "      <td>2015</td>\n",
              "      <td>14</td>\n",
              "      <td>4</td>\n",
              "      <td>POINT (-58.42748462 -34.55918365)</td>\n",
              "      <td>PALERMO</td>\n",
              "    </tr>\n",
              "    <tr>\n",
              "      <th>...</th>\n",
              "      <td>...</td>\n",
              "      <td>...</td>\n",
              "      <td>...</td>\n",
              "      <td>...</td>\n",
              "      <td>...</td>\n",
              "      <td>...</td>\n",
              "      <td>...</td>\n",
              "      <td>...</td>\n",
              "      <td>...</td>\n",
              "      <td>...</td>\n",
              "      <td>...</td>\n",
              "      <td>...</td>\n",
              "      <td>...</td>\n",
              "      <td>...</td>\n",
              "      <td>...</td>\n",
              "      <td>...</td>\n",
              "      <td>...</td>\n",
              "      <td>...</td>\n",
              "      <td>...</td>\n",
              "      <td>...</td>\n",
              "      <td>...</td>\n",
              "    </tr>\n",
              "    <tr>\n",
              "      <th>26131</th>\n",
              "      <td>26131</td>\n",
              "      <td>lesiones</td>\n",
              "      <td>peaton</td>\n",
              "      <td>peaton</td>\n",
              "      <td>masculino</td>\n",
              "      <td>11.0</td>\n",
              "      <td>2017-12-12</td>\n",
              "      <td>17</td>\n",
              "      <td>calle</td>\n",
              "      <td>point(102464.785026 104303.334298)</td>\n",
              "      <td>...</td>\n",
              "      <td>15.0</td>\n",
              "      <td>motovehiculo - peaton</td>\n",
              "      <td>peaton</td>\n",
              "      <td>moto</td>\n",
              "      <td>12</td>\n",
              "      <td>2017</td>\n",
              "      <td>12</td>\n",
              "      <td>1</td>\n",
              "      <td>POINT (-58.43643274 -34.59047523)</td>\n",
              "      <td>VILLA CRESPO</td>\n",
              "    </tr>\n",
              "    <tr>\n",
              "      <th>26132</th>\n",
              "      <td>26132</td>\n",
              "      <td>lesiones</td>\n",
              "      <td>ciclista</td>\n",
              "      <td>bicicleta</td>\n",
              "      <td>femenino</td>\n",
              "      <td>17.0</td>\n",
              "      <td>2017-12-14</td>\n",
              "      <td>16</td>\n",
              "      <td>calle</td>\n",
              "      <td>point(104370.266665253 104649.02576906)</td>\n",
              "      <td>...</td>\n",
              "      <td>14.0</td>\n",
              "      <td>bicicleta - vehiculo</td>\n",
              "      <td>bicicleta</td>\n",
              "      <td>automovil</td>\n",
              "      <td>12</td>\n",
              "      <td>2017</td>\n",
              "      <td>14</td>\n",
              "      <td>3</td>\n",
              "      <td>POINT (-58.41566423 -34.58735279)</td>\n",
              "      <td>PALERMO</td>\n",
              "    </tr>\n",
              "    <tr>\n",
              "      <th>26133</th>\n",
              "      <td>26133</td>\n",
              "      <td>lesiones</td>\n",
              "      <td>peaton</td>\n",
              "      <td>peaton</td>\n",
              "      <td>femenino</td>\n",
              "      <td>3.0</td>\n",
              "      <td>2017-12-16</td>\n",
              "      <td>18</td>\n",
              "      <td>calle</td>\n",
              "      <td>point(108516.345434 102125.539587)</td>\n",
              "      <td>...</td>\n",
              "      <td>1.0</td>\n",
              "      <td>peaton - vehiculo</td>\n",
              "      <td>peaton</td>\n",
              "      <td>taxi/remis</td>\n",
              "      <td>12</td>\n",
              "      <td>2017</td>\n",
              "      <td>16</td>\n",
              "      <td>5</td>\n",
              "      <td>POINT (-58.37044742 -34.61007472)</td>\n",
              "      <td>MONSERRAT</td>\n",
              "    </tr>\n",
              "    <tr>\n",
              "      <th>26134</th>\n",
              "      <td>26134</td>\n",
              "      <td>lesiones</td>\n",
              "      <td>peaton</td>\n",
              "      <td>peaton</td>\n",
              "      <td>masculino</td>\n",
              "      <td>5.0</td>\n",
              "      <td>2017-12-16</td>\n",
              "      <td>12</td>\n",
              "      <td>calle</td>\n",
              "      <td>point(98886.2980366 93738.9567445)</td>\n",
              "      <td>...</td>\n",
              "      <td>8.0</td>\n",
              "      <td>motovehiculo - peaton</td>\n",
              "      <td>peaton</td>\n",
              "      <td>moto</td>\n",
              "      <td>12</td>\n",
              "      <td>2017</td>\n",
              "      <td>16</td>\n",
              "      <td>5</td>\n",
              "      <td>POINT (-58.4754538 -34.68570845)</td>\n",
              "      <td>VILLA RIACHUELO</td>\n",
              "    </tr>\n",
              "    <tr>\n",
              "      <th>26135</th>\n",
              "      <td>26135</td>\n",
              "      <td>lesiones</td>\n",
              "      <td>pasajero</td>\n",
              "      <td>automovil</td>\n",
              "      <td>femenino</td>\n",
              "      <td>6.0</td>\n",
              "      <td>2017-12-19</td>\n",
              "      <td>9</td>\n",
              "      <td>calle</td>\n",
              "      <td>point(98425.4387096603 100771.031956165)</td>\n",
              "      <td>...</td>\n",
              "      <td>11.0</td>\n",
              "      <td>vehiculo - vehiculo</td>\n",
              "      <td>automovil</td>\n",
              "      <td>automovil</td>\n",
              "      <td>12</td>\n",
              "      <td>2017</td>\n",
              "      <td>19</td>\n",
              "      <td>1</td>\n",
              "      <td>POINT (-58.4804695 -34.62231836)</td>\n",
              "      <td>VILLA SANTA RITA</td>\n",
              "    </tr>\n",
              "  </tbody>\n",
              "</table>\n",
              "<p>26136 rows × 23 columns</p>\n",
              "</div>\n",
              "      <button class=\"colab-df-convert\" onclick=\"convertToInteractive('df-8bae036b-7888-4d22-9c88-6ada558761fe')\"\n",
              "              title=\"Convert this dataframe to an interactive table.\"\n",
              "              style=\"display:none;\">\n",
              "        \n",
              "  <svg xmlns=\"http://www.w3.org/2000/svg\" height=\"24px\"viewBox=\"0 0 24 24\"\n",
              "       width=\"24px\">\n",
              "    <path d=\"M0 0h24v24H0V0z\" fill=\"none\"/>\n",
              "    <path d=\"M18.56 5.44l.94 2.06.94-2.06 2.06-.94-2.06-.94-.94-2.06-.94 2.06-2.06.94zm-11 1L8.5 8.5l.94-2.06 2.06-.94-2.06-.94L8.5 2.5l-.94 2.06-2.06.94zm10 10l.94 2.06.94-2.06 2.06-.94-2.06-.94-.94-2.06-.94 2.06-2.06.94z\"/><path d=\"M17.41 7.96l-1.37-1.37c-.4-.4-.92-.59-1.43-.59-.52 0-1.04.2-1.43.59L10.3 9.45l-7.72 7.72c-.78.78-.78 2.05 0 2.83L4 21.41c.39.39.9.59 1.41.59.51 0 1.02-.2 1.41-.59l7.78-7.78 2.81-2.81c.8-.78.8-2.07 0-2.86zM5.41 20L4 18.59l7.72-7.72 1.47 1.35L5.41 20z\"/>\n",
              "  </svg>\n",
              "      </button>\n",
              "      \n",
              "  <style>\n",
              "    .colab-df-container {\n",
              "      display:flex;\n",
              "      flex-wrap:wrap;\n",
              "      gap: 12px;\n",
              "    }\n",
              "\n",
              "    .colab-df-convert {\n",
              "      background-color: #E8F0FE;\n",
              "      border: none;\n",
              "      border-radius: 50%;\n",
              "      cursor: pointer;\n",
              "      display: none;\n",
              "      fill: #1967D2;\n",
              "      height: 32px;\n",
              "      padding: 0 0 0 0;\n",
              "      width: 32px;\n",
              "    }\n",
              "\n",
              "    .colab-df-convert:hover {\n",
              "      background-color: #E2EBFA;\n",
              "      box-shadow: 0px 1px 2px rgba(60, 64, 67, 0.3), 0px 1px 3px 1px rgba(60, 64, 67, 0.15);\n",
              "      fill: #174EA6;\n",
              "    }\n",
              "\n",
              "    [theme=dark] .colab-df-convert {\n",
              "      background-color: #3B4455;\n",
              "      fill: #D2E3FC;\n",
              "    }\n",
              "\n",
              "    [theme=dark] .colab-df-convert:hover {\n",
              "      background-color: #434B5C;\n",
              "      box-shadow: 0px 1px 3px 1px rgba(0, 0, 0, 0.15);\n",
              "      filter: drop-shadow(0px 1px 2px rgba(0, 0, 0, 0.3));\n",
              "      fill: #FFFFFF;\n",
              "    }\n",
              "  </style>\n",
              "\n",
              "      <script>\n",
              "        const buttonEl =\n",
              "          document.querySelector('#df-8bae036b-7888-4d22-9c88-6ada558761fe button.colab-df-convert');\n",
              "        buttonEl.style.display =\n",
              "          google.colab.kernel.accessAllowed ? 'block' : 'none';\n",
              "\n",
              "        async function convertToInteractive(key) {\n",
              "          const element = document.querySelector('#df-8bae036b-7888-4d22-9c88-6ada558761fe');\n",
              "          const dataTable =\n",
              "            await google.colab.kernel.invokeFunction('convertToInteractive',\n",
              "                                                     [key], {});\n",
              "          if (!dataTable) return;\n",
              "\n",
              "          const docLinkHtml = 'Like what you see? Visit the ' +\n",
              "            '<a target=\"_blank\" href=https://colab.research.google.com/notebooks/data_table.ipynb>data table notebook</a>'\n",
              "            + ' to learn more about interactive tables.';\n",
              "          element.innerHTML = '';\n",
              "          dataTable['output_type'] = 'display_data';\n",
              "          await google.colab.output.renderOutput(dataTable, element);\n",
              "          const docLink = document.createElement('div');\n",
              "          docLink.innerHTML = docLinkHtml;\n",
              "          element.appendChild(docLink);\n",
              "        }\n",
              "      </script>\n",
              "    </div>\n",
              "  </div>\n",
              "  "
            ]
          },
          "metadata": {},
          "execution_count": 43
        }
      ]
    },
    {
      "cell_type": "code",
      "source": [
        "df.drop(columns=['geometry'], inplace=True)"
      ],
      "metadata": {
        "id": "Z9oVXSNKNmjU"
      },
      "execution_count": null,
      "outputs": []
    },
    {
      "cell_type": "markdown",
      "source": [
        "Para cada modelo:\n",
        "\n",
        "- Lo *definimos*. \n",
        "\n",
        "- Lo *ajustamos* a los datos de train.\n",
        "\n",
        "- Lo *evaluamos* usado RMSE sobre los datos de test.\n",
        "\n",
        "- Lo *comparamos* con otros modelos."
      ],
      "metadata": {
        "id": "pWynVs_WOvMJ"
      }
    },
    {
      "cell_type": "code",
      "source": [
        "df_grouped = df.groupby(by = ['year', 'month']).size().reset_index()\n",
        "df_grouped['y'] = df_grouped[0]\n",
        "df_grouped.drop(columns=[0], inplace=True)\n",
        "#df_grouped = df_grouped.set_index('fecha')\n",
        "X = df_grouped[['year', 'month']]\n",
        "Y = df_grouped[['y']]\n",
        "\n",
        "print(X.columns)\n",
        "print(Y.columns)\n",
        "df_grouped"
      ],
      "metadata": {
        "colab": {
          "base_uri": "https://localhost:8080/",
          "height": 1000
        },
        "id": "GEJKalXBPao7",
        "outputId": "07ca7e35-6fba-497a-a961-cffc16dfde23"
      },
      "execution_count": null,
      "outputs": [
        {
          "output_type": "stream",
          "name": "stdout",
          "text": [
            "Index(['year', 'month'], dtype='object')\n",
            "Index(['y'], dtype='object')\n"
          ]
        },
        {
          "output_type": "execute_result",
          "data": {
            "text/plain": [
              "    year  month    y\n",
              "0   2015      1  587\n",
              "1   2015      2  661\n",
              "2   2015      3  817\n",
              "3   2015      4  799\n",
              "4   2015      5  839\n",
              "5   2015      6  699\n",
              "6   2015      7  767\n",
              "7   2015      8  722\n",
              "8   2015      9  809\n",
              "9   2015     10  728\n",
              "10  2015     11  757\n",
              "11  2015     12  645\n",
              "12  2016      1  572\n",
              "13  2016      2  633\n",
              "14  2016      3  794\n",
              "15  2016      4  692\n",
              "16  2016      5  854\n",
              "17  2016      6  768\n",
              "18  2016      7  678\n",
              "19  2016      8  739\n",
              "20  2016      9  737\n",
              "21  2016     10  737\n",
              "22  2016     11  753\n",
              "23  2016     12  712\n",
              "24  2017      1  662\n",
              "25  2017      2  642\n",
              "26  2017      3  672\n",
              "27  2017      4  569\n",
              "28  2017      5  812\n",
              "29  2017      6  715\n",
              "30  2017      7  717\n",
              "31  2017      8  728\n",
              "32  2017      9  707\n",
              "33  2017     10  780\n",
              "34  2017     11  831\n",
              "35  2017     12  802"
            ],
            "text/html": [
              "\n",
              "  <div id=\"df-1409455f-4da3-4c47-b3a9-304535722ba9\">\n",
              "    <div class=\"colab-df-container\">\n",
              "      <div>\n",
              "<style scoped>\n",
              "    .dataframe tbody tr th:only-of-type {\n",
              "        vertical-align: middle;\n",
              "    }\n",
              "\n",
              "    .dataframe tbody tr th {\n",
              "        vertical-align: top;\n",
              "    }\n",
              "\n",
              "    .dataframe thead th {\n",
              "        text-align: right;\n",
              "    }\n",
              "</style>\n",
              "<table border=\"1\" class=\"dataframe\">\n",
              "  <thead>\n",
              "    <tr style=\"text-align: right;\">\n",
              "      <th></th>\n",
              "      <th>year</th>\n",
              "      <th>month</th>\n",
              "      <th>y</th>\n",
              "    </tr>\n",
              "  </thead>\n",
              "  <tbody>\n",
              "    <tr>\n",
              "      <th>0</th>\n",
              "      <td>2015</td>\n",
              "      <td>1</td>\n",
              "      <td>587</td>\n",
              "    </tr>\n",
              "    <tr>\n",
              "      <th>1</th>\n",
              "      <td>2015</td>\n",
              "      <td>2</td>\n",
              "      <td>661</td>\n",
              "    </tr>\n",
              "    <tr>\n",
              "      <th>2</th>\n",
              "      <td>2015</td>\n",
              "      <td>3</td>\n",
              "      <td>817</td>\n",
              "    </tr>\n",
              "    <tr>\n",
              "      <th>3</th>\n",
              "      <td>2015</td>\n",
              "      <td>4</td>\n",
              "      <td>799</td>\n",
              "    </tr>\n",
              "    <tr>\n",
              "      <th>4</th>\n",
              "      <td>2015</td>\n",
              "      <td>5</td>\n",
              "      <td>839</td>\n",
              "    </tr>\n",
              "    <tr>\n",
              "      <th>5</th>\n",
              "      <td>2015</td>\n",
              "      <td>6</td>\n",
              "      <td>699</td>\n",
              "    </tr>\n",
              "    <tr>\n",
              "      <th>6</th>\n",
              "      <td>2015</td>\n",
              "      <td>7</td>\n",
              "      <td>767</td>\n",
              "    </tr>\n",
              "    <tr>\n",
              "      <th>7</th>\n",
              "      <td>2015</td>\n",
              "      <td>8</td>\n",
              "      <td>722</td>\n",
              "    </tr>\n",
              "    <tr>\n",
              "      <th>8</th>\n",
              "      <td>2015</td>\n",
              "      <td>9</td>\n",
              "      <td>809</td>\n",
              "    </tr>\n",
              "    <tr>\n",
              "      <th>9</th>\n",
              "      <td>2015</td>\n",
              "      <td>10</td>\n",
              "      <td>728</td>\n",
              "    </tr>\n",
              "    <tr>\n",
              "      <th>10</th>\n",
              "      <td>2015</td>\n",
              "      <td>11</td>\n",
              "      <td>757</td>\n",
              "    </tr>\n",
              "    <tr>\n",
              "      <th>11</th>\n",
              "      <td>2015</td>\n",
              "      <td>12</td>\n",
              "      <td>645</td>\n",
              "    </tr>\n",
              "    <tr>\n",
              "      <th>12</th>\n",
              "      <td>2016</td>\n",
              "      <td>1</td>\n",
              "      <td>572</td>\n",
              "    </tr>\n",
              "    <tr>\n",
              "      <th>13</th>\n",
              "      <td>2016</td>\n",
              "      <td>2</td>\n",
              "      <td>633</td>\n",
              "    </tr>\n",
              "    <tr>\n",
              "      <th>14</th>\n",
              "      <td>2016</td>\n",
              "      <td>3</td>\n",
              "      <td>794</td>\n",
              "    </tr>\n",
              "    <tr>\n",
              "      <th>15</th>\n",
              "      <td>2016</td>\n",
              "      <td>4</td>\n",
              "      <td>692</td>\n",
              "    </tr>\n",
              "    <tr>\n",
              "      <th>16</th>\n",
              "      <td>2016</td>\n",
              "      <td>5</td>\n",
              "      <td>854</td>\n",
              "    </tr>\n",
              "    <tr>\n",
              "      <th>17</th>\n",
              "      <td>2016</td>\n",
              "      <td>6</td>\n",
              "      <td>768</td>\n",
              "    </tr>\n",
              "    <tr>\n",
              "      <th>18</th>\n",
              "      <td>2016</td>\n",
              "      <td>7</td>\n",
              "      <td>678</td>\n",
              "    </tr>\n",
              "    <tr>\n",
              "      <th>19</th>\n",
              "      <td>2016</td>\n",
              "      <td>8</td>\n",
              "      <td>739</td>\n",
              "    </tr>\n",
              "    <tr>\n",
              "      <th>20</th>\n",
              "      <td>2016</td>\n",
              "      <td>9</td>\n",
              "      <td>737</td>\n",
              "    </tr>\n",
              "    <tr>\n",
              "      <th>21</th>\n",
              "      <td>2016</td>\n",
              "      <td>10</td>\n",
              "      <td>737</td>\n",
              "    </tr>\n",
              "    <tr>\n",
              "      <th>22</th>\n",
              "      <td>2016</td>\n",
              "      <td>11</td>\n",
              "      <td>753</td>\n",
              "    </tr>\n",
              "    <tr>\n",
              "      <th>23</th>\n",
              "      <td>2016</td>\n",
              "      <td>12</td>\n",
              "      <td>712</td>\n",
              "    </tr>\n",
              "    <tr>\n",
              "      <th>24</th>\n",
              "      <td>2017</td>\n",
              "      <td>1</td>\n",
              "      <td>662</td>\n",
              "    </tr>\n",
              "    <tr>\n",
              "      <th>25</th>\n",
              "      <td>2017</td>\n",
              "      <td>2</td>\n",
              "      <td>642</td>\n",
              "    </tr>\n",
              "    <tr>\n",
              "      <th>26</th>\n",
              "      <td>2017</td>\n",
              "      <td>3</td>\n",
              "      <td>672</td>\n",
              "    </tr>\n",
              "    <tr>\n",
              "      <th>27</th>\n",
              "      <td>2017</td>\n",
              "      <td>4</td>\n",
              "      <td>569</td>\n",
              "    </tr>\n",
              "    <tr>\n",
              "      <th>28</th>\n",
              "      <td>2017</td>\n",
              "      <td>5</td>\n",
              "      <td>812</td>\n",
              "    </tr>\n",
              "    <tr>\n",
              "      <th>29</th>\n",
              "      <td>2017</td>\n",
              "      <td>6</td>\n",
              "      <td>715</td>\n",
              "    </tr>\n",
              "    <tr>\n",
              "      <th>30</th>\n",
              "      <td>2017</td>\n",
              "      <td>7</td>\n",
              "      <td>717</td>\n",
              "    </tr>\n",
              "    <tr>\n",
              "      <th>31</th>\n",
              "      <td>2017</td>\n",
              "      <td>8</td>\n",
              "      <td>728</td>\n",
              "    </tr>\n",
              "    <tr>\n",
              "      <th>32</th>\n",
              "      <td>2017</td>\n",
              "      <td>9</td>\n",
              "      <td>707</td>\n",
              "    </tr>\n",
              "    <tr>\n",
              "      <th>33</th>\n",
              "      <td>2017</td>\n",
              "      <td>10</td>\n",
              "      <td>780</td>\n",
              "    </tr>\n",
              "    <tr>\n",
              "      <th>34</th>\n",
              "      <td>2017</td>\n",
              "      <td>11</td>\n",
              "      <td>831</td>\n",
              "    </tr>\n",
              "    <tr>\n",
              "      <th>35</th>\n",
              "      <td>2017</td>\n",
              "      <td>12</td>\n",
              "      <td>802</td>\n",
              "    </tr>\n",
              "  </tbody>\n",
              "</table>\n",
              "</div>\n",
              "      <button class=\"colab-df-convert\" onclick=\"convertToInteractive('df-1409455f-4da3-4c47-b3a9-304535722ba9')\"\n",
              "              title=\"Convert this dataframe to an interactive table.\"\n",
              "              style=\"display:none;\">\n",
              "        \n",
              "  <svg xmlns=\"http://www.w3.org/2000/svg\" height=\"24px\"viewBox=\"0 0 24 24\"\n",
              "       width=\"24px\">\n",
              "    <path d=\"M0 0h24v24H0V0z\" fill=\"none\"/>\n",
              "    <path d=\"M18.56 5.44l.94 2.06.94-2.06 2.06-.94-2.06-.94-.94-2.06-.94 2.06-2.06.94zm-11 1L8.5 8.5l.94-2.06 2.06-.94-2.06-.94L8.5 2.5l-.94 2.06-2.06.94zm10 10l.94 2.06.94-2.06 2.06-.94-2.06-.94-.94-2.06-.94 2.06-2.06.94z\"/><path d=\"M17.41 7.96l-1.37-1.37c-.4-.4-.92-.59-1.43-.59-.52 0-1.04.2-1.43.59L10.3 9.45l-7.72 7.72c-.78.78-.78 2.05 0 2.83L4 21.41c.39.39.9.59 1.41.59.51 0 1.02-.2 1.41-.59l7.78-7.78 2.81-2.81c.8-.78.8-2.07 0-2.86zM5.41 20L4 18.59l7.72-7.72 1.47 1.35L5.41 20z\"/>\n",
              "  </svg>\n",
              "      </button>\n",
              "      \n",
              "  <style>\n",
              "    .colab-df-container {\n",
              "      display:flex;\n",
              "      flex-wrap:wrap;\n",
              "      gap: 12px;\n",
              "    }\n",
              "\n",
              "    .colab-df-convert {\n",
              "      background-color: #E8F0FE;\n",
              "      border: none;\n",
              "      border-radius: 50%;\n",
              "      cursor: pointer;\n",
              "      display: none;\n",
              "      fill: #1967D2;\n",
              "      height: 32px;\n",
              "      padding: 0 0 0 0;\n",
              "      width: 32px;\n",
              "    }\n",
              "\n",
              "    .colab-df-convert:hover {\n",
              "      background-color: #E2EBFA;\n",
              "      box-shadow: 0px 1px 2px rgba(60, 64, 67, 0.3), 0px 1px 3px 1px rgba(60, 64, 67, 0.15);\n",
              "      fill: #174EA6;\n",
              "    }\n",
              "\n",
              "    [theme=dark] .colab-df-convert {\n",
              "      background-color: #3B4455;\n",
              "      fill: #D2E3FC;\n",
              "    }\n",
              "\n",
              "    [theme=dark] .colab-df-convert:hover {\n",
              "      background-color: #434B5C;\n",
              "      box-shadow: 0px 1px 3px 1px rgba(0, 0, 0, 0.15);\n",
              "      filter: drop-shadow(0px 1px 2px rgba(0, 0, 0, 0.3));\n",
              "      fill: #FFFFFF;\n",
              "    }\n",
              "  </style>\n",
              "\n",
              "      <script>\n",
              "        const buttonEl =\n",
              "          document.querySelector('#df-1409455f-4da3-4c47-b3a9-304535722ba9 button.colab-df-convert');\n",
              "        buttonEl.style.display =\n",
              "          google.colab.kernel.accessAllowed ? 'block' : 'none';\n",
              "\n",
              "        async function convertToInteractive(key) {\n",
              "          const element = document.querySelector('#df-1409455f-4da3-4c47-b3a9-304535722ba9');\n",
              "          const dataTable =\n",
              "            await google.colab.kernel.invokeFunction('convertToInteractive',\n",
              "                                                     [key], {});\n",
              "          if (!dataTable) return;\n",
              "\n",
              "          const docLinkHtml = 'Like what you see? Visit the ' +\n",
              "            '<a target=\"_blank\" href=https://colab.research.google.com/notebooks/data_table.ipynb>data table notebook</a>'\n",
              "            + ' to learn more about interactive tables.';\n",
              "          element.innerHTML = '';\n",
              "          dataTable['output_type'] = 'display_data';\n",
              "          await google.colab.output.renderOutput(dataTable, element);\n",
              "          const docLink = document.createElement('div');\n",
              "          docLink.innerHTML = docLinkHtml;\n",
              "          element.appendChild(docLink);\n",
              "        }\n",
              "      </script>\n",
              "    </div>\n",
              "  </div>\n",
              "  "
            ]
          },
          "metadata": {},
          "execution_count": 45
        }
      ]
    },
    {
      "cell_type": "code",
      "source": [
        "df_grouped['year_month'] = df_grouped.apply(lambda row: date(int(row['year']),int(row['month']),1), axis =1 )"
      ],
      "metadata": {
        "id": "DgXg19GKarL1"
      },
      "execution_count": null,
      "outputs": []
    },
    {
      "cell_type": "code",
      "source": [
        "df_grouped['year_month_last_year'] = df_grouped['year_month'] - relativedelta(years = 1)"
      ],
      "metadata": {
        "id": "x5YUJFHzarJx"
      },
      "execution_count": null,
      "outputs": []
    },
    {
      "cell_type": "code",
      "source": [
        "df_grouped.reset_index(drop = True, inplace = True)\n",
        "df_grouped['year_month'] = pd.to_datetime(df_grouped['year_month'])"
      ],
      "metadata": {
        "id": "Yp1NNZnVarEa"
      },
      "execution_count": null,
      "outputs": []
    },
    {
      "cell_type": "code",
      "source": [
        "date_time_index = pd.date_range('2015-01-01','2017-12-01', freq = 'MS')"
      ],
      "metadata": {
        "id": "9FvI_d8baqDE"
      },
      "execution_count": null,
      "outputs": []
    },
    {
      "cell_type": "code",
      "source": [
        "df_grouped = df_grouped.set_index(date_time_index)"
      ],
      "metadata": {
        "id": "MuUWrk4-bUSt"
      },
      "execution_count": null,
      "outputs": []
    },
    {
      "cell_type": "code",
      "source": [
        "df_grouped"
      ],
      "metadata": {
        "colab": {
          "base_uri": "https://localhost:8080/",
          "height": 1000
        },
        "id": "jJNQpvgcbxDf",
        "outputId": "fd27d869-45ed-4037-ccde-b2c3b7b37ead"
      },
      "execution_count": null,
      "outputs": [
        {
          "output_type": "execute_result",
          "data": {
            "text/plain": [
              "            year  month    y year_month year_month_last_year\n",
              "2015-01-01  2015      1  587 2015-01-01           2014-01-01\n",
              "2015-02-01  2015      2  661 2015-02-01           2014-02-01\n",
              "2015-03-01  2015      3  817 2015-03-01           2014-03-01\n",
              "2015-04-01  2015      4  799 2015-04-01           2014-04-01\n",
              "2015-05-01  2015      5  839 2015-05-01           2014-05-01\n",
              "2015-06-01  2015      6  699 2015-06-01           2014-06-01\n",
              "2015-07-01  2015      7  767 2015-07-01           2014-07-01\n",
              "2015-08-01  2015      8  722 2015-08-01           2014-08-01\n",
              "2015-09-01  2015      9  809 2015-09-01           2014-09-01\n",
              "2015-10-01  2015     10  728 2015-10-01           2014-10-01\n",
              "2015-11-01  2015     11  757 2015-11-01           2014-11-01\n",
              "2015-12-01  2015     12  645 2015-12-01           2014-12-01\n",
              "2016-01-01  2016      1  572 2016-01-01           2015-01-01\n",
              "2016-02-01  2016      2  633 2016-02-01           2015-02-01\n",
              "2016-03-01  2016      3  794 2016-03-01           2015-03-01\n",
              "2016-04-01  2016      4  692 2016-04-01           2015-04-01\n",
              "2016-05-01  2016      5  854 2016-05-01           2015-05-01\n",
              "2016-06-01  2016      6  768 2016-06-01           2015-06-01\n",
              "2016-07-01  2016      7  678 2016-07-01           2015-07-01\n",
              "2016-08-01  2016      8  739 2016-08-01           2015-08-01\n",
              "2016-09-01  2016      9  737 2016-09-01           2015-09-01\n",
              "2016-10-01  2016     10  737 2016-10-01           2015-10-01\n",
              "2016-11-01  2016     11  753 2016-11-01           2015-11-01\n",
              "2016-12-01  2016     12  712 2016-12-01           2015-12-01\n",
              "2017-01-01  2017      1  662 2017-01-01           2016-01-01\n",
              "2017-02-01  2017      2  642 2017-02-01           2016-02-01\n",
              "2017-03-01  2017      3  672 2017-03-01           2016-03-01\n",
              "2017-04-01  2017      4  569 2017-04-01           2016-04-01\n",
              "2017-05-01  2017      5  812 2017-05-01           2016-05-01\n",
              "2017-06-01  2017      6  715 2017-06-01           2016-06-01\n",
              "2017-07-01  2017      7  717 2017-07-01           2016-07-01\n",
              "2017-08-01  2017      8  728 2017-08-01           2016-08-01\n",
              "2017-09-01  2017      9  707 2017-09-01           2016-09-01\n",
              "2017-10-01  2017     10  780 2017-10-01           2016-10-01\n",
              "2017-11-01  2017     11  831 2017-11-01           2016-11-01\n",
              "2017-12-01  2017     12  802 2017-12-01           2016-12-01"
            ],
            "text/html": [
              "\n",
              "  <div id=\"df-1139f23d-a374-4a97-8a18-175ccaf77422\">\n",
              "    <div class=\"colab-df-container\">\n",
              "      <div>\n",
              "<style scoped>\n",
              "    .dataframe tbody tr th:only-of-type {\n",
              "        vertical-align: middle;\n",
              "    }\n",
              "\n",
              "    .dataframe tbody tr th {\n",
              "        vertical-align: top;\n",
              "    }\n",
              "\n",
              "    .dataframe thead th {\n",
              "        text-align: right;\n",
              "    }\n",
              "</style>\n",
              "<table border=\"1\" class=\"dataframe\">\n",
              "  <thead>\n",
              "    <tr style=\"text-align: right;\">\n",
              "      <th></th>\n",
              "      <th>year</th>\n",
              "      <th>month</th>\n",
              "      <th>y</th>\n",
              "      <th>year_month</th>\n",
              "      <th>year_month_last_year</th>\n",
              "    </tr>\n",
              "  </thead>\n",
              "  <tbody>\n",
              "    <tr>\n",
              "      <th>2015-01-01</th>\n",
              "      <td>2015</td>\n",
              "      <td>1</td>\n",
              "      <td>587</td>\n",
              "      <td>2015-01-01</td>\n",
              "      <td>2014-01-01</td>\n",
              "    </tr>\n",
              "    <tr>\n",
              "      <th>2015-02-01</th>\n",
              "      <td>2015</td>\n",
              "      <td>2</td>\n",
              "      <td>661</td>\n",
              "      <td>2015-02-01</td>\n",
              "      <td>2014-02-01</td>\n",
              "    </tr>\n",
              "    <tr>\n",
              "      <th>2015-03-01</th>\n",
              "      <td>2015</td>\n",
              "      <td>3</td>\n",
              "      <td>817</td>\n",
              "      <td>2015-03-01</td>\n",
              "      <td>2014-03-01</td>\n",
              "    </tr>\n",
              "    <tr>\n",
              "      <th>2015-04-01</th>\n",
              "      <td>2015</td>\n",
              "      <td>4</td>\n",
              "      <td>799</td>\n",
              "      <td>2015-04-01</td>\n",
              "      <td>2014-04-01</td>\n",
              "    </tr>\n",
              "    <tr>\n",
              "      <th>2015-05-01</th>\n",
              "      <td>2015</td>\n",
              "      <td>5</td>\n",
              "      <td>839</td>\n",
              "      <td>2015-05-01</td>\n",
              "      <td>2014-05-01</td>\n",
              "    </tr>\n",
              "    <tr>\n",
              "      <th>2015-06-01</th>\n",
              "      <td>2015</td>\n",
              "      <td>6</td>\n",
              "      <td>699</td>\n",
              "      <td>2015-06-01</td>\n",
              "      <td>2014-06-01</td>\n",
              "    </tr>\n",
              "    <tr>\n",
              "      <th>2015-07-01</th>\n",
              "      <td>2015</td>\n",
              "      <td>7</td>\n",
              "      <td>767</td>\n",
              "      <td>2015-07-01</td>\n",
              "      <td>2014-07-01</td>\n",
              "    </tr>\n",
              "    <tr>\n",
              "      <th>2015-08-01</th>\n",
              "      <td>2015</td>\n",
              "      <td>8</td>\n",
              "      <td>722</td>\n",
              "      <td>2015-08-01</td>\n",
              "      <td>2014-08-01</td>\n",
              "    </tr>\n",
              "    <tr>\n",
              "      <th>2015-09-01</th>\n",
              "      <td>2015</td>\n",
              "      <td>9</td>\n",
              "      <td>809</td>\n",
              "      <td>2015-09-01</td>\n",
              "      <td>2014-09-01</td>\n",
              "    </tr>\n",
              "    <tr>\n",
              "      <th>2015-10-01</th>\n",
              "      <td>2015</td>\n",
              "      <td>10</td>\n",
              "      <td>728</td>\n",
              "      <td>2015-10-01</td>\n",
              "      <td>2014-10-01</td>\n",
              "    </tr>\n",
              "    <tr>\n",
              "      <th>2015-11-01</th>\n",
              "      <td>2015</td>\n",
              "      <td>11</td>\n",
              "      <td>757</td>\n",
              "      <td>2015-11-01</td>\n",
              "      <td>2014-11-01</td>\n",
              "    </tr>\n",
              "    <tr>\n",
              "      <th>2015-12-01</th>\n",
              "      <td>2015</td>\n",
              "      <td>12</td>\n",
              "      <td>645</td>\n",
              "      <td>2015-12-01</td>\n",
              "      <td>2014-12-01</td>\n",
              "    </tr>\n",
              "    <tr>\n",
              "      <th>2016-01-01</th>\n",
              "      <td>2016</td>\n",
              "      <td>1</td>\n",
              "      <td>572</td>\n",
              "      <td>2016-01-01</td>\n",
              "      <td>2015-01-01</td>\n",
              "    </tr>\n",
              "    <tr>\n",
              "      <th>2016-02-01</th>\n",
              "      <td>2016</td>\n",
              "      <td>2</td>\n",
              "      <td>633</td>\n",
              "      <td>2016-02-01</td>\n",
              "      <td>2015-02-01</td>\n",
              "    </tr>\n",
              "    <tr>\n",
              "      <th>2016-03-01</th>\n",
              "      <td>2016</td>\n",
              "      <td>3</td>\n",
              "      <td>794</td>\n",
              "      <td>2016-03-01</td>\n",
              "      <td>2015-03-01</td>\n",
              "    </tr>\n",
              "    <tr>\n",
              "      <th>2016-04-01</th>\n",
              "      <td>2016</td>\n",
              "      <td>4</td>\n",
              "      <td>692</td>\n",
              "      <td>2016-04-01</td>\n",
              "      <td>2015-04-01</td>\n",
              "    </tr>\n",
              "    <tr>\n",
              "      <th>2016-05-01</th>\n",
              "      <td>2016</td>\n",
              "      <td>5</td>\n",
              "      <td>854</td>\n",
              "      <td>2016-05-01</td>\n",
              "      <td>2015-05-01</td>\n",
              "    </tr>\n",
              "    <tr>\n",
              "      <th>2016-06-01</th>\n",
              "      <td>2016</td>\n",
              "      <td>6</td>\n",
              "      <td>768</td>\n",
              "      <td>2016-06-01</td>\n",
              "      <td>2015-06-01</td>\n",
              "    </tr>\n",
              "    <tr>\n",
              "      <th>2016-07-01</th>\n",
              "      <td>2016</td>\n",
              "      <td>7</td>\n",
              "      <td>678</td>\n",
              "      <td>2016-07-01</td>\n",
              "      <td>2015-07-01</td>\n",
              "    </tr>\n",
              "    <tr>\n",
              "      <th>2016-08-01</th>\n",
              "      <td>2016</td>\n",
              "      <td>8</td>\n",
              "      <td>739</td>\n",
              "      <td>2016-08-01</td>\n",
              "      <td>2015-08-01</td>\n",
              "    </tr>\n",
              "    <tr>\n",
              "      <th>2016-09-01</th>\n",
              "      <td>2016</td>\n",
              "      <td>9</td>\n",
              "      <td>737</td>\n",
              "      <td>2016-09-01</td>\n",
              "      <td>2015-09-01</td>\n",
              "    </tr>\n",
              "    <tr>\n",
              "      <th>2016-10-01</th>\n",
              "      <td>2016</td>\n",
              "      <td>10</td>\n",
              "      <td>737</td>\n",
              "      <td>2016-10-01</td>\n",
              "      <td>2015-10-01</td>\n",
              "    </tr>\n",
              "    <tr>\n",
              "      <th>2016-11-01</th>\n",
              "      <td>2016</td>\n",
              "      <td>11</td>\n",
              "      <td>753</td>\n",
              "      <td>2016-11-01</td>\n",
              "      <td>2015-11-01</td>\n",
              "    </tr>\n",
              "    <tr>\n",
              "      <th>2016-12-01</th>\n",
              "      <td>2016</td>\n",
              "      <td>12</td>\n",
              "      <td>712</td>\n",
              "      <td>2016-12-01</td>\n",
              "      <td>2015-12-01</td>\n",
              "    </tr>\n",
              "    <tr>\n",
              "      <th>2017-01-01</th>\n",
              "      <td>2017</td>\n",
              "      <td>1</td>\n",
              "      <td>662</td>\n",
              "      <td>2017-01-01</td>\n",
              "      <td>2016-01-01</td>\n",
              "    </tr>\n",
              "    <tr>\n",
              "      <th>2017-02-01</th>\n",
              "      <td>2017</td>\n",
              "      <td>2</td>\n",
              "      <td>642</td>\n",
              "      <td>2017-02-01</td>\n",
              "      <td>2016-02-01</td>\n",
              "    </tr>\n",
              "    <tr>\n",
              "      <th>2017-03-01</th>\n",
              "      <td>2017</td>\n",
              "      <td>3</td>\n",
              "      <td>672</td>\n",
              "      <td>2017-03-01</td>\n",
              "      <td>2016-03-01</td>\n",
              "    </tr>\n",
              "    <tr>\n",
              "      <th>2017-04-01</th>\n",
              "      <td>2017</td>\n",
              "      <td>4</td>\n",
              "      <td>569</td>\n",
              "      <td>2017-04-01</td>\n",
              "      <td>2016-04-01</td>\n",
              "    </tr>\n",
              "    <tr>\n",
              "      <th>2017-05-01</th>\n",
              "      <td>2017</td>\n",
              "      <td>5</td>\n",
              "      <td>812</td>\n",
              "      <td>2017-05-01</td>\n",
              "      <td>2016-05-01</td>\n",
              "    </tr>\n",
              "    <tr>\n",
              "      <th>2017-06-01</th>\n",
              "      <td>2017</td>\n",
              "      <td>6</td>\n",
              "      <td>715</td>\n",
              "      <td>2017-06-01</td>\n",
              "      <td>2016-06-01</td>\n",
              "    </tr>\n",
              "    <tr>\n",
              "      <th>2017-07-01</th>\n",
              "      <td>2017</td>\n",
              "      <td>7</td>\n",
              "      <td>717</td>\n",
              "      <td>2017-07-01</td>\n",
              "      <td>2016-07-01</td>\n",
              "    </tr>\n",
              "    <tr>\n",
              "      <th>2017-08-01</th>\n",
              "      <td>2017</td>\n",
              "      <td>8</td>\n",
              "      <td>728</td>\n",
              "      <td>2017-08-01</td>\n",
              "      <td>2016-08-01</td>\n",
              "    </tr>\n",
              "    <tr>\n",
              "      <th>2017-09-01</th>\n",
              "      <td>2017</td>\n",
              "      <td>9</td>\n",
              "      <td>707</td>\n",
              "      <td>2017-09-01</td>\n",
              "      <td>2016-09-01</td>\n",
              "    </tr>\n",
              "    <tr>\n",
              "      <th>2017-10-01</th>\n",
              "      <td>2017</td>\n",
              "      <td>10</td>\n",
              "      <td>780</td>\n",
              "      <td>2017-10-01</td>\n",
              "      <td>2016-10-01</td>\n",
              "    </tr>\n",
              "    <tr>\n",
              "      <th>2017-11-01</th>\n",
              "      <td>2017</td>\n",
              "      <td>11</td>\n",
              "      <td>831</td>\n",
              "      <td>2017-11-01</td>\n",
              "      <td>2016-11-01</td>\n",
              "    </tr>\n",
              "    <tr>\n",
              "      <th>2017-12-01</th>\n",
              "      <td>2017</td>\n",
              "      <td>12</td>\n",
              "      <td>802</td>\n",
              "      <td>2017-12-01</td>\n",
              "      <td>2016-12-01</td>\n",
              "    </tr>\n",
              "  </tbody>\n",
              "</table>\n",
              "</div>\n",
              "      <button class=\"colab-df-convert\" onclick=\"convertToInteractive('df-1139f23d-a374-4a97-8a18-175ccaf77422')\"\n",
              "              title=\"Convert this dataframe to an interactive table.\"\n",
              "              style=\"display:none;\">\n",
              "        \n",
              "  <svg xmlns=\"http://www.w3.org/2000/svg\" height=\"24px\"viewBox=\"0 0 24 24\"\n",
              "       width=\"24px\">\n",
              "    <path d=\"M0 0h24v24H0V0z\" fill=\"none\"/>\n",
              "    <path d=\"M18.56 5.44l.94 2.06.94-2.06 2.06-.94-2.06-.94-.94-2.06-.94 2.06-2.06.94zm-11 1L8.5 8.5l.94-2.06 2.06-.94-2.06-.94L8.5 2.5l-.94 2.06-2.06.94zm10 10l.94 2.06.94-2.06 2.06-.94-2.06-.94-.94-2.06-.94 2.06-2.06.94z\"/><path d=\"M17.41 7.96l-1.37-1.37c-.4-.4-.92-.59-1.43-.59-.52 0-1.04.2-1.43.59L10.3 9.45l-7.72 7.72c-.78.78-.78 2.05 0 2.83L4 21.41c.39.39.9.59 1.41.59.51 0 1.02-.2 1.41-.59l7.78-7.78 2.81-2.81c.8-.78.8-2.07 0-2.86zM5.41 20L4 18.59l7.72-7.72 1.47 1.35L5.41 20z\"/>\n",
              "  </svg>\n",
              "      </button>\n",
              "      \n",
              "  <style>\n",
              "    .colab-df-container {\n",
              "      display:flex;\n",
              "      flex-wrap:wrap;\n",
              "      gap: 12px;\n",
              "    }\n",
              "\n",
              "    .colab-df-convert {\n",
              "      background-color: #E8F0FE;\n",
              "      border: none;\n",
              "      border-radius: 50%;\n",
              "      cursor: pointer;\n",
              "      display: none;\n",
              "      fill: #1967D2;\n",
              "      height: 32px;\n",
              "      padding: 0 0 0 0;\n",
              "      width: 32px;\n",
              "    }\n",
              "\n",
              "    .colab-df-convert:hover {\n",
              "      background-color: #E2EBFA;\n",
              "      box-shadow: 0px 1px 2px rgba(60, 64, 67, 0.3), 0px 1px 3px 1px rgba(60, 64, 67, 0.15);\n",
              "      fill: #174EA6;\n",
              "    }\n",
              "\n",
              "    [theme=dark] .colab-df-convert {\n",
              "      background-color: #3B4455;\n",
              "      fill: #D2E3FC;\n",
              "    }\n",
              "\n",
              "    [theme=dark] .colab-df-convert:hover {\n",
              "      background-color: #434B5C;\n",
              "      box-shadow: 0px 1px 3px 1px rgba(0, 0, 0, 0.15);\n",
              "      filter: drop-shadow(0px 1px 2px rgba(0, 0, 0, 0.3));\n",
              "      fill: #FFFFFF;\n",
              "    }\n",
              "  </style>\n",
              "\n",
              "      <script>\n",
              "        const buttonEl =\n",
              "          document.querySelector('#df-1139f23d-a374-4a97-8a18-175ccaf77422 button.colab-df-convert');\n",
              "        buttonEl.style.display =\n",
              "          google.colab.kernel.accessAllowed ? 'block' : 'none';\n",
              "\n",
              "        async function convertToInteractive(key) {\n",
              "          const element = document.querySelector('#df-1139f23d-a374-4a97-8a18-175ccaf77422');\n",
              "          const dataTable =\n",
              "            await google.colab.kernel.invokeFunction('convertToInteractive',\n",
              "                                                     [key], {});\n",
              "          if (!dataTable) return;\n",
              "\n",
              "          const docLinkHtml = 'Like what you see? Visit the ' +\n",
              "            '<a target=\"_blank\" href=https://colab.research.google.com/notebooks/data_table.ipynb>data table notebook</a>'\n",
              "            + ' to learn more about interactive tables.';\n",
              "          element.innerHTML = '';\n",
              "          dataTable['output_type'] = 'display_data';\n",
              "          await google.colab.output.renderOutput(dataTable, element);\n",
              "          const docLink = document.createElement('div');\n",
              "          docLink.innerHTML = docLinkHtml;\n",
              "          element.appendChild(docLink);\n",
              "        }\n",
              "      </script>\n",
              "    </div>\n",
              "  </div>\n",
              "  "
            ]
          },
          "metadata": {},
          "execution_count": 51
        }
      ]
    },
    {
      "cell_type": "code",
      "source": [
        "import statsmodels.api as sm\n",
        "plt.figure(figsize=(16,10))\n",
        "decomposition = sm.tsa.seasonal_decompose(df_grouped['y'], model='additive')\n",
        "decomposition.plot()\n",
        "plt.show()"
      ],
      "metadata": {
        "colab": {
          "base_uri": "https://localhost:8080/",
          "height": 315
        },
        "id": "CNZJJX-jcsvi",
        "outputId": "1cda7c0a-d294-4766-9e45-437dc748596f"
      },
      "execution_count": null,
      "outputs": [
        {
          "output_type": "display_data",
          "data": {
            "text/plain": [
              "<Figure size 1152x720 with 0 Axes>"
            ]
          },
          "metadata": {}
        },
        {
          "output_type": "display_data",
          "data": {
            "text/plain": [
              "<Figure size 432x288 with 4 Axes>"
            ],
            "image/png": "[encoded data removed]"
          },
          "metadata": {
            "needs_background": "light"
          }
        }
      ]
    },
    {
      "cell_type": "code",
      "source": [
        "def RMSE(predicted, actual):\n",
        "    mse = (predicted - actual) ** 2\n",
        "    rmse = np.sqrt(mse.sum() / mse.count())\n",
        "    return rmse"
      ],
      "metadata": {
        "id": "hx8zJzx3On-j"
      },
      "execution_count": null,
      "outputs": []
    },
    {
      "cell_type": "code",
      "source": [
        "from sklearn.model_selection import train_test_split\n",
        "\n",
        "df_train, df_test = train_test_split(df_grouped, test_size=12, random_state=42, shuffle=False)"
      ],
      "metadata": {
        "id": "9a0NMEF1RTyd"
      },
      "execution_count": null,
      "outputs": []
    },
    {
      "cell_type": "code",
      "source": [
        "df_train"
      ],
      "metadata": {
        "colab": {
          "base_uri": "https://localhost:8080/",
          "height": 793
        },
        "id": "SIGrjuJERfLd",
        "outputId": "0d7ab372-62cd-4fd8-db18-172fe1296009"
      },
      "execution_count": null,
      "outputs": [
        {
          "output_type": "execute_result",
          "data": {
            "text/plain": [
              "            year  month    y year_month year_month_last_year\n",
              "2015-01-01  2015      1  587 2015-01-01           2014-01-01\n",
              "2015-02-01  2015      2  661 2015-02-01           2014-02-01\n",
              "2015-03-01  2015      3  817 2015-03-01           2014-03-01\n",
              "2015-04-01  2015      4  799 2015-04-01           2014-04-01\n",
              "2015-05-01  2015      5  839 2015-05-01           2014-05-01\n",
              "2015-06-01  2015      6  699 2015-06-01           2014-06-01\n",
              "2015-07-01  2015      7  767 2015-07-01           2014-07-01\n",
              "2015-08-01  2015      8  722 2015-08-01           2014-08-01\n",
              "2015-09-01  2015      9  809 2015-09-01           2014-09-01\n",
              "2015-10-01  2015     10  728 2015-10-01           2014-10-01\n",
              "2015-11-01  2015     11  757 2015-11-01           2014-11-01\n",
              "2015-12-01  2015     12  645 2015-12-01           2014-12-01\n",
              "2016-01-01  2016      1  572 2016-01-01           2015-01-01\n",
              "2016-02-01  2016      2  633 2016-02-01           2015-02-01\n",
              "2016-03-01  2016      3  794 2016-03-01           2015-03-01\n",
              "2016-04-01  2016      4  692 2016-04-01           2015-04-01\n",
              "2016-05-01  2016      5  854 2016-05-01           2015-05-01\n",
              "2016-06-01  2016      6  768 2016-06-01           2015-06-01\n",
              "2016-07-01  2016      7  678 2016-07-01           2015-07-01\n",
              "2016-08-01  2016      8  739 2016-08-01           2015-08-01\n",
              "2016-09-01  2016      9  737 2016-09-01           2015-09-01\n",
              "2016-10-01  2016     10  737 2016-10-01           2015-10-01\n",
              "2016-11-01  2016     11  753 2016-11-01           2015-11-01\n",
              "2016-12-01  2016     12  712 2016-12-01           2015-12-01"
            ],
            "text/html": [
              "\n",
              "  <div id=\"df-41cdf8aa-4059-466b-bec2-471e8d5f0a66\">\n",
              "    <div class=\"colab-df-container\">\n",
              "      <div>\n",
              "<style scoped>\n",
              "    .dataframe tbody tr th:only-of-type {\n",
              "        vertical-align: middle;\n",
              "    }\n",
              "\n",
              "    .dataframe tbody tr th {\n",
              "        vertical-align: top;\n",
              "    }\n",
              "\n",
              "    .dataframe thead th {\n",
              "        text-align: right;\n",
              "    }\n",
              "</style>\n",
              "<table border=\"1\" class=\"dataframe\">\n",
              "  <thead>\n",
              "    <tr style=\"text-align: right;\">\n",
              "      <th></th>\n",
              "      <th>year</th>\n",
              "      <th>month</th>\n",
              "      <th>y</th>\n",
              "      <th>year_month</th>\n",
              "      <th>year_month_last_year</th>\n",
              "    </tr>\n",
              "  </thead>\n",
              "  <tbody>\n",
              "    <tr>\n",
              "      <th>2015-01-01</th>\n",
              "      <td>2015</td>\n",
              "      <td>1</td>\n",
              "      <td>587</td>\n",
              "      <td>2015-01-01</td>\n",
              "      <td>2014-01-01</td>\n",
              "    </tr>\n",
              "    <tr>\n",
              "      <th>2015-02-01</th>\n",
              "      <td>2015</td>\n",
              "      <td>2</td>\n",
              "      <td>661</td>\n",
              "      <td>2015-02-01</td>\n",
              "      <td>2014-02-01</td>\n",
              "    </tr>\n",
              "    <tr>\n",
              "      <th>2015-03-01</th>\n",
              "      <td>2015</td>\n",
              "      <td>3</td>\n",
              "      <td>817</td>\n",
              "      <td>2015-03-01</td>\n",
              "      <td>2014-03-01</td>\n",
              "    </tr>\n",
              "    <tr>\n",
              "      <th>2015-04-01</th>\n",
              "      <td>2015</td>\n",
              "      <td>4</td>\n",
              "      <td>799</td>\n",
              "      <td>2015-04-01</td>\n",
              "      <td>2014-04-01</td>\n",
              "    </tr>\n",
              "    <tr>\n",
              "      <th>2015-05-01</th>\n",
              "      <td>2015</td>\n",
              "      <td>5</td>\n",
              "      <td>839</td>\n",
              "      <td>2015-05-01</td>\n",
              "      <td>2014-05-01</td>\n",
              "    </tr>\n",
              "    <tr>\n",
              "      <th>2015-06-01</th>\n",
              "      <td>2015</td>\n",
              "      <td>6</td>\n",
              "      <td>699</td>\n",
              "      <td>2015-06-01</td>\n",
              "      <td>2014-06-01</td>\n",
              "    </tr>\n",
              "    <tr>\n",
              "      <th>2015-07-01</th>\n",
              "      <td>2015</td>\n",
              "      <td>7</td>\n",
              "      <td>767</td>\n",
              "      <td>2015-07-01</td>\n",
              "      <td>2014-07-01</td>\n",
              "    </tr>\n",
              "    <tr>\n",
              "      <th>2015-08-01</th>\n",
              "      <td>2015</td>\n",
              "      <td>8</td>\n",
              "      <td>722</td>\n",
              "      <td>2015-08-01</td>\n",
              "      <td>2014-08-01</td>\n",
              "    </tr>\n",
              "    <tr>\n",
              "      <th>2015-09-01</th>\n",
              "      <td>2015</td>\n",
              "      <td>9</td>\n",
              "      <td>809</td>\n",
              "      <td>2015-09-01</td>\n",
              "      <td>2014-09-01</td>\n",
              "    </tr>\n",
              "    <tr>\n",
              "      <th>2015-10-01</th>\n",
              "      <td>2015</td>\n",
              "      <td>10</td>\n",
              "      <td>728</td>\n",
              "      <td>2015-10-01</td>\n",
              "      <td>2014-10-01</td>\n",
              "    </tr>\n",
              "    <tr>\n",
              "      <th>2015-11-01</th>\n",
              "      <td>2015</td>\n",
              "      <td>11</td>\n",
              "      <td>757</td>\n",
              "      <td>2015-11-01</td>\n",
              "      <td>2014-11-01</td>\n",
              "    </tr>\n",
              "    <tr>\n",
              "      <th>2015-12-01</th>\n",
              "      <td>2015</td>\n",
              "      <td>12</td>\n",
              "      <td>645</td>\n",
              "      <td>2015-12-01</td>\n",
              "      <td>2014-12-01</td>\n",
              "    </tr>\n",
              "    <tr>\n",
              "      <th>2016-01-01</th>\n",
              "      <td>2016</td>\n",
              "      <td>1</td>\n",
              "      <td>572</td>\n",
              "      <td>2016-01-01</td>\n",
              "      <td>2015-01-01</td>\n",
              "    </tr>\n",
              "    <tr>\n",
              "      <th>2016-02-01</th>\n",
              "      <td>2016</td>\n",
              "      <td>2</td>\n",
              "      <td>633</td>\n",
              "      <td>2016-02-01</td>\n",
              "      <td>2015-02-01</td>\n",
              "    </tr>\n",
              "    <tr>\n",
              "      <th>2016-03-01</th>\n",
              "      <td>2016</td>\n",
              "      <td>3</td>\n",
              "      <td>794</td>\n",
              "      <td>2016-03-01</td>\n",
              "      <td>2015-03-01</td>\n",
              "    </tr>\n",
              "    <tr>\n",
              "      <th>2016-04-01</th>\n",
              "      <td>2016</td>\n",
              "      <td>4</td>\n",
              "      <td>692</td>\n",
              "      <td>2016-04-01</td>\n",
              "      <td>2015-04-01</td>\n",
              "    </tr>\n",
              "    <tr>\n",
              "      <th>2016-05-01</th>\n",
              "      <td>2016</td>\n",
              "      <td>5</td>\n",
              "      <td>854</td>\n",
              "      <td>2016-05-01</td>\n",
              "      <td>2015-05-01</td>\n",
              "    </tr>\n",
              "    <tr>\n",
              "      <th>2016-06-01</th>\n",
              "      <td>2016</td>\n",
              "      <td>6</td>\n",
              "      <td>768</td>\n",
              "      <td>2016-06-01</td>\n",
              "      <td>2015-06-01</td>\n",
              "    </tr>\n",
              "    <tr>\n",
              "      <th>2016-07-01</th>\n",
              "      <td>2016</td>\n",
              "      <td>7</td>\n",
              "      <td>678</td>\n",
              "      <td>2016-07-01</td>\n",
              "      <td>2015-07-01</td>\n",
              "    </tr>\n",
              "    <tr>\n",
              "      <th>2016-08-01</th>\n",
              "      <td>2016</td>\n",
              "      <td>8</td>\n",
              "      <td>739</td>\n",
              "      <td>2016-08-01</td>\n",
              "      <td>2015-08-01</td>\n",
              "    </tr>\n",
              "    <tr>\n",
              "      <th>2016-09-01</th>\n",
              "      <td>2016</td>\n",
              "      <td>9</td>\n",
              "      <td>737</td>\n",
              "      <td>2016-09-01</td>\n",
              "      <td>2015-09-01</td>\n",
              "    </tr>\n",
              "    <tr>\n",
              "      <th>2016-10-01</th>\n",
              "      <td>2016</td>\n",
              "      <td>10</td>\n",
              "      <td>737</td>\n",
              "      <td>2016-10-01</td>\n",
              "      <td>2015-10-01</td>\n",
              "    </tr>\n",
              "    <tr>\n",
              "      <th>2016-11-01</th>\n",
              "      <td>2016</td>\n",
              "      <td>11</td>\n",
              "      <td>753</td>\n",
              "      <td>2016-11-01</td>\n",
              "      <td>2015-11-01</td>\n",
              "    </tr>\n",
              "    <tr>\n",
              "      <th>2016-12-01</th>\n",
              "      <td>2016</td>\n",
              "      <td>12</td>\n",
              "      <td>712</td>\n",
              "      <td>2016-12-01</td>\n",
              "      <td>2015-12-01</td>\n",
              "    </tr>\n",
              "  </tbody>\n",
              "</table>\n",
              "</div>\n",
              "      <button class=\"colab-df-convert\" onclick=\"convertToInteractive('df-41cdf8aa-4059-466b-bec2-471e8d5f0a66')\"\n",
              "              title=\"Convert this dataframe to an interactive table.\"\n",
              "              style=\"display:none;\">\n",
              "        \n",
              "  <svg xmlns=\"http://www.w3.org/2000/svg\" height=\"24px\"viewBox=\"0 0 24 24\"\n",
              "       width=\"24px\">\n",
              "    <path d=\"M0 0h24v24H0V0z\" fill=\"none\"/>\n",
              "    <path d=\"M18.56 5.44l.94 2.06.94-2.06 2.06-.94-2.06-.94-.94-2.06-.94 2.06-2.06.94zm-11 1L8.5 8.5l.94-2.06 2.06-.94-2.06-.94L8.5 2.5l-.94 2.06-2.06.94zm10 10l.94 2.06.94-2.06 2.06-.94-2.06-.94-.94-2.06-.94 2.06-2.06.94z\"/><path d=\"M17.41 7.96l-1.37-1.37c-.4-.4-.92-.59-1.43-.59-.52 0-1.04.2-1.43.59L10.3 9.45l-7.72 7.72c-.78.78-.78 2.05 0 2.83L4 21.41c.39.39.9.59 1.41.59.51 0 1.02-.2 1.41-.59l7.78-7.78 2.81-2.81c.8-.78.8-2.07 0-2.86zM5.41 20L4 18.59l7.72-7.72 1.47 1.35L5.41 20z\"/>\n",
              "  </svg>\n",
              "      </button>\n",
              "      \n",
              "  <style>\n",
              "    .colab-df-container {\n",
              "      display:flex;\n",
              "      flex-wrap:wrap;\n",
              "      gap: 12px;\n",
              "    }\n",
              "\n",
              "    .colab-df-convert {\n",
              "      background-color: #E8F0FE;\n",
              "      border: none;\n",
              "      border-radius: 50%;\n",
              "      cursor: pointer;\n",
              "      display: none;\n",
              "      fill: #1967D2;\n",
              "      height: 32px;\n",
              "      padding: 0 0 0 0;\n",
              "      width: 32px;\n",
              "    }\n",
              "\n",
              "    .colab-df-convert:hover {\n",
              "      background-color: #E2EBFA;\n",
              "      box-shadow: 0px 1px 2px rgba(60, 64, 67, 0.3), 0px 1px 3px 1px rgba(60, 64, 67, 0.15);\n",
              "      fill: #174EA6;\n",
              "    }\n",
              "\n",
              "    [theme=dark] .colab-df-convert {\n",
              "      background-color: #3B4455;\n",
              "      fill: #D2E3FC;\n",
              "    }\n",
              "\n",
              "    [theme=dark] .colab-df-convert:hover {\n",
              "      background-color: #434B5C;\n",
              "      box-shadow: 0px 1px 3px 1px rgba(0, 0, 0, 0.15);\n",
              "      filter: drop-shadow(0px 1px 2px rgba(0, 0, 0, 0.3));\n",
              "      fill: #FFFFFF;\n",
              "    }\n",
              "  </style>\n",
              "\n",
              "      <script>\n",
              "        const buttonEl =\n",
              "          document.querySelector('#df-41cdf8aa-4059-466b-bec2-471e8d5f0a66 button.colab-df-convert');\n",
              "        buttonEl.style.display =\n",
              "          google.colab.kernel.accessAllowed ? 'block' : 'none';\n",
              "\n",
              "        async function convertToInteractive(key) {\n",
              "          const element = document.querySelector('#df-41cdf8aa-4059-466b-bec2-471e8d5f0a66');\n",
              "          const dataTable =\n",
              "            await google.colab.kernel.invokeFunction('convertToInteractive',\n",
              "                                                     [key], {});\n",
              "          if (!dataTable) return;\n",
              "\n",
              "          const docLinkHtml = 'Like what you see? Visit the ' +\n",
              "            '<a target=\"_blank\" href=https://colab.research.google.com/notebooks/data_table.ipynb>data table notebook</a>'\n",
              "            + ' to learn more about interactive tables.';\n",
              "          element.innerHTML = '';\n",
              "          dataTable['output_type'] = 'display_data';\n",
              "          await google.colab.output.renderOutput(dataTable, element);\n",
              "          const docLink = document.createElement('div');\n",
              "          docLink.innerHTML = docLinkHtml;\n",
              "          element.appendChild(docLink);\n",
              "        }\n",
              "      </script>\n",
              "    </div>\n",
              "  </div>\n",
              "  "
            ]
          },
          "metadata": {},
          "execution_count": 55
        }
      ]
    },
    {
      "cell_type": "code",
      "source": [
        "df_test"
      ],
      "metadata": {
        "colab": {
          "base_uri": "https://localhost:8080/",
          "height": 421
        },
        "id": "NZ6yfzsERger",
        "outputId": "023ab9db-7860-448c-920b-b89ba8b5dc3d"
      },
      "execution_count": null,
      "outputs": [
        {
          "output_type": "execute_result",
          "data": {
            "text/plain": [
              "            year  month    y year_month year_month_last_year\n",
              "2017-01-01  2017      1  662 2017-01-01           2016-01-01\n",
              "2017-02-01  2017      2  642 2017-02-01           2016-02-01\n",
              "2017-03-01  2017      3  672 2017-03-01           2016-03-01\n",
              "2017-04-01  2017      4  569 2017-04-01           2016-04-01\n",
              "2017-05-01  2017      5  812 2017-05-01           2016-05-01\n",
              "2017-06-01  2017      6  715 2017-06-01           2016-06-01\n",
              "2017-07-01  2017      7  717 2017-07-01           2016-07-01\n",
              "2017-08-01  2017      8  728 2017-08-01           2016-08-01\n",
              "2017-09-01  2017      9  707 2017-09-01           2016-09-01\n",
              "2017-10-01  2017     10  780 2017-10-01           2016-10-01\n",
              "2017-11-01  2017     11  831 2017-11-01           2016-11-01\n",
              "2017-12-01  2017     12  802 2017-12-01           2016-12-01"
            ],
            "text/html": [
              "\n",
              "  <div id=\"df-d4f7c97f-8891-4ee8-80f6-0f6713f7fcf5\">\n",
              "    <div class=\"colab-df-container\">\n",
              "      <div>\n",
              "<style scoped>\n",
              "    .dataframe tbody tr th:only-of-type {\n",
              "        vertical-align: middle;\n",
              "    }\n",
              "\n",
              "    .dataframe tbody tr th {\n",
              "        vertical-align: top;\n",
              "    }\n",
              "\n",
              "    .dataframe thead th {\n",
              "        text-align: right;\n",
              "    }\n",
              "</style>\n",
              "<table border=\"1\" class=\"dataframe\">\n",
              "  <thead>\n",
              "    <tr style=\"text-align: right;\">\n",
              "      <th></th>\n",
              "      <th>year</th>\n",
              "      <th>month</th>\n",
              "      <th>y</th>\n",
              "      <th>year_month</th>\n",
              "      <th>year_month_last_year</th>\n",
              "    </tr>\n",
              "  </thead>\n",
              "  <tbody>\n",
              "    <tr>\n",
              "      <th>2017-01-01</th>\n",
              "      <td>2017</td>\n",
              "      <td>1</td>\n",
              "      <td>662</td>\n",
              "      <td>2017-01-01</td>\n",
              "      <td>2016-01-01</td>\n",
              "    </tr>\n",
              "    <tr>\n",
              "      <th>2017-02-01</th>\n",
              "      <td>2017</td>\n",
              "      <td>2</td>\n",
              "      <td>642</td>\n",
              "      <td>2017-02-01</td>\n",
              "      <td>2016-02-01</td>\n",
              "    </tr>\n",
              "    <tr>\n",
              "      <th>2017-03-01</th>\n",
              "      <td>2017</td>\n",
              "      <td>3</td>\n",
              "      <td>672</td>\n",
              "      <td>2017-03-01</td>\n",
              "      <td>2016-03-01</td>\n",
              "    </tr>\n",
              "    <tr>\n",
              "      <th>2017-04-01</th>\n",
              "      <td>2017</td>\n",
              "      <td>4</td>\n",
              "      <td>569</td>\n",
              "      <td>2017-04-01</td>\n",
              "      <td>2016-04-01</td>\n",
              "    </tr>\n",
              "    <tr>\n",
              "      <th>2017-05-01</th>\n",
              "      <td>2017</td>\n",
              "      <td>5</td>\n",
              "      <td>812</td>\n",
              "      <td>2017-05-01</td>\n",
              "      <td>2016-05-01</td>\n",
              "    </tr>\n",
              "    <tr>\n",
              "      <th>2017-06-01</th>\n",
              "      <td>2017</td>\n",
              "      <td>6</td>\n",
              "      <td>715</td>\n",
              "      <td>2017-06-01</td>\n",
              "      <td>2016-06-01</td>\n",
              "    </tr>\n",
              "    <tr>\n",
              "      <th>2017-07-01</th>\n",
              "      <td>2017</td>\n",
              "      <td>7</td>\n",
              "      <td>717</td>\n",
              "      <td>2017-07-01</td>\n",
              "      <td>2016-07-01</td>\n",
              "    </tr>\n",
              "    <tr>\n",
              "      <th>2017-08-01</th>\n",
              "      <td>2017</td>\n",
              "      <td>8</td>\n",
              "      <td>728</td>\n",
              "      <td>2017-08-01</td>\n",
              "      <td>2016-08-01</td>\n",
              "    </tr>\n",
              "    <tr>\n",
              "      <th>2017-09-01</th>\n",
              "      <td>2017</td>\n",
              "      <td>9</td>\n",
              "      <td>707</td>\n",
              "      <td>2017-09-01</td>\n",
              "      <td>2016-09-01</td>\n",
              "    </tr>\n",
              "    <tr>\n",
              "      <th>2017-10-01</th>\n",
              "      <td>2017</td>\n",
              "      <td>10</td>\n",
              "      <td>780</td>\n",
              "      <td>2017-10-01</td>\n",
              "      <td>2016-10-01</td>\n",
              "    </tr>\n",
              "    <tr>\n",
              "      <th>2017-11-01</th>\n",
              "      <td>2017</td>\n",
              "      <td>11</td>\n",
              "      <td>831</td>\n",
              "      <td>2017-11-01</td>\n",
              "      <td>2016-11-01</td>\n",
              "    </tr>\n",
              "    <tr>\n",
              "      <th>2017-12-01</th>\n",
              "      <td>2017</td>\n",
              "      <td>12</td>\n",
              "      <td>802</td>\n",
              "      <td>2017-12-01</td>\n",
              "      <td>2016-12-01</td>\n",
              "    </tr>\n",
              "  </tbody>\n",
              "</table>\n",
              "</div>\n",
              "      <button class=\"colab-df-convert\" onclick=\"convertToInteractive('df-d4f7c97f-8891-4ee8-80f6-0f6713f7fcf5')\"\n",
              "              title=\"Convert this dataframe to an interactive table.\"\n",
              "              style=\"display:none;\">\n",
              "        \n",
              "  <svg xmlns=\"http://www.w3.org/2000/svg\" height=\"24px\"viewBox=\"0 0 24 24\"\n",
              "       width=\"24px\">\n",
              "    <path d=\"M0 0h24v24H0V0z\" fill=\"none\"/>\n",
              "    <path d=\"M18.56 5.44l.94 2.06.94-2.06 2.06-.94-2.06-.94-.94-2.06-.94 2.06-2.06.94zm-11 1L8.5 8.5l.94-2.06 2.06-.94-2.06-.94L8.5 2.5l-.94 2.06-2.06.94zm10 10l.94 2.06.94-2.06 2.06-.94-2.06-.94-.94-2.06-.94 2.06-2.06.94z\"/><path d=\"M17.41 7.96l-1.37-1.37c-.4-.4-.92-.59-1.43-.59-.52 0-1.04.2-1.43.59L10.3 9.45l-7.72 7.72c-.78.78-.78 2.05 0 2.83L4 21.41c.39.39.9.59 1.41.59.51 0 1.02-.2 1.41-.59l7.78-7.78 2.81-2.81c.8-.78.8-2.07 0-2.86zM5.41 20L4 18.59l7.72-7.72 1.47 1.35L5.41 20z\"/>\n",
              "  </svg>\n",
              "      </button>\n",
              "      \n",
              "  <style>\n",
              "    .colab-df-container {\n",
              "      display:flex;\n",
              "      flex-wrap:wrap;\n",
              "      gap: 12px;\n",
              "    }\n",
              "\n",
              "    .colab-df-convert {\n",
              "      background-color: #E8F0FE;\n",
              "      border: none;\n",
              "      border-radius: 50%;\n",
              "      cursor: pointer;\n",
              "      display: none;\n",
              "      fill: #1967D2;\n",
              "      height: 32px;\n",
              "      padding: 0 0 0 0;\n",
              "      width: 32px;\n",
              "    }\n",
              "\n",
              "    .colab-df-convert:hover {\n",
              "      background-color: #E2EBFA;\n",
              "      box-shadow: 0px 1px 2px rgba(60, 64, 67, 0.3), 0px 1px 3px 1px rgba(60, 64, 67, 0.15);\n",
              "      fill: #174EA6;\n",
              "    }\n",
              "\n",
              "    [theme=dark] .colab-df-convert {\n",
              "      background-color: #3B4455;\n",
              "      fill: #D2E3FC;\n",
              "    }\n",
              "\n",
              "    [theme=dark] .colab-df-convert:hover {\n",
              "      background-color: #434B5C;\n",
              "      box-shadow: 0px 1px 3px 1px rgba(0, 0, 0, 0.15);\n",
              "      filter: drop-shadow(0px 1px 2px rgba(0, 0, 0, 0.3));\n",
              "      fill: #FFFFFF;\n",
              "    }\n",
              "  </style>\n",
              "\n",
              "      <script>\n",
              "        const buttonEl =\n",
              "          document.querySelector('#df-d4f7c97f-8891-4ee8-80f6-0f6713f7fcf5 button.colab-df-convert');\n",
              "        buttonEl.style.display =\n",
              "          google.colab.kernel.accessAllowed ? 'block' : 'none';\n",
              "\n",
              "        async function convertToInteractive(key) {\n",
              "          const element = document.querySelector('#df-d4f7c97f-8891-4ee8-80f6-0f6713f7fcf5');\n",
              "          const dataTable =\n",
              "            await google.colab.kernel.invokeFunction('convertToInteractive',\n",
              "                                                     [key], {});\n",
              "          if (!dataTable) return;\n",
              "\n",
              "          const docLinkHtml = 'Like what you see? Visit the ' +\n",
              "            '<a target=\"_blank\" href=https://colab.research.google.com/notebooks/data_table.ipynb>data table notebook</a>'\n",
              "            + ' to learn more about interactive tables.';\n",
              "          element.innerHTML = '';\n",
              "          dataTable['output_type'] = 'display_data';\n",
              "          await google.colab.output.renderOutput(dataTable, element);\n",
              "          const docLink = document.createElement('div');\n",
              "          docLink.innerHTML = docLinkHtml;\n",
              "          element.appendChild(docLink);\n",
              "        }\n",
              "      </script>\n",
              "    </div>\n",
              "  </div>\n",
              "  "
            ]
          },
          "metadata": {},
          "execution_count": 56
        }
      ]
    },
    {
      "cell_type": "markdown",
      "source": [
        "# Primer modelo relative delta"
      ],
      "metadata": {
        "id": "cjLAp0VbD2FE"
      }
    },
    {
      "cell_type": "code",
      "source": [
        "df_1_grouped = df.groupby(by = ['month','year']).size().reset_index()\n",
        "df_1_grouped"
      ],
      "metadata": {
        "colab": {
          "base_uri": "https://localhost:8080/",
          "height": 1000
        },
        "id": "On7Yiw9MBmJ9",
        "outputId": "0c4cc6f5-bbd2-4f32-a4cb-a94e2a873d0a"
      },
      "execution_count": null,
      "outputs": [
        {
          "output_type": "execute_result",
          "data": {
            "text/plain": [
              "    month  year    0\n",
              "0       1  2015  587\n",
              "1       1  2016  572\n",
              "2       1  2017  662\n",
              "3       2  2015  661\n",
              "4       2  2016  633\n",
              "5       2  2017  642\n",
              "6       3  2015  817\n",
              "7       3  2016  794\n",
              "8       3  2017  672\n",
              "9       4  2015  799\n",
              "10      4  2016  692\n",
              "11      4  2017  569\n",
              "12      5  2015  839\n",
              "13      5  2016  854\n",
              "14      5  2017  812\n",
              "15      6  2015  699\n",
              "16      6  2016  768\n",
              "17      6  2017  715\n",
              "18      7  2015  767\n",
              "19      7  2016  678\n",
              "20      7  2017  717\n",
              "21      8  2015  722\n",
              "22      8  2016  739\n",
              "23      8  2017  728\n",
              "24      9  2015  809\n",
              "25      9  2016  737\n",
              "26      9  2017  707\n",
              "27     10  2015  728\n",
              "28     10  2016  737\n",
              "29     10  2017  780\n",
              "30     11  2015  757\n",
              "31     11  2016  753\n",
              "32     11  2017  831\n",
              "33     12  2015  645\n",
              "34     12  2016  712\n",
              "35     12  2017  802"
            ],
            "text/html": [
              "\n",
              "  <div id=\"df-2ed5d3ea-4fa0-4a98-a752-93b5373b02f8\">\n",
              "    <div class=\"colab-df-container\">\n",
              "      <div>\n",
              "<style scoped>\n",
              "    .dataframe tbody tr th:only-of-type {\n",
              "        vertical-align: middle;\n",
              "    }\n",
              "\n",
              "    .dataframe tbody tr th {\n",
              "        vertical-align: top;\n",
              "    }\n",
              "\n",
              "    .dataframe thead th {\n",
              "        text-align: right;\n",
              "    }\n",
              "</style>\n",
              "<table border=\"1\" class=\"dataframe\">\n",
              "  <thead>\n",
              "    <tr style=\"text-align: right;\">\n",
              "      <th></th>\n",
              "      <th>month</th>\n",
              "      <th>year</th>\n",
              "      <th>0</th>\n",
              "    </tr>\n",
              "  </thead>\n",
              "  <tbody>\n",
              "    <tr>\n",
              "      <th>0</th>\n",
              "      <td>1</td>\n",
              "      <td>2015</td>\n",
              "      <td>587</td>\n",
              "    </tr>\n",
              "    <tr>\n",
              "      <th>1</th>\n",
              "      <td>1</td>\n",
              "      <td>2016</td>\n",
              "      <td>572</td>\n",
              "    </tr>\n",
              "    <tr>\n",
              "      <th>2</th>\n",
              "      <td>1</td>\n",
              "      <td>2017</td>\n",
              "      <td>662</td>\n",
              "    </tr>\n",
              "    <tr>\n",
              "      <th>3</th>\n",
              "      <td>2</td>\n",
              "      <td>2015</td>\n",
              "      <td>661</td>\n",
              "    </tr>\n",
              "    <tr>\n",
              "      <th>4</th>\n",
              "      <td>2</td>\n",
              "      <td>2016</td>\n",
              "      <td>633</td>\n",
              "    </tr>\n",
              "    <tr>\n",
              "      <th>5</th>\n",
              "      <td>2</td>\n",
              "      <td>2017</td>\n",
              "      <td>642</td>\n",
              "    </tr>\n",
              "    <tr>\n",
              "      <th>6</th>\n",
              "      <td>3</td>\n",
              "      <td>2015</td>\n",
              "      <td>817</td>\n",
              "    </tr>\n",
              "    <tr>\n",
              "      <th>7</th>\n",
              "      <td>3</td>\n",
              "      <td>2016</td>\n",
              "      <td>794</td>\n",
              "    </tr>\n",
              "    <tr>\n",
              "      <th>8</th>\n",
              "      <td>3</td>\n",
              "      <td>2017</td>\n",
              "      <td>672</td>\n",
              "    </tr>\n",
              "    <tr>\n",
              "      <th>9</th>\n",
              "      <td>4</td>\n",
              "      <td>2015</td>\n",
              "      <td>799</td>\n",
              "    </tr>\n",
              "    <tr>\n",
              "      <th>10</th>\n",
              "      <td>4</td>\n",
              "      <td>2016</td>\n",
              "      <td>692</td>\n",
              "    </tr>\n",
              "    <tr>\n",
              "      <th>11</th>\n",
              "      <td>4</td>\n",
              "      <td>2017</td>\n",
              "      <td>569</td>\n",
              "    </tr>\n",
              "    <tr>\n",
              "      <th>12</th>\n",
              "      <td>5</td>\n",
              "      <td>2015</td>\n",
              "      <td>839</td>\n",
              "    </tr>\n",
              "    <tr>\n",
              "      <th>13</th>\n",
              "      <td>5</td>\n",
              "      <td>2016</td>\n",
              "      <td>854</td>\n",
              "    </tr>\n",
              "    <tr>\n",
              "      <th>14</th>\n",
              "      <td>5</td>\n",
              "      <td>2017</td>\n",
              "      <td>812</td>\n",
              "    </tr>\n",
              "    <tr>\n",
              "      <th>15</th>\n",
              "      <td>6</td>\n",
              "      <td>2015</td>\n",
              "      <td>699</td>\n",
              "    </tr>\n",
              "    <tr>\n",
              "      <th>16</th>\n",
              "      <td>6</td>\n",
              "      <td>2016</td>\n",
              "      <td>768</td>\n",
              "    </tr>\n",
              "    <tr>\n",
              "      <th>17</th>\n",
              "      <td>6</td>\n",
              "      <td>2017</td>\n",
              "      <td>715</td>\n",
              "    </tr>\n",
              "    <tr>\n",
              "      <th>18</th>\n",
              "      <td>7</td>\n",
              "      <td>2015</td>\n",
              "      <td>767</td>\n",
              "    </tr>\n",
              "    <tr>\n",
              "      <th>19</th>\n",
              "      <td>7</td>\n",
              "      <td>2016</td>\n",
              "      <td>678</td>\n",
              "    </tr>\n",
              "    <tr>\n",
              "      <th>20</th>\n",
              "      <td>7</td>\n",
              "      <td>2017</td>\n",
              "      <td>717</td>\n",
              "    </tr>\n",
              "    <tr>\n",
              "      <th>21</th>\n",
              "      <td>8</td>\n",
              "      <td>2015</td>\n",
              "      <td>722</td>\n",
              "    </tr>\n",
              "    <tr>\n",
              "      <th>22</th>\n",
              "      <td>8</td>\n",
              "      <td>2016</td>\n",
              "      <td>739</td>\n",
              "    </tr>\n",
              "    <tr>\n",
              "      <th>23</th>\n",
              "      <td>8</td>\n",
              "      <td>2017</td>\n",
              "      <td>728</td>\n",
              "    </tr>\n",
              "    <tr>\n",
              "      <th>24</th>\n",
              "      <td>9</td>\n",
              "      <td>2015</td>\n",
              "      <td>809</td>\n",
              "    </tr>\n",
              "    <tr>\n",
              "      <th>25</th>\n",
              "      <td>9</td>\n",
              "      <td>2016</td>\n",
              "      <td>737</td>\n",
              "    </tr>\n",
              "    <tr>\n",
              "      <th>26</th>\n",
              "      <td>9</td>\n",
              "      <td>2017</td>\n",
              "      <td>707</td>\n",
              "    </tr>\n",
              "    <tr>\n",
              "      <th>27</th>\n",
              "      <td>10</td>\n",
              "      <td>2015</td>\n",
              "      <td>728</td>\n",
              "    </tr>\n",
              "    <tr>\n",
              "      <th>28</th>\n",
              "      <td>10</td>\n",
              "      <td>2016</td>\n",
              "      <td>737</td>\n",
              "    </tr>\n",
              "    <tr>\n",
              "      <th>29</th>\n",
              "      <td>10</td>\n",
              "      <td>2017</td>\n",
              "      <td>780</td>\n",
              "    </tr>\n",
              "    <tr>\n",
              "      <th>30</th>\n",
              "      <td>11</td>\n",
              "      <td>2015</td>\n",
              "      <td>757</td>\n",
              "    </tr>\n",
              "    <tr>\n",
              "      <th>31</th>\n",
              "      <td>11</td>\n",
              "      <td>2016</td>\n",
              "      <td>753</td>\n",
              "    </tr>\n",
              "    <tr>\n",
              "      <th>32</th>\n",
              "      <td>11</td>\n",
              "      <td>2017</td>\n",
              "      <td>831</td>\n",
              "    </tr>\n",
              "    <tr>\n",
              "      <th>33</th>\n",
              "      <td>12</td>\n",
              "      <td>2015</td>\n",
              "      <td>645</td>\n",
              "    </tr>\n",
              "    <tr>\n",
              "      <th>34</th>\n",
              "      <td>12</td>\n",
              "      <td>2016</td>\n",
              "      <td>712</td>\n",
              "    </tr>\n",
              "    <tr>\n",
              "      <th>35</th>\n",
              "      <td>12</td>\n",
              "      <td>2017</td>\n",
              "      <td>802</td>\n",
              "    </tr>\n",
              "  </tbody>\n",
              "</table>\n",
              "</div>\n",
              "      <button class=\"colab-df-convert\" onclick=\"convertToInteractive('df-2ed5d3ea-4fa0-4a98-a752-93b5373b02f8')\"\n",
              "              title=\"Convert this dataframe to an interactive table.\"\n",
              "              style=\"display:none;\">\n",
              "        \n",
              "  <svg xmlns=\"http://www.w3.org/2000/svg\" height=\"24px\"viewBox=\"0 0 24 24\"\n",
              "       width=\"24px\">\n",
              "    <path d=\"M0 0h24v24H0V0z\" fill=\"none\"/>\n",
              "    <path d=\"M18.56 5.44l.94 2.06.94-2.06 2.06-.94-2.06-.94-.94-2.06-.94 2.06-2.06.94zm-11 1L8.5 8.5l.94-2.06 2.06-.94-2.06-.94L8.5 2.5l-.94 2.06-2.06.94zm10 10l.94 2.06.94-2.06 2.06-.94-2.06-.94-.94-2.06-.94 2.06-2.06.94z\"/><path d=\"M17.41 7.96l-1.37-1.37c-.4-.4-.92-.59-1.43-.59-.52 0-1.04.2-1.43.59L10.3 9.45l-7.72 7.72c-.78.78-.78 2.05 0 2.83L4 21.41c.39.39.9.59 1.41.59.51 0 1.02-.2 1.41-.59l7.78-7.78 2.81-2.81c.8-.78.8-2.07 0-2.86zM5.41 20L4 18.59l7.72-7.72 1.47 1.35L5.41 20z\"/>\n",
              "  </svg>\n",
              "      </button>\n",
              "      \n",
              "  <style>\n",
              "    .colab-df-container {\n",
              "      display:flex;\n",
              "      flex-wrap:wrap;\n",
              "      gap: 12px;\n",
              "    }\n",
              "\n",
              "    .colab-df-convert {\n",
              "      background-color: #E8F0FE;\n",
              "      border: none;\n",
              "      border-radius: 50%;\n",
              "      cursor: pointer;\n",
              "      display: none;\n",
              "      fill: #1967D2;\n",
              "      height: 32px;\n",
              "      padding: 0 0 0 0;\n",
              "      width: 32px;\n",
              "    }\n",
              "\n",
              "    .colab-df-convert:hover {\n",
              "      background-color: #E2EBFA;\n",
              "      box-shadow: 0px 1px 2px rgba(60, 64, 67, 0.3), 0px 1px 3px 1px rgba(60, 64, 67, 0.15);\n",
              "      fill: #174EA6;\n",
              "    }\n",
              "\n",
              "    [theme=dark] .colab-df-convert {\n",
              "      background-color: #3B4455;\n",
              "      fill: #D2E3FC;\n",
              "    }\n",
              "\n",
              "    [theme=dark] .colab-df-convert:hover {\n",
              "      background-color: #434B5C;\n",
              "      box-shadow: 0px 1px 3px 1px rgba(0, 0, 0, 0.15);\n",
              "      filter: drop-shadow(0px 1px 2px rgba(0, 0, 0, 0.3));\n",
              "      fill: #FFFFFF;\n",
              "    }\n",
              "  </style>\n",
              "\n",
              "      <script>\n",
              "        const buttonEl =\n",
              "          document.querySelector('#df-2ed5d3ea-4fa0-4a98-a752-93b5373b02f8 button.colab-df-convert');\n",
              "        buttonEl.style.display =\n",
              "          google.colab.kernel.accessAllowed ? 'block' : 'none';\n",
              "\n",
              "        async function convertToInteractive(key) {\n",
              "          const element = document.querySelector('#df-2ed5d3ea-4fa0-4a98-a752-93b5373b02f8');\n",
              "          const dataTable =\n",
              "            await google.colab.kernel.invokeFunction('convertToInteractive',\n",
              "                                                     [key], {});\n",
              "          if (!dataTable) return;\n",
              "\n",
              "          const docLinkHtml = 'Like what you see? Visit the ' +\n",
              "            '<a target=\"_blank\" href=https://colab.research.google.com/notebooks/data_table.ipynb>data table notebook</a>'\n",
              "            + ' to learn more about interactive tables.';\n",
              "          element.innerHTML = '';\n",
              "          dataTable['output_type'] = 'display_data';\n",
              "          await google.colab.output.renderOutput(dataTable, element);\n",
              "          const docLink = document.createElement('div');\n",
              "          docLink.innerHTML = docLinkHtml;\n",
              "          element.appendChild(docLink);\n",
              "        }\n",
              "      </script>\n",
              "    </div>\n",
              "  </div>\n",
              "  "
            ]
          },
          "metadata": {},
          "execution_count": 57
        }
      ]
    },
    {
      "cell_type": "code",
      "source": [
        "df_1_grouped['year_month'] = df_1_grouped.apply(lambda row: date(int(row['year']),int(row['month']),1), axis =1 )"
      ],
      "metadata": {
        "id": "Ek2uzgOJBqcx"
      },
      "execution_count": null,
      "outputs": []
    },
    {
      "cell_type": "code",
      "source": [
        "df_1_grouped.sort_values(by = 'year_month').set_index('year_month')[0].plot()\n",
        "plt.xticks(rotation = -45)\n",
        "plt.grid()\n",
        "plt.show()"
      ],
      "metadata": {
        "colab": {
          "base_uri": "https://localhost:8080/",
          "height": 307
        },
        "id": "5TySPLKzBqaY",
        "outputId": "c0908824-639d-479f-ed92-2cacc2deb47a"
      },
      "execution_count": null,
      "outputs": [
        {
          "output_type": "display_data",
          "data": {
            "text/plain": [
              "<Figure size 432x288 with 1 Axes>"
            ],
            "image/png": "[encoded data removed]"
          },
          "metadata": {
            "needs_background": "light"
          }
        }
      ]
    },
    {
      "cell_type": "code",
      "source": [
        "df_1_grouped['year_month_last_year'] =  df_1_grouped['year_month'] - relativedelta(years = 1)"
      ],
      "metadata": {
        "id": "COnswQZeBqXl"
      },
      "execution_count": null,
      "outputs": []
    },
    {
      "cell_type": "code",
      "source": [
        "df_forecasting_baseline =\\\n",
        "df_1_grouped.merge(df_1_grouped[['year_month',0]], \n",
        "                          left_on = 'year_month_last_year', \n",
        "                          right_on = 'year_month',\n",
        "                          how = 'left').sort_values(by = 'year_month_x').dropna()"
      ],
      "metadata": {
        "id": "Ik_9O_wXBqUq"
      },
      "execution_count": null,
      "outputs": []
    },
    {
      "cell_type": "code",
      "source": [
        "plt.plot(df_forecasting_baseline['year_month_x'], df_forecasting_baseline['0_x'], label = 'True')\n",
        "plt.plot(df_forecasting_baseline['year_month_x'], df_forecasting_baseline['0_y'], label = 'Predict')\n",
        "\n",
        "plt.legend()\n",
        "plt.xticks(rotation =-45)\n",
        "plt.show()"
      ],
      "metadata": {
        "colab": {
          "base_uri": "https://localhost:8080/",
          "height": 292
        },
        "id": "65Ji-ujvBqRu",
        "outputId": "661bf496-2f73-4259-f996-ae570034060c"
      },
      "execution_count": null,
      "outputs": [
        {
          "output_type": "display_data",
          "data": {
            "text/plain": [
              "<Figure size 432x288 with 1 Axes>"
            ],
            "image/png": "[encoded data removed]"
          },
          "metadata": {
            "needs_background": "light"
          }
        }
      ]
    },
    {
      "cell_type": "code",
      "source": [
        "df_forecasting_baseline['relative_error'] =\\\n",
        "np.abs(df_forecasting_baseline['0_x'] - df_forecasting_baseline['0_y']) / df_forecasting_baseline['0_x']"
      ],
      "metadata": {
        "id": "pSfOIiWXBqO1"
      },
      "execution_count": null,
      "outputs": []
    },
    {
      "cell_type": "code",
      "source": [
        "plt.plot(df_forecasting_baseline['year_month_x'], \n",
        "         df_forecasting_baseline['relative_error'],\n",
        "         label = 'Error relativo')\n",
        "\n",
        "plt.legend()\n",
        "plt.xticks(rotation =-45)\n",
        "plt.show()"
      ],
      "metadata": {
        "colab": {
          "base_uri": "https://localhost:8080/",
          "height": 292
        },
        "id": "9K0NW_6pBqJn",
        "outputId": "4c88118c-56d1-4aeb-f5fc-ee5b56e87082"
      },
      "execution_count": null,
      "outputs": [
        {
          "output_type": "display_data",
          "data": {
            "text/plain": [
              "<Figure size 432x288 with 1 Axes>"
            ],
            "image/png": "[encoded data removed]"
          },
          "metadata": {
            "needs_background": "light"
          }
        }
      ]
    },
    {
      "cell_type": "code",
      "source": [
        "df_forecasting_baseline['relative_error'].mean()"
      ],
      "metadata": {
        "colab": {
          "base_uri": "https://localhost:8080/"
        },
        "id": "Uaok60MIB_gd",
        "outputId": "d9a5a876-ae8f-42d5-f17f-11fd34592bff"
      },
      "execution_count": null,
      "outputs": [
        {
          "output_type": "execute_result",
          "data": {
            "text/plain": [
              "0.07382213238505034"
            ]
          },
          "metadata": {},
          "execution_count": 65
        }
      ]
    },
    {
      "cell_type": "markdown",
      "source": [
        "# Random walk"
      ],
      "metadata": {
        "id": "Q43k1U_SObyF"
      }
    },
    {
      "cell_type": "code",
      "source": [
        "df_grouped.sort_values(by = 'year_month').set_index('year_month')['y'].plot()\n",
        "plt.xticks(rotation = -45)\n",
        "plt.grid()\n",
        "plt.show()"
      ],
      "metadata": {
        "colab": {
          "base_uri": "https://localhost:8080/",
          "height": 303
        },
        "id": "-XDo7moafGwp",
        "outputId": "c594f195-0160-44aa-e9bc-11656c23ea64"
      },
      "execution_count": null,
      "outputs": [
        {
          "output_type": "display_data",
          "data": {
            "text/plain": [
              "<Figure size 432x288 with 1 Axes>"
            ],
            "image/png": "[encoded data removed]"
          },
          "metadata": {
            "needs_background": "light"
          }
        }
      ]
    },
    {
      "cell_type": "code",
      "source": [
        "df_train[\"countshift\"] = df_train.y.shift()\n",
        "\n",
        "# La primera observación nos va a quedar en nan, la reemplazamos por el valor siguente:\n",
        "df_train[\"countshift\"].fillna(method='bfill', inplace=True)"
      ],
      "metadata": {
        "id": "JmdiipZ1eLrw"
      },
      "execution_count": null,
      "outputs": []
    },
    {
      "cell_type": "code",
      "source": [
        "df_test[\"countshift\"] = df_test.y.shift()\n",
        "\n",
        "df_test[\"countshift\"].fillna(method='bfill', inplace=True)\n",
        "df_test.head(3)"
      ],
      "metadata": {
        "colab": {
          "base_uri": "https://localhost:8080/",
          "height": 142
        },
        "id": "YgTBEYrWeamC",
        "outputId": "74395d75-be76-485b-c379-e5a745edac3b"
      },
      "execution_count": null,
      "outputs": [
        {
          "output_type": "execute_result",
          "data": {
            "text/plain": [
              "            year  month    y year_month year_month_last_year  countshift\n",
              "2017-01-01  2017      1  662 2017-01-01           2016-01-01       662.0\n",
              "2017-02-01  2017      2  642 2017-02-01           2016-02-01       662.0\n",
              "2017-03-01  2017      3  672 2017-03-01           2016-03-01       642.0"
            ],
            "text/html": [
              "\n",
              "  <div id=\"df-f19991f1-a1a5-4133-86b5-82b86f64ff80\">\n",
              "    <div class=\"colab-df-container\">\n",
              "      <div>\n",
              "<style scoped>\n",
              "    .dataframe tbody tr th:only-of-type {\n",
              "        vertical-align: middle;\n",
              "    }\n",
              "\n",
              "    .dataframe tbody tr th {\n",
              "        vertical-align: top;\n",
              "    }\n",
              "\n",
              "    .dataframe thead th {\n",
              "        text-align: right;\n",
              "    }\n",
              "</style>\n",
              "<table border=\"1\" class=\"dataframe\">\n",
              "  <thead>\n",
              "    <tr style=\"text-align: right;\">\n",
              "      <th></th>\n",
              "      <th>year</th>\n",
              "      <th>month</th>\n",
              "      <th>y</th>\n",
              "      <th>year_month</th>\n",
              "      <th>year_month_last_year</th>\n",
              "      <th>countshift</th>\n",
              "    </tr>\n",
              "  </thead>\n",
              "  <tbody>\n",
              "    <tr>\n",
              "      <th>2017-01-01</th>\n",
              "      <td>2017</td>\n",
              "      <td>1</td>\n",
              "      <td>662</td>\n",
              "      <td>2017-01-01</td>\n",
              "      <td>2016-01-01</td>\n",
              "      <td>662.0</td>\n",
              "    </tr>\n",
              "    <tr>\n",
              "      <th>2017-02-01</th>\n",
              "      <td>2017</td>\n",
              "      <td>2</td>\n",
              "      <td>642</td>\n",
              "      <td>2017-02-01</td>\n",
              "      <td>2016-02-01</td>\n",
              "      <td>662.0</td>\n",
              "    </tr>\n",
              "    <tr>\n",
              "      <th>2017-03-01</th>\n",
              "      <td>2017</td>\n",
              "      <td>3</td>\n",
              "      <td>672</td>\n",
              "      <td>2017-03-01</td>\n",
              "      <td>2016-03-01</td>\n",
              "      <td>642.0</td>\n",
              "    </tr>\n",
              "  </tbody>\n",
              "</table>\n",
              "</div>\n",
              "      <button class=\"colab-df-convert\" onclick=\"convertToInteractive('df-f19991f1-a1a5-4133-86b5-82b86f64ff80')\"\n",
              "              title=\"Convert this dataframe to an interactive table.\"\n",
              "              style=\"display:none;\">\n",
              "        \n",
              "  <svg xmlns=\"http://www.w3.org/2000/svg\" height=\"24px\"viewBox=\"0 0 24 24\"\n",
              "       width=\"24px\">\n",
              "    <path d=\"M0 0h24v24H0V0z\" fill=\"none\"/>\n",
              "    <path d=\"M18.56 5.44l.94 2.06.94-2.06 2.06-.94-2.06-.94-.94-2.06-.94 2.06-2.06.94zm-11 1L8.5 8.5l.94-2.06 2.06-.94-2.06-.94L8.5 2.5l-.94 2.06-2.06.94zm10 10l.94 2.06.94-2.06 2.06-.94-2.06-.94-.94-2.06-.94 2.06-2.06.94z\"/><path d=\"M17.41 7.96l-1.37-1.37c-.4-.4-.92-.59-1.43-.59-.52 0-1.04.2-1.43.59L10.3 9.45l-7.72 7.72c-.78.78-.78 2.05 0 2.83L4 21.41c.39.39.9.59 1.41.59.51 0 1.02-.2 1.41-.59l7.78-7.78 2.81-2.81c.8-.78.8-2.07 0-2.86zM5.41 20L4 18.59l7.72-7.72 1.47 1.35L5.41 20z\"/>\n",
              "  </svg>\n",
              "      </button>\n",
              "      \n",
              "  <style>\n",
              "    .colab-df-container {\n",
              "      display:flex;\n",
              "      flex-wrap:wrap;\n",
              "      gap: 12px;\n",
              "    }\n",
              "\n",
              "    .colab-df-convert {\n",
              "      background-color: #E8F0FE;\n",
              "      border: none;\n",
              "      border-radius: 50%;\n",
              "      cursor: pointer;\n",
              "      display: none;\n",
              "      fill: #1967D2;\n",
              "      height: 32px;\n",
              "      padding: 0 0 0 0;\n",
              "      width: 32px;\n",
              "    }\n",
              "\n",
              "    .colab-df-convert:hover {\n",
              "      background-color: #E2EBFA;\n",
              "      box-shadow: 0px 1px 2px rgba(60, 64, 67, 0.3), 0px 1px 3px 1px rgba(60, 64, 67, 0.15);\n",
              "      fill: #174EA6;\n",
              "    }\n",
              "\n",
              "    [theme=dark] .colab-df-convert {\n",
              "      background-color: #3B4455;\n",
              "      fill: #D2E3FC;\n",
              "    }\n",
              "\n",
              "    [theme=dark] .colab-df-convert:hover {\n",
              "      background-color: #434B5C;\n",
              "      box-shadow: 0px 1px 3px 1px rgba(0, 0, 0, 0.15);\n",
              "      filter: drop-shadow(0px 1px 2px rgba(0, 0, 0, 0.3));\n",
              "      fill: #FFFFFF;\n",
              "    }\n",
              "  </style>\n",
              "\n",
              "      <script>\n",
              "        const buttonEl =\n",
              "          document.querySelector('#df-f19991f1-a1a5-4133-86b5-82b86f64ff80 button.colab-df-convert');\n",
              "        buttonEl.style.display =\n",
              "          google.colab.kernel.accessAllowed ? 'block' : 'none';\n",
              "\n",
              "        async function convertToInteractive(key) {\n",
              "          const element = document.querySelector('#df-f19991f1-a1a5-4133-86b5-82b86f64ff80');\n",
              "          const dataTable =\n",
              "            await google.colab.kernel.invokeFunction('convertToInteractive',\n",
              "                                                     [key], {});\n",
              "          if (!dataTable) return;\n",
              "\n",
              "          const docLinkHtml = 'Like what you see? Visit the ' +\n",
              "            '<a target=\"_blank\" href=https://colab.research.google.com/notebooks/data_table.ipynb>data table notebook</a>'\n",
              "            + ' to learn more about interactive tables.';\n",
              "          element.innerHTML = '';\n",
              "          dataTable['output_type'] = 'display_data';\n",
              "          await google.colab.output.renderOutput(dataTable, element);\n",
              "          const docLink = document.createElement('div');\n",
              "          docLink.innerHTML = docLinkHtml;\n",
              "          element.appendChild(docLink);\n",
              "        }\n",
              "      </script>\n",
              "    </div>\n",
              "  </div>\n",
              "  "
            ]
          },
          "metadata": {},
          "execution_count": 68
        }
      ]
    },
    {
      "cell_type": "code",
      "source": [
        "df_train[\"RandomWalk\"] = df_train.countshift\n",
        "df_train.plot(kind=\"line\", y = [\"y\", \"RandomWalk\"]);"
      ],
      "metadata": {
        "colab": {
          "base_uri": "https://localhost:8080/",
          "height": 277
        },
        "id": "dfEYyK-7ejdQ",
        "outputId": "a1304a23-d9cd-4bbb-fa8e-65f6d8327889"
      },
      "execution_count": null,
      "outputs": [
        {
          "output_type": "display_data",
          "data": {
            "text/plain": [
              "<Figure size 432x288 with 1 Axes>"
            ],
            "image/png": "[encoded data removed]"
          },
          "metadata": {
            "needs_background": "light"
          }
        }
      ]
    },
    {
      "cell_type": "code",
      "source": [
        "df_test[\"RandomWalk\"] = pd.Series(df_train[\"y\"][-1], index=df_test.index)"
      ],
      "metadata": {
        "id": "NrYraYwge36d"
      },
      "execution_count": null,
      "outputs": []
    },
    {
      "cell_type": "code",
      "source": [
        "# POR FAVOR COMPLETÁ CON TU CÓDIGO:\n",
        "df_test.plot(kind=\"line\", y = [\"y\", \"RandomWalk\"]);"
      ],
      "metadata": {
        "colab": {
          "base_uri": "https://localhost:8080/",
          "height": 277
        },
        "id": "hkH2umiXe9Qk",
        "outputId": "c4c48b77-5438-4e44-8f3f-61ff57435287"
      },
      "execution_count": null,
      "outputs": [
        {
          "output_type": "display_data",
          "data": {
            "text/plain": [
              "<Figure size 432x288 with 1 Axes>"
            ],
            "image/png": "[encoded data removed]"
          },
          "metadata": {
            "needs_background": "light"
          }
        }
      ]
    },
    {
      "cell_type": "code",
      "source": [
        "# Calculamos el RMSE y almacenamos los resultados\n",
        "df_Results = pd.DataFrame(columns = [\"Model\", \"RMSE\"])\n",
        "df_Results.loc[0, \"Model\"] = \"Random Walk\"\n",
        "df_Results.loc[0, \"RMSE\"] = RMSE(df_test.RandomWalk, df_test.y)\n",
        "df_Results"
      ],
      "metadata": {
        "colab": {
          "base_uri": "https://localhost:8080/",
          "height": 80
        },
        "id": "RuBebiYNfIJ3",
        "outputId": "e63ca491-87e8-4fdb-d4df-7df4709971c8"
      },
      "execution_count": null,
      "outputs": [
        {
          "output_type": "execute_result",
          "data": {
            "text/plain": [
              "         Model       RMSE\n",
              "0  Random Walk  74.525723"
            ],
            "text/html": [
              "\n",
              "  <div id=\"df-1a229abf-4995-4360-856f-9763f17dc2d6\">\n",
              "    <div class=\"colab-df-container\">\n",
              "      <div>\n",
              "<style scoped>\n",
              "    .dataframe tbody tr th:only-of-type {\n",
              "        vertical-align: middle;\n",
              "    }\n",
              "\n",
              "    .dataframe tbody tr th {\n",
              "        vertical-align: top;\n",
              "    }\n",
              "\n",
              "    .dataframe thead th {\n",
              "        text-align: right;\n",
              "    }\n",
              "</style>\n",
              "<table border=\"1\" class=\"dataframe\">\n",
              "  <thead>\n",
              "    <tr style=\"text-align: right;\">\n",
              "      <th></th>\n",
              "      <th>Model</th>\n",
              "      <th>RMSE</th>\n",
              "    </tr>\n",
              "  </thead>\n",
              "  <tbody>\n",
              "    <tr>\n",
              "      <th>0</th>\n",
              "      <td>Random Walk</td>\n",
              "      <td>74.525723</td>\n",
              "    </tr>\n",
              "  </tbody>\n",
              "</table>\n",
              "</div>\n",
              "      <button class=\"colab-df-convert\" onclick=\"convertToInteractive('df-1a229abf-4995-4360-856f-9763f17dc2d6')\"\n",
              "              title=\"Convert this dataframe to an interactive table.\"\n",
              "              style=\"display:none;\">\n",
              "        \n",
              "  <svg xmlns=\"http://www.w3.org/2000/svg\" height=\"24px\"viewBox=\"0 0 24 24\"\n",
              "       width=\"24px\">\n",
              "    <path d=\"M0 0h24v24H0V0z\" fill=\"none\"/>\n",
              "    <path d=\"M18.56 5.44l.94 2.06.94-2.06 2.06-.94-2.06-.94-.94-2.06-.94 2.06-2.06.94zm-11 1L8.5 8.5l.94-2.06 2.06-.94-2.06-.94L8.5 2.5l-.94 2.06-2.06.94zm10 10l.94 2.06.94-2.06 2.06-.94-2.06-.94-.94-2.06-.94 2.06-2.06.94z\"/><path d=\"M17.41 7.96l-1.37-1.37c-.4-.4-.92-.59-1.43-.59-.52 0-1.04.2-1.43.59L10.3 9.45l-7.72 7.72c-.78.78-.78 2.05 0 2.83L4 21.41c.39.39.9.59 1.41.59.51 0 1.02-.2 1.41-.59l7.78-7.78 2.81-2.81c.8-.78.8-2.07 0-2.86zM5.41 20L4 18.59l7.72-7.72 1.47 1.35L5.41 20z\"/>\n",
              "  </svg>\n",
              "      </button>\n",
              "      \n",
              "  <style>\n",
              "    .colab-df-container {\n",
              "      display:flex;\n",
              "      flex-wrap:wrap;\n",
              "      gap: 12px;\n",
              "    }\n",
              "\n",
              "    .colab-df-convert {\n",
              "      background-color: #E8F0FE;\n",
              "      border: none;\n",
              "      border-radius: 50%;\n",
              "      cursor: pointer;\n",
              "      display: none;\n",
              "      fill: #1967D2;\n",
              "      height: 32px;\n",
              "      padding: 0 0 0 0;\n",
              "      width: 32px;\n",
              "    }\n",
              "\n",
              "    .colab-df-convert:hover {\n",
              "      background-color: #E2EBFA;\n",
              "      box-shadow: 0px 1px 2px rgba(60, 64, 67, 0.3), 0px 1px 3px 1px rgba(60, 64, 67, 0.15);\n",
              "      fill: #174EA6;\n",
              "    }\n",
              "\n",
              "    [theme=dark] .colab-df-convert {\n",
              "      background-color: #3B4455;\n",
              "      fill: #D2E3FC;\n",
              "    }\n",
              "\n",
              "    [theme=dark] .colab-df-convert:hover {\n",
              "      background-color: #434B5C;\n",
              "      box-shadow: 0px 1px 3px 1px rgba(0, 0, 0, 0.15);\n",
              "      filter: drop-shadow(0px 1px 2px rgba(0, 0, 0, 0.3));\n",
              "      fill: #FFFFFF;\n",
              "    }\n",
              "  </style>\n",
              "\n",
              "      <script>\n",
              "        const buttonEl =\n",
              "          document.querySelector('#df-1a229abf-4995-4360-856f-9763f17dc2d6 button.colab-df-convert');\n",
              "        buttonEl.style.display =\n",
              "          google.colab.kernel.accessAllowed ? 'block' : 'none';\n",
              "\n",
              "        async function convertToInteractive(key) {\n",
              "          const element = document.querySelector('#df-1a229abf-4995-4360-856f-9763f17dc2d6');\n",
              "          const dataTable =\n",
              "            await google.colab.kernel.invokeFunction('convertToInteractive',\n",
              "                                                     [key], {});\n",
              "          if (!dataTable) return;\n",
              "\n",
              "          const docLinkHtml = 'Like what you see? Visit the ' +\n",
              "            '<a target=\"_blank\" href=https://colab.research.google.com/notebooks/data_table.ipynb>data table notebook</a>'\n",
              "            + ' to learn more about interactive tables.';\n",
              "          element.innerHTML = '';\n",
              "          dataTable['output_type'] = 'display_data';\n",
              "          await google.colab.output.renderOutput(dataTable, element);\n",
              "          const docLink = document.createElement('div');\n",
              "          docLink.innerHTML = docLinkHtml;\n",
              "          element.appendChild(docLink);\n",
              "        }\n",
              "      </script>\n",
              "    </div>\n",
              "  </div>\n",
              "  "
            ]
          },
          "metadata": {},
          "execution_count": 72
        }
      ]
    },
    {
      "cell_type": "markdown",
      "source": [
        "# Media Constante"
      ],
      "metadata": {
        "id": "bKu2oHB3Oenp"
      }
    },
    {
      "cell_type": "code",
      "source": [
        "model_mean_pred = df_train['y'].mean()\n",
        "model_mean_pred"
      ],
      "metadata": {
        "colab": {
          "base_uri": "https://localhost:8080/"
        },
        "id": "sL4faPIxfcZV",
        "outputId": "23fa2e32-1ff1-4816-a4e6-1509b310ae15"
      },
      "execution_count": null,
      "outputs": [
        {
          "output_type": "execute_result",
          "data": {
            "text/plain": [
              "729.125"
            ]
          },
          "metadata": {},
          "execution_count": 73
        }
      ]
    },
    {
      "cell_type": "code",
      "source": [
        "df_train_mc = df_train.copy()\n",
        "df_train_mc['Mean'] = model_mean_pred\n",
        "\n",
        "df_test_mc = df_test.copy()\n",
        "df_test_mc['Mean'] = model_mean_pred"
      ],
      "metadata": {
        "id": "9vlzGilKfeH0"
      },
      "execution_count": null,
      "outputs": []
    },
    {
      "cell_type": "code",
      "source": [
        "fig, axes = plt.subplots(1, 2,figsize=(12,6))\n",
        "df_train_mc.plot(ax=axes[0], y = [\"y\",\"Mean\"],title='Train')\n",
        "df_test_mc.plot(ax=axes[1],y = [\"y\",\"Mean\"], title='Test')\n",
        "plt.show()"
      ],
      "metadata": {
        "colab": {
          "base_uri": "https://localhost:8080/",
          "height": 402
        },
        "id": "ZgxhkOGafgAG",
        "outputId": "b1499407-5323-4417-cc17-78a23291ef97"
      },
      "execution_count": null,
      "outputs": [
        {
          "output_type": "display_data",
          "data": {
            "text/plain": [
              "<Figure size 864x432 with 2 Axes>"
            ],
            "image/png": "[encoded data removed]"
          },
          "metadata": {
            "needs_background": "light"
          }
        }
      ]
    },
    {
      "cell_type": "code",
      "source": [
        "model_RMSE = RMSE(df_test_mc.Mean, df_test_mc.y)"
      ],
      "metadata": {
        "id": "G08_jCLqfs0r"
      },
      "execution_count": null,
      "outputs": []
    },
    {
      "cell_type": "code",
      "source": [
        "df_Results.loc[1, \"Model\"] = \"Mean\"\n",
        "df_Results.loc[1, \"RMSE\"] = model_RMSE\n",
        "df_Results.head()"
      ],
      "metadata": {
        "colab": {
          "base_uri": "https://localhost:8080/",
          "height": 111
        },
        "id": "9ZLiqvlZfsvQ",
        "outputId": "c12b93ef-8a9c-484e-dc5b-fa11024ceb39"
      },
      "execution_count": null,
      "outputs": [
        {
          "output_type": "execute_result",
          "data": {
            "text/plain": [
              "         Model       RMSE\n",
              "0  Random Walk  74.525723\n",
              "1         Mean  74.712191"
            ],
            "text/html": [
              "\n",
              "  <div id=\"df-f6e9758a-de95-4e5c-9980-16f19e4af4d0\">\n",
              "    <div class=\"colab-df-container\">\n",
              "      <div>\n",
              "<style scoped>\n",
              "    .dataframe tbody tr th:only-of-type {\n",
              "        vertical-align: middle;\n",
              "    }\n",
              "\n",
              "    .dataframe tbody tr th {\n",
              "        vertical-align: top;\n",
              "    }\n",
              "\n",
              "    .dataframe thead th {\n",
              "        text-align: right;\n",
              "    }\n",
              "</style>\n",
              "<table border=\"1\" class=\"dataframe\">\n",
              "  <thead>\n",
              "    <tr style=\"text-align: right;\">\n",
              "      <th></th>\n",
              "      <th>Model</th>\n",
              "      <th>RMSE</th>\n",
              "    </tr>\n",
              "  </thead>\n",
              "  <tbody>\n",
              "    <tr>\n",
              "      <th>0</th>\n",
              "      <td>Random Walk</td>\n",
              "      <td>74.525723</td>\n",
              "    </tr>\n",
              "    <tr>\n",
              "      <th>1</th>\n",
              "      <td>Mean</td>\n",
              "      <td>74.712191</td>\n",
              "    </tr>\n",
              "  </tbody>\n",
              "</table>\n",
              "</div>\n",
              "      <button class=\"colab-df-convert\" onclick=\"convertToInteractive('df-f6e9758a-de95-4e5c-9980-16f19e4af4d0')\"\n",
              "              title=\"Convert this dataframe to an interactive table.\"\n",
              "              style=\"display:none;\">\n",
              "        \n",
              "  <svg xmlns=\"http://www.w3.org/2000/svg\" height=\"24px\"viewBox=\"0 0 24 24\"\n",
              "       width=\"24px\">\n",
              "    <path d=\"M0 0h24v24H0V0z\" fill=\"none\"/>\n",
              "    <path d=\"M18.56 5.44l.94 2.06.94-2.06 2.06-.94-2.06-.94-.94-2.06-.94 2.06-2.06.94zm-11 1L8.5 8.5l.94-2.06 2.06-.94-2.06-.94L8.5 2.5l-.94 2.06-2.06.94zm10 10l.94 2.06.94-2.06 2.06-.94-2.06-.94-.94-2.06-.94 2.06-2.06.94z\"/><path d=\"M17.41 7.96l-1.37-1.37c-.4-.4-.92-.59-1.43-.59-.52 0-1.04.2-1.43.59L10.3 9.45l-7.72 7.72c-.78.78-.78 2.05 0 2.83L4 21.41c.39.39.9.59 1.41.59.51 0 1.02-.2 1.41-.59l7.78-7.78 2.81-2.81c.8-.78.8-2.07 0-2.86zM5.41 20L4 18.59l7.72-7.72 1.47 1.35L5.41 20z\"/>\n",
              "  </svg>\n",
              "      </button>\n",
              "      \n",
              "  <style>\n",
              "    .colab-df-container {\n",
              "      display:flex;\n",
              "      flex-wrap:wrap;\n",
              "      gap: 12px;\n",
              "    }\n",
              "\n",
              "    .colab-df-convert {\n",
              "      background-color: #E8F0FE;\n",
              "      border: none;\n",
              "      border-radius: 50%;\n",
              "      cursor: pointer;\n",
              "      display: none;\n",
              "      fill: #1967D2;\n",
              "      height: 32px;\n",
              "      padding: 0 0 0 0;\n",
              "      width: 32px;\n",
              "    }\n",
              "\n",
              "    .colab-df-convert:hover {\n",
              "      background-color: #E2EBFA;\n",
              "      box-shadow: 0px 1px 2px rgba(60, 64, 67, 0.3), 0px 1px 3px 1px rgba(60, 64, 67, 0.15);\n",
              "      fill: #174EA6;\n",
              "    }\n",
              "\n",
              "    [theme=dark] .colab-df-convert {\n",
              "      background-color: #3B4455;\n",
              "      fill: #D2E3FC;\n",
              "    }\n",
              "\n",
              "    [theme=dark] .colab-df-convert:hover {\n",
              "      background-color: #434B5C;\n",
              "      box-shadow: 0px 1px 3px 1px rgba(0, 0, 0, 0.15);\n",
              "      filter: drop-shadow(0px 1px 2px rgba(0, 0, 0, 0.3));\n",
              "      fill: #FFFFFF;\n",
              "    }\n",
              "  </style>\n",
              "\n",
              "      <script>\n",
              "        const buttonEl =\n",
              "          document.querySelector('#df-f6e9758a-de95-4e5c-9980-16f19e4af4d0 button.colab-df-convert');\n",
              "        buttonEl.style.display =\n",
              "          google.colab.kernel.accessAllowed ? 'block' : 'none';\n",
              "\n",
              "        async function convertToInteractive(key) {\n",
              "          const element = document.querySelector('#df-f6e9758a-de95-4e5c-9980-16f19e4af4d0');\n",
              "          const dataTable =\n",
              "            await google.colab.kernel.invokeFunction('convertToInteractive',\n",
              "                                                     [key], {});\n",
              "          if (!dataTable) return;\n",
              "\n",
              "          const docLinkHtml = 'Like what you see? Visit the ' +\n",
              "            '<a target=\"_blank\" href=https://colab.research.google.com/notebooks/data_table.ipynb>data table notebook</a>'\n",
              "            + ' to learn more about interactive tables.';\n",
              "          element.innerHTML = '';\n",
              "          dataTable['output_type'] = 'display_data';\n",
              "          await google.colab.output.renderOutput(dataTable, element);\n",
              "          const docLink = document.createElement('div');\n",
              "          docLink.innerHTML = docLinkHtml;\n",
              "          element.appendChild(docLink);\n",
              "        }\n",
              "      </script>\n",
              "    </div>\n",
              "  </div>\n",
              "  "
            ]
          },
          "metadata": {},
          "execution_count": 77
        }
      ]
    },
    {
      "cell_type": "markdown",
      "source": [
        "# Tendencia lineal"
      ],
      "metadata": {
        "id": "HQ0gSDCDSmyg"
      }
    },
    {
      "cell_type": "code",
      "source": [
        "df_grouped[\"timeIndex\"] = pd.Series(np.arange(len(df_grouped['y'])), index=df_grouped.index)\n",
        "df_grouped.timeIndex.head()"
      ],
      "metadata": {
        "colab": {
          "base_uri": "https://localhost:8080/"
        },
        "id": "fE6TKkaUgFeK",
        "outputId": "ea553efd-843d-4a57-a74e-ee60fcc1b7d4"
      },
      "execution_count": null,
      "outputs": [
        {
          "output_type": "execute_result",
          "data": {
            "text/plain": [
              "2015-01-01    0\n",
              "2015-02-01    1\n",
              "2015-03-01    2\n",
              "2015-04-01    3\n",
              "2015-05-01    4\n",
              "Freq: MS, Name: timeIndex, dtype: int64"
            ]
          },
          "metadata": {},
          "execution_count": 78
        }
      ]
    },
    {
      "cell_type": "code",
      "source": [
        "from sklearn.model_selection import train_test_split\n",
        "df_train, df_test = train_test_split(df_grouped, test_size=12, random_state=42, shuffle=False)"
      ],
      "metadata": {
        "id": "4MC753QVg_We"
      },
      "execution_count": null,
      "outputs": []
    },
    {
      "cell_type": "code",
      "source": [
        "import statsmodels.api as sm\n",
        "sm.OLS.from_formula"
      ],
      "metadata": {
        "colab": {
          "base_uri": "https://localhost:8080/"
        },
        "id": "b9OTUAp2gFbr",
        "outputId": "e46d3143-fd48-4826-f4da-5a35fa476b0b"
      },
      "execution_count": null,
      "outputs": [
        {
          "output_type": "execute_result",
          "data": {
            "text/plain": [
              "<bound method Model.from_formula of <class 'statsmodels.regression.linear_model.OLS'>>"
            ]
          },
          "metadata": {},
          "execution_count": 80
        }
      ]
    },
    {
      "cell_type": "code",
      "source": [
        "import statsmodels.formula.api as smf\n",
        "model_linear = smf.ols(formula='y ~ timeIndex', data = df_train).fit()"
      ],
      "metadata": {
        "id": "x9t6pLDMgFZI"
      },
      "execution_count": null,
      "outputs": []
    },
    {
      "cell_type": "code",
      "source": [
        "df_train[\"LinearTrend\"] = model_linear.predict(df_train.timeIndex)\n",
        "df_test[\"LinearTrend\"] = model_linear.predict(df_test.timeIndex)"
      ],
      "metadata": {
        "id": "DvB4BFurgPm7"
      },
      "execution_count": null,
      "outputs": []
    },
    {
      "cell_type": "code",
      "source": [
        "fig, axes = plt.subplots(1, 2,figsize=(12,6))\n",
        "df_train.plot(kind = \"line\", y = [\"y\",\"LinearTrend\"],ax=axes[0],title='Train');\n",
        "df_test.plot(kind = \"line\", y = [\"y\",\"LinearTrend\"],ax=axes[1],title='Test');\n",
        "plt.show()"
      ],
      "metadata": {
        "colab": {
          "base_uri": "https://localhost:8080/",
          "height": 402
        },
        "id": "Qp6skT1-gPkZ",
        "outputId": "2a1ff270-e3d0-4896-90bf-a0a532fd8dcb"
      },
      "execution_count": null,
      "outputs": [
        {
          "output_type": "display_data",
          "data": {
            "text/plain": [
              "<Figure size 864x432 with 2 Axes>"
            ],
            "image/png": "[encoded data removed]"
          },
          "metadata": {
            "needs_background": "light"
          }
        }
      ]
    },
    {
      "cell_type": "code",
      "source": [
        "model_RMSE = RMSE(df_test.LinearTrend, df_test.y)"
      ],
      "metadata": {
        "id": "8iLiubmhgTPf"
      },
      "execution_count": null,
      "outputs": []
    },
    {
      "cell_type": "code",
      "source": [
        "df_Results.loc[2, \"Model\"] = \"LinearTrend\"\n",
        "df_Results.loc[2, \"RMSE\"] = model_RMSE\n",
        "df_Results.head()"
      ],
      "metadata": {
        "colab": {
          "base_uri": "https://localhost:8080/",
          "height": 142
        },
        "id": "Ya7RcetagWAZ",
        "outputId": "827fa6f1-c24e-447f-cb84-3fe66827085f"
      },
      "execution_count": null,
      "outputs": [
        {
          "output_type": "execute_result",
          "data": {
            "text/plain": [
              "         Model       RMSE\n",
              "0  Random Walk  74.525723\n",
              "1         Mean  74.712191\n",
              "2  LinearTrend   74.86737"
            ],
            "text/html": [
              "\n",
              "  <div id=\"df-ef9ccd3d-d5c9-4b83-83bb-9b54971119cd\">\n",
              "    <div class=\"colab-df-container\">\n",
              "      <div>\n",
              "<style scoped>\n",
              "    .dataframe tbody tr th:only-of-type {\n",
              "        vertical-align: middle;\n",
              "    }\n",
              "\n",
              "    .dataframe tbody tr th {\n",
              "        vertical-align: top;\n",
              "    }\n",
              "\n",
              "    .dataframe thead th {\n",
              "        text-align: right;\n",
              "    }\n",
              "</style>\n",
              "<table border=\"1\" class=\"dataframe\">\n",
              "  <thead>\n",
              "    <tr style=\"text-align: right;\">\n",
              "      <th></th>\n",
              "      <th>Model</th>\n",
              "      <th>RMSE</th>\n",
              "    </tr>\n",
              "  </thead>\n",
              "  <tbody>\n",
              "    <tr>\n",
              "      <th>0</th>\n",
              "      <td>Random Walk</td>\n",
              "      <td>74.525723</td>\n",
              "    </tr>\n",
              "    <tr>\n",
              "      <th>1</th>\n",
              "      <td>Mean</td>\n",
              "      <td>74.712191</td>\n",
              "    </tr>\n",
              "    <tr>\n",
              "      <th>2</th>\n",
              "      <td>LinearTrend</td>\n",
              "      <td>74.86737</td>\n",
              "    </tr>\n",
              "  </tbody>\n",
              "</table>\n",
              "</div>\n",
              "      <button class=\"colab-df-convert\" onclick=\"convertToInteractive('df-ef9ccd3d-d5c9-4b83-83bb-9b54971119cd')\"\n",
              "              title=\"Convert this dataframe to an interactive table.\"\n",
              "              style=\"display:none;\">\n",
              "        \n",
              "  <svg xmlns=\"http://www.w3.org/2000/svg\" height=\"24px\"viewBox=\"0 0 24 24\"\n",
              "       width=\"24px\">\n",
              "    <path d=\"M0 0h24v24H0V0z\" fill=\"none\"/>\n",
              "    <path d=\"M18.56 5.44l.94 2.06.94-2.06 2.06-.94-2.06-.94-.94-2.06-.94 2.06-2.06.94zm-11 1L8.5 8.5l.94-2.06 2.06-.94-2.06-.94L8.5 2.5l-.94 2.06-2.06.94zm10 10l.94 2.06.94-2.06 2.06-.94-2.06-.94-.94-2.06-.94 2.06-2.06.94z\"/><path d=\"M17.41 7.96l-1.37-1.37c-.4-.4-.92-.59-1.43-.59-.52 0-1.04.2-1.43.59L10.3 9.45l-7.72 7.72c-.78.78-.78 2.05 0 2.83L4 21.41c.39.39.9.59 1.41.59.51 0 1.02-.2 1.41-.59l7.78-7.78 2.81-2.81c.8-.78.8-2.07 0-2.86zM5.41 20L4 18.59l7.72-7.72 1.47 1.35L5.41 20z\"/>\n",
              "  </svg>\n",
              "      </button>\n",
              "      \n",
              "  <style>\n",
              "    .colab-df-container {\n",
              "      display:flex;\n",
              "      flex-wrap:wrap;\n",
              "      gap: 12px;\n",
              "    }\n",
              "\n",
              "    .colab-df-convert {\n",
              "      background-color: #E8F0FE;\n",
              "      border: none;\n",
              "      border-radius: 50%;\n",
              "      cursor: pointer;\n",
              "      display: none;\n",
              "      fill: #1967D2;\n",
              "      height: 32px;\n",
              "      padding: 0 0 0 0;\n",
              "      width: 32px;\n",
              "    }\n",
              "\n",
              "    .colab-df-convert:hover {\n",
              "      background-color: #E2EBFA;\n",
              "      box-shadow: 0px 1px 2px rgba(60, 64, 67, 0.3), 0px 1px 3px 1px rgba(60, 64, 67, 0.15);\n",
              "      fill: #174EA6;\n",
              "    }\n",
              "\n",
              "    [theme=dark] .colab-df-convert {\n",
              "      background-color: #3B4455;\n",
              "      fill: #D2E3FC;\n",
              "    }\n",
              "\n",
              "    [theme=dark] .colab-df-convert:hover {\n",
              "      background-color: #434B5C;\n",
              "      box-shadow: 0px 1px 3px 1px rgba(0, 0, 0, 0.15);\n",
              "      filter: drop-shadow(0px 1px 2px rgba(0, 0, 0, 0.3));\n",
              "      fill: #FFFFFF;\n",
              "    }\n",
              "  </style>\n",
              "\n",
              "      <script>\n",
              "        const buttonEl =\n",
              "          document.querySelector('#df-ef9ccd3d-d5c9-4b83-83bb-9b54971119cd button.colab-df-convert');\n",
              "        buttonEl.style.display =\n",
              "          google.colab.kernel.accessAllowed ? 'block' : 'none';\n",
              "\n",
              "        async function convertToInteractive(key) {\n",
              "          const element = document.querySelector('#df-ef9ccd3d-d5c9-4b83-83bb-9b54971119cd');\n",
              "          const dataTable =\n",
              "            await google.colab.kernel.invokeFunction('convertToInteractive',\n",
              "                                                     [key], {});\n",
              "          if (!dataTable) return;\n",
              "\n",
              "          const docLinkHtml = 'Like what you see? Visit the ' +\n",
              "            '<a target=\"_blank\" href=https://colab.research.google.com/notebooks/data_table.ipynb>data table notebook</a>'\n",
              "            + ' to learn more about interactive tables.';\n",
              "          element.innerHTML = '';\n",
              "          dataTable['output_type'] = 'display_data';\n",
              "          await google.colab.output.renderOutput(dataTable, element);\n",
              "          const docLink = document.createElement('div');\n",
              "          docLink.innerHTML = docLinkHtml;\n",
              "          element.appendChild(docLink);\n",
              "        }\n",
              "      </script>\n",
              "    </div>\n",
              "  </div>\n",
              "  "
            ]
          },
          "metadata": {},
          "execution_count": 85
        }
      ]
    },
    {
      "cell_type": "code",
      "source": [
        "model_linear.summary()"
      ],
      "metadata": {
        "colab": {
          "base_uri": "https://localhost:8080/",
          "height": 444
        },
        "id": "x1TzCPR9gZeO",
        "outputId": "af02fdc9-ef07-4624-9b4c-6803becec6f1"
      },
      "execution_count": null,
      "outputs": [
        {
          "output_type": "execute_result",
          "data": {
            "text/plain": [
              "<class 'statsmodels.iolib.summary.Summary'>\n",
              "\"\"\"\n",
              "                            OLS Regression Results                            \n",
              "==============================================================================\n",
              "Dep. Variable:                      y   R-squared:                       0.001\n",
              "Model:                            OLS   Adj. R-squared:                 -0.045\n",
              "Method:                 Least Squares   F-statistic:                   0.01990\n",
              "Date:                Tue, 15 Mar 2022   Prob (F-statistic):              0.889\n",
              "Time:                        20:51:51   Log-Likelihood:                -136.88\n",
              "No. Observations:                  24   AIC:                             277.8\n",
              "Df Residuals:                      22   BIC:                             280.1\n",
              "Df Model:                           1                                         \n",
              "Covariance Type:            nonrobust                                         \n",
              "==============================================================================\n",
              "                 coef    std err          t      P>|t|      [0.025      0.975]\n",
              "------------------------------------------------------------------------------\n",
              "Intercept    725.5000     29.996     24.186      0.000     663.292     787.708\n",
              "timeIndex      0.3152      2.235      0.141      0.889      -4.319       4.950\n",
              "==============================================================================\n",
              "Omnibus:                        0.688   Durbin-Watson:                   1.410\n",
              "Prob(Omnibus):                  0.709   Jarque-Bera (JB):                0.683\n",
              "Skew:                          -0.347   Prob(JB):                        0.711\n",
              "Kurtosis:                       2.552   Cond. No.                         26.1\n",
              "==============================================================================\n",
              "\n",
              "Warnings:\n",
              "[1] Standard Errors assume that the covariance matrix of the errors is correctly specified.\n",
              "\"\"\""
            ],
            "text/html": [
              "<table class=\"simpletable\">\n",
              "<caption>OLS Regression Results</caption>\n",
              "<tr>\n",
              "  <th>Dep. Variable:</th>            <td>y</td>        <th>  R-squared:         </th> <td>   0.001</td>\n",
              "</tr>\n",
              "<tr>\n",
              "  <th>Model:</th>                   <td>OLS</td>       <th>  Adj. R-squared:    </th> <td>  -0.045</td>\n",
              "</tr>\n",
              "<tr>\n",
              "  <th>Method:</th>             <td>Least Squares</td>  <th>  F-statistic:       </th> <td> 0.01990</td>\n",
              "</tr>\n",
              "<tr>\n",
              "  <th>Date:</th>             <td>Tue, 15 Mar 2022</td> <th>  Prob (F-statistic):</th>  <td> 0.889</td> \n",
              "</tr>\n",
              "<tr>\n",
              "  <th>Time:</th>                 <td>20:51:51</td>     <th>  Log-Likelihood:    </th> <td> -136.88</td>\n",
              "</tr>\n",
              "<tr>\n",
              "  <th>No. Observations:</th>      <td>    24</td>      <th>  AIC:               </th> <td>   277.8</td>\n",
              "</tr>\n",
              "<tr>\n",
              "  <th>Df Residuals:</th>          <td>    22</td>      <th>  BIC:               </th> <td>   280.1</td>\n",
              "</tr>\n",
              "<tr>\n",
              "  <th>Df Model:</th>              <td>     1</td>      <th>                     </th>     <td> </td>   \n",
              "</tr>\n",
              "<tr>\n",
              "  <th>Covariance Type:</th>      <td>nonrobust</td>    <th>                     </th>     <td> </td>   \n",
              "</tr>\n",
              "</table>\n",
              "<table class=\"simpletable\">\n",
              "<tr>\n",
              "      <td></td>         <th>coef</th>     <th>std err</th>      <th>t</th>      <th>P>|t|</th>  <th>[0.025</th>    <th>0.975]</th>  \n",
              "</tr>\n",
              "<tr>\n",
              "  <th>Intercept</th> <td>  725.5000</td> <td>   29.996</td> <td>   24.186</td> <td> 0.000</td> <td>  663.292</td> <td>  787.708</td>\n",
              "</tr>\n",
              "<tr>\n",
              "  <th>timeIndex</th> <td>    0.3152</td> <td>    2.235</td> <td>    0.141</td> <td> 0.889</td> <td>   -4.319</td> <td>    4.950</td>\n",
              "</tr>\n",
              "</table>\n",
              "<table class=\"simpletable\">\n",
              "<tr>\n",
              "  <th>Omnibus:</th>       <td> 0.688</td> <th>  Durbin-Watson:     </th> <td>   1.410</td>\n",
              "</tr>\n",
              "<tr>\n",
              "  <th>Prob(Omnibus):</th> <td> 0.709</td> <th>  Jarque-Bera (JB):  </th> <td>   0.683</td>\n",
              "</tr>\n",
              "<tr>\n",
              "  <th>Skew:</th>          <td>-0.347</td> <th>  Prob(JB):          </th> <td>   0.711</td>\n",
              "</tr>\n",
              "<tr>\n",
              "  <th>Kurtosis:</th>      <td> 2.552</td> <th>  Cond. No.          </th> <td>    26.1</td>\n",
              "</tr>\n",
              "</table><br/><br/>Warnings:<br/>[1] Standard Errors assume that the covariance matrix of the errors is correctly specified."
            ]
          },
          "metadata": {},
          "execution_count": 86
        }
      ]
    },
    {
      "cell_type": "markdown",
      "source": [
        "# Tendencia cuadratica"
      ],
      "metadata": {
        "id": "UKavHPEZiEgR"
      }
    },
    {
      "cell_type": "code",
      "source": [
        "df_grouped[\"timeIndex_sq\"] = df_grouped[\"timeIndex\"]**2\n",
        "df_grouped.timeIndex_sq.head(3)"
      ],
      "metadata": {
        "colab": {
          "base_uri": "https://localhost:8080/"
        },
        "id": "m1IINAT5iLjZ",
        "outputId": "85ea108b-8d94-4147-ec8d-a753690a1c5f"
      },
      "execution_count": null,
      "outputs": [
        {
          "output_type": "execute_result",
          "data": {
            "text/plain": [
              "2015-01-01    0\n",
              "2015-02-01    1\n",
              "2015-03-01    4\n",
              "Freq: MS, Name: timeIndex_sq, dtype: int64"
            ]
          },
          "metadata": {},
          "execution_count": 87
        }
      ]
    },
    {
      "cell_type": "code",
      "source": [
        "from sklearn.model_selection import train_test_split\n",
        "df_train, df_test = train_test_split(df_grouped, test_size=12, random_state=42, shuffle=False)"
      ],
      "metadata": {
        "id": "v899ltkcibQ5"
      },
      "execution_count": null,
      "outputs": []
    },
    {
      "cell_type": "code",
      "source": [
        "import statsmodels.formula.api as smf\n",
        "model_quadratic = smf.ols('y ~ timeIndex + timeIndex_sq', data = df_train).fit()"
      ],
      "metadata": {
        "id": "xhWu57vXiLf4"
      },
      "execution_count": null,
      "outputs": []
    },
    {
      "cell_type": "code",
      "source": [
        "df_train[\"QuadraticTrend\"] = model_quadratic.predict(df_train[[\"timeIndex\",\"timeIndex_sq\"]])\n",
        "df_test[\"QuadraticTrend\"] = model_quadratic.predict(df_test[[\"timeIndex\",\"timeIndex_sq\"]])"
      ],
      "metadata": {
        "id": "G6HvcO6ZiLc-"
      },
      "execution_count": null,
      "outputs": []
    },
    {
      "cell_type": "code",
      "source": [
        "fig, axes = plt.subplots(1, 2,figsize=(12,6))\n",
        "df_train.plot(kind = \"line\", y = [\"y\",\"QuadraticTrend\"],ax=axes[0],title='Train');\n",
        "df_test.plot(kind = \"line\", y = [\"y\",\"QuadraticTrend\"],ax=axes[1],title='Test');\n",
        "plt.show()"
      ],
      "metadata": {
        "colab": {
          "base_uri": "https://localhost:8080/",
          "height": 402
        },
        "id": "NEE-4DS3iLaI",
        "outputId": "0932e6be-779f-489c-ca4c-67265859a36b"
      },
      "execution_count": null,
      "outputs": [
        {
          "output_type": "display_data",
          "data": {
            "text/plain": [
              "<Figure size 864x432 with 2 Axes>"
            ],
            "image/png": "[encoded data removed]"
          },
          "metadata": {
            "needs_background": "light"
          }
        }
      ]
    },
    {
      "cell_type": "code",
      "source": [
        "model_RMSE = RMSE(df_test.QuadraticTrend, df_test.y)"
      ],
      "metadata": {
        "id": "PaMJwsIeioNk"
      },
      "execution_count": null,
      "outputs": []
    },
    {
      "cell_type": "code",
      "source": [
        "df_Results.loc[3, \"Model\"] = \"QuadraticTrend\"\n",
        "df_Results.loc[3, \"RMSE\"] = model_RMSE\n",
        "df_Results.head()"
      ],
      "metadata": {
        "colab": {
          "base_uri": "https://localhost:8080/",
          "height": 173
        },
        "id": "F3lB4NChioJ1",
        "outputId": "46236ad2-17fa-401c-e553-adb56bc1413b"
      },
      "execution_count": null,
      "outputs": [
        {
          "output_type": "execute_result",
          "data": {
            "text/plain": [
              "            Model       RMSE\n",
              "0     Random Walk  74.525723\n",
              "1            Mean  74.712191\n",
              "2     LinearTrend   74.86737\n",
              "3  QuadraticTrend   79.74297"
            ],
            "text/html": [
              "\n",
              "  <div id=\"df-c3d11501-10a8-4268-87ec-cffd48319c7d\">\n",
              "    <div class=\"colab-df-container\">\n",
              "      <div>\n",
              "<style scoped>\n",
              "    .dataframe tbody tr th:only-of-type {\n",
              "        vertical-align: middle;\n",
              "    }\n",
              "\n",
              "    .dataframe tbody tr th {\n",
              "        vertical-align: top;\n",
              "    }\n",
              "\n",
              "    .dataframe thead th {\n",
              "        text-align: right;\n",
              "    }\n",
              "</style>\n",
              "<table border=\"1\" class=\"dataframe\">\n",
              "  <thead>\n",
              "    <tr style=\"text-align: right;\">\n",
              "      <th></th>\n",
              "      <th>Model</th>\n",
              "      <th>RMSE</th>\n",
              "    </tr>\n",
              "  </thead>\n",
              "  <tbody>\n",
              "    <tr>\n",
              "      <th>0</th>\n",
              "      <td>Random Walk</td>\n",
              "      <td>74.525723</td>\n",
              "    </tr>\n",
              "    <tr>\n",
              "      <th>1</th>\n",
              "      <td>Mean</td>\n",
              "      <td>74.712191</td>\n",
              "    </tr>\n",
              "    <tr>\n",
              "      <th>2</th>\n",
              "      <td>LinearTrend</td>\n",
              "      <td>74.86737</td>\n",
              "    </tr>\n",
              "    <tr>\n",
              "      <th>3</th>\n",
              "      <td>QuadraticTrend</td>\n",
              "      <td>79.74297</td>\n",
              "    </tr>\n",
              "  </tbody>\n",
              "</table>\n",
              "</div>\n",
              "      <button class=\"colab-df-convert\" onclick=\"convertToInteractive('df-c3d11501-10a8-4268-87ec-cffd48319c7d')\"\n",
              "              title=\"Convert this dataframe to an interactive table.\"\n",
              "              style=\"display:none;\">\n",
              "        \n",
              "  <svg xmlns=\"http://www.w3.org/2000/svg\" height=\"24px\"viewBox=\"0 0 24 24\"\n",
              "       width=\"24px\">\n",
              "    <path d=\"M0 0h24v24H0V0z\" fill=\"none\"/>\n",
              "    <path d=\"M18.56 5.44l.94 2.06.94-2.06 2.06-.94-2.06-.94-.94-2.06-.94 2.06-2.06.94zm-11 1L8.5 8.5l.94-2.06 2.06-.94-2.06-.94L8.5 2.5l-.94 2.06-2.06.94zm10 10l.94 2.06.94-2.06 2.06-.94-2.06-.94-.94-2.06-.94 2.06-2.06.94z\"/><path d=\"M17.41 7.96l-1.37-1.37c-.4-.4-.92-.59-1.43-.59-.52 0-1.04.2-1.43.59L10.3 9.45l-7.72 7.72c-.78.78-.78 2.05 0 2.83L4 21.41c.39.39.9.59 1.41.59.51 0 1.02-.2 1.41-.59l7.78-7.78 2.81-2.81c.8-.78.8-2.07 0-2.86zM5.41 20L4 18.59l7.72-7.72 1.47 1.35L5.41 20z\"/>\n",
              "  </svg>\n",
              "      </button>\n",
              "      \n",
              "  <style>\n",
              "    .colab-df-container {\n",
              "      display:flex;\n",
              "      flex-wrap:wrap;\n",
              "      gap: 12px;\n",
              "    }\n",
              "\n",
              "    .colab-df-convert {\n",
              "      background-color: #E8F0FE;\n",
              "      border: none;\n",
              "      border-radius: 50%;\n",
              "      cursor: pointer;\n",
              "      display: none;\n",
              "      fill: #1967D2;\n",
              "      height: 32px;\n",
              "      padding: 0 0 0 0;\n",
              "      width: 32px;\n",
              "    }\n",
              "\n",
              "    .colab-df-convert:hover {\n",
              "      background-color: #E2EBFA;\n",
              "      box-shadow: 0px 1px 2px rgba(60, 64, 67, 0.3), 0px 1px 3px 1px rgba(60, 64, 67, 0.15);\n",
              "      fill: #174EA6;\n",
              "    }\n",
              "\n",
              "    [theme=dark] .colab-df-convert {\n",
              "      background-color: #3B4455;\n",
              "      fill: #D2E3FC;\n",
              "    }\n",
              "\n",
              "    [theme=dark] .colab-df-convert:hover {\n",
              "      background-color: #434B5C;\n",
              "      box-shadow: 0px 1px 3px 1px rgba(0, 0, 0, 0.15);\n",
              "      filter: drop-shadow(0px 1px 2px rgba(0, 0, 0, 0.3));\n",
              "      fill: #FFFFFF;\n",
              "    }\n",
              "  </style>\n",
              "\n",
              "      <script>\n",
              "        const buttonEl =\n",
              "          document.querySelector('#df-c3d11501-10a8-4268-87ec-cffd48319c7d button.colab-df-convert');\n",
              "        buttonEl.style.display =\n",
              "          google.colab.kernel.accessAllowed ? 'block' : 'none';\n",
              "\n",
              "        async function convertToInteractive(key) {\n",
              "          const element = document.querySelector('#df-c3d11501-10a8-4268-87ec-cffd48319c7d');\n",
              "          const dataTable =\n",
              "            await google.colab.kernel.invokeFunction('convertToInteractive',\n",
              "                                                     [key], {});\n",
              "          if (!dataTable) return;\n",
              "\n",
              "          const docLinkHtml = 'Like what you see? Visit the ' +\n",
              "            '<a target=\"_blank\" href=https://colab.research.google.com/notebooks/data_table.ipynb>data table notebook</a>'\n",
              "            + ' to learn more about interactive tables.';\n",
              "          element.innerHTML = '';\n",
              "          dataTable['output_type'] = 'display_data';\n",
              "          await google.colab.output.renderOutput(dataTable, element);\n",
              "          const docLink = document.createElement('div');\n",
              "          docLink.innerHTML = docLinkHtml;\n",
              "          element.appendChild(docLink);\n",
              "        }\n",
              "      </script>\n",
              "    </div>\n",
              "  </div>\n",
              "  "
            ]
          },
          "metadata": {},
          "execution_count": 93
        }
      ]
    },
    {
      "cell_type": "code",
      "source": [
        "model_quadratic.summary()"
      ],
      "metadata": {
        "colab": {
          "base_uri": "https://localhost:8080/",
          "height": 465
        },
        "id": "OFEHTcdNizEO",
        "outputId": "f273e9ee-32c1-47b9-93a5-5353eea30a8b"
      },
      "execution_count": null,
      "outputs": [
        {
          "output_type": "execute_result",
          "data": {
            "text/plain": [
              "<class 'statsmodels.iolib.summary.Summary'>\n",
              "\"\"\"\n",
              "                            OLS Regression Results                            \n",
              "==============================================================================\n",
              "Dep. Variable:                      y   R-squared:                       0.002\n",
              "Model:                            OLS   Adj. R-squared:                 -0.093\n",
              "Method:                 Least Squares   F-statistic:                   0.02617\n",
              "Date:                Tue, 15 Mar 2022   Prob (F-statistic):              0.974\n",
              "Time:                        20:51:51   Log-Likelihood:                -136.86\n",
              "No. Observations:                  24   AIC:                             279.7\n",
              "Df Residuals:                      21   BIC:                             283.3\n",
              "Df Model:                           2                                         \n",
              "Covariance Type:            nonrobust                                         \n",
              "================================================================================\n",
              "                   coef    std err          t      P>|t|      [0.025      0.975]\n",
              "--------------------------------------------------------------------------------\n",
              "Intercept      719.8019     43.765     16.447      0.000     628.788     810.816\n",
              "timeIndex        1.8692      8.814      0.212      0.834     -16.461      20.199\n",
              "timeIndex_sq    -0.0676      0.370     -0.183      0.857      -0.837       0.702\n",
              "==============================================================================\n",
              "Omnibus:                        0.730   Durbin-Watson:                   1.409\n",
              "Prob(Omnibus):                  0.694   Jarque-Bera (JB):                0.705\n",
              "Skew:                          -0.359   Prob(JB):                        0.703\n",
              "Kurtosis:                       2.566   Cond. No.                         686.\n",
              "==============================================================================\n",
              "\n",
              "Warnings:\n",
              "[1] Standard Errors assume that the covariance matrix of the errors is correctly specified.\n",
              "\"\"\""
            ],
            "text/html": [
              "<table class=\"simpletable\">\n",
              "<caption>OLS Regression Results</caption>\n",
              "<tr>\n",
              "  <th>Dep. Variable:</th>            <td>y</td>        <th>  R-squared:         </th> <td>   0.002</td>\n",
              "</tr>\n",
              "<tr>\n",
              "  <th>Model:</th>                   <td>OLS</td>       <th>  Adj. R-squared:    </th> <td>  -0.093</td>\n",
              "</tr>\n",
              "<tr>\n",
              "  <th>Method:</th>             <td>Least Squares</td>  <th>  F-statistic:       </th> <td> 0.02617</td>\n",
              "</tr>\n",
              "<tr>\n",
              "  <th>Date:</th>             <td>Tue, 15 Mar 2022</td> <th>  Prob (F-statistic):</th>  <td> 0.974</td> \n",
              "</tr>\n",
              "<tr>\n",
              "  <th>Time:</th>                 <td>20:51:51</td>     <th>  Log-Likelihood:    </th> <td> -136.86</td>\n",
              "</tr>\n",
              "<tr>\n",
              "  <th>No. Observations:</th>      <td>    24</td>      <th>  AIC:               </th> <td>   279.7</td>\n",
              "</tr>\n",
              "<tr>\n",
              "  <th>Df Residuals:</th>          <td>    21</td>      <th>  BIC:               </th> <td>   283.3</td>\n",
              "</tr>\n",
              "<tr>\n",
              "  <th>Df Model:</th>              <td>     2</td>      <th>                     </th>     <td> </td>   \n",
              "</tr>\n",
              "<tr>\n",
              "  <th>Covariance Type:</th>      <td>nonrobust</td>    <th>                     </th>     <td> </td>   \n",
              "</tr>\n",
              "</table>\n",
              "<table class=\"simpletable\">\n",
              "<tr>\n",
              "        <td></td>          <th>coef</th>     <th>std err</th>      <th>t</th>      <th>P>|t|</th>  <th>[0.025</th>    <th>0.975]</th>  \n",
              "</tr>\n",
              "<tr>\n",
              "  <th>Intercept</th>    <td>  719.8019</td> <td>   43.765</td> <td>   16.447</td> <td> 0.000</td> <td>  628.788</td> <td>  810.816</td>\n",
              "</tr>\n",
              "<tr>\n",
              "  <th>timeIndex</th>    <td>    1.8692</td> <td>    8.814</td> <td>    0.212</td> <td> 0.834</td> <td>  -16.461</td> <td>   20.199</td>\n",
              "</tr>\n",
              "<tr>\n",
              "  <th>timeIndex_sq</th> <td>   -0.0676</td> <td>    0.370</td> <td>   -0.183</td> <td> 0.857</td> <td>   -0.837</td> <td>    0.702</td>\n",
              "</tr>\n",
              "</table>\n",
              "<table class=\"simpletable\">\n",
              "<tr>\n",
              "  <th>Omnibus:</th>       <td> 0.730</td> <th>  Durbin-Watson:     </th> <td>   1.409</td>\n",
              "</tr>\n",
              "<tr>\n",
              "  <th>Prob(Omnibus):</th> <td> 0.694</td> <th>  Jarque-Bera (JB):  </th> <td>   0.705</td>\n",
              "</tr>\n",
              "<tr>\n",
              "  <th>Skew:</th>          <td>-0.359</td> <th>  Prob(JB):          </th> <td>   0.703</td>\n",
              "</tr>\n",
              "<tr>\n",
              "  <th>Kurtosis:</th>      <td> 2.566</td> <th>  Cond. No.          </th> <td>    686.</td>\n",
              "</tr>\n",
              "</table><br/><br/>Warnings:<br/>[1] Standard Errors assume that the covariance matrix of the errors is correctly specified."
            ]
          },
          "metadata": {},
          "execution_count": 94
        }
      ]
    },
    {
      "cell_type": "markdown",
      "source": [
        "# Tendencia con tranformacion logaritmica"
      ],
      "metadata": {
        "id": "IIFECo8RjeD-"
      }
    },
    {
      "cell_type": "code",
      "source": [
        "df_train['log_y'] = np.log(df_train['y'])\n",
        "df_test['log_y'] = np.log(df_test['y'])"
      ],
      "metadata": {
        "id": "J8bu7KEbjlRn"
      },
      "execution_count": null,
      "outputs": []
    },
    {
      "cell_type": "code",
      "source": [
        "fig, axes = plt.subplots(1, 2,figsize=(10,5))\n",
        "df_train.plot(kind = \"line\", y = [\"log_y\"],ax=axes[0],title='Train');\n",
        "df_test.plot(kind = \"line\", y = [\"log_y\"],ax=axes[1],title='Test');\n",
        "plt.show()"
      ],
      "metadata": {
        "colab": {
          "base_uri": "https://localhost:8080/",
          "height": 347
        },
        "id": "rVFMonpVjlMw",
        "outputId": "003ed2da-0fb7-4e7d-a70a-3b4fbd35201f"
      },
      "execution_count": null,
      "outputs": [
        {
          "output_type": "display_data",
          "data": {
            "text/plain": [
              "<Figure size 720x360 with 2 Axes>"
            ],
            "image/png": "[encoded data removed]"
          },
          "metadata": {
            "needs_background": "light"
          }
        }
      ]
    },
    {
      "cell_type": "markdown",
      "source": [
        "Generamos el modelo de regresión lineal usando el logaritmo de Y"
      ],
      "metadata": {
        "id": "G4S814N3j4QB"
      }
    },
    {
      "cell_type": "code",
      "source": [
        "import statsmodels.formula.api as smf\n",
        "model_log = smf.ols('log_y ~ timeIndex ', data = df_train).fit()"
      ],
      "metadata": {
        "id": "5o2gG_RRjlKH"
      },
      "execution_count": null,
      "outputs": []
    },
    {
      "cell_type": "markdown",
      "source": [
        "Y las predicciones del modelo sobre *train y test*."
      ],
      "metadata": {
        "id": "6G4bHmUyj56i"
      }
    },
    {
      "cell_type": "code",
      "source": [
        "df_train[\"LogTrend\"] = model_log.predict(df_train[[\"timeIndex\"]])\n",
        "df_test[\"LogTrend\"] = model_log.predict(df_test[[\"timeIndex\"]])"
      ],
      "metadata": {
        "id": "DJ_7_vDhjlH5"
      },
      "execution_count": null,
      "outputs": []
    },
    {
      "cell_type": "markdown",
      "source": [
        "Recuperamos el valor predicho de Y aplicando la función exponencial sobre las predicciones."
      ],
      "metadata": {
        "id": "PjSFHNa2j8SK"
      }
    },
    {
      "cell_type": "code",
      "source": [
        "df_train['back_LogTrend'] = np.exp(df_train['LogTrend'])\n",
        "df_test['back_LogTrend'] = np.exp(df_test['LogTrend'])"
      ],
      "metadata": {
        "id": "xNm9SzWNjlEf"
      },
      "execution_count": null,
      "outputs": []
    },
    {
      "cell_type": "markdown",
      "source": [
        "Observamos visualmente las Y predichas vs el valor real."
      ],
      "metadata": {
        "id": "POlUKCQckN3p"
      }
    },
    {
      "cell_type": "code",
      "source": [
        "fig, axes = plt.subplots(1, 2,figsize=(10,5))\n",
        "df_train.plot(kind = \"line\", y = [\"y\",\"back_LogTrend\"],ax=axes[0],title='Train');\n",
        "df_test.plot(kind = \"line\", y = [\"y\",\"back_LogTrend\"],ax=axes[1],title='Test');\n",
        "plt.show()"
      ],
      "metadata": {
        "colab": {
          "base_uri": "https://localhost:8080/",
          "height": 347
        },
        "id": "vdD5FGS5j0Pr",
        "outputId": "46d8787f-5a5c-4cf8-9a49-1a6bff1e6454"
      },
      "execution_count": null,
      "outputs": [
        {
          "output_type": "display_data",
          "data": {
            "text/plain": [
              "<Figure size 720x360 with 2 Axes>"
            ],
            "image/png": "[encoded data removed]"
          },
          "metadata": {
            "needs_background": "light"
          }
        }
      ]
    },
    {
      "cell_type": "code",
      "source": [
        "model_RMSE = RMSE(df_test.back_LogTrend, df_test.y)"
      ],
      "metadata": {
        "id": "QrxrJncVj0NO"
      },
      "execution_count": null,
      "outputs": []
    },
    {
      "cell_type": "code",
      "source": [
        "df_Results.loc[4, \"Model\"] = \"back_LogTrend\"\n",
        "df_Results.loc[4, \"RMSE\"] = model_RMSE\n",
        "df_Results.head()"
      ],
      "metadata": {
        "colab": {
          "base_uri": "https://localhost:8080/",
          "height": 204
        },
        "id": "5nv--7vSj0Kw",
        "outputId": "c4d47ed6-54ff-43b8-da30-83203ecf3629"
      },
      "execution_count": null,
      "outputs": [
        {
          "output_type": "execute_result",
          "data": {
            "text/plain": [
              "            Model       RMSE\n",
              "0     Random Walk  74.525723\n",
              "1            Mean  74.712191\n",
              "2     LinearTrend   74.86737\n",
              "3  QuadraticTrend   79.74297\n",
              "4   back_LogTrend  74.401168"
            ],
            "text/html": [
              "\n",
              "  <div id=\"df-0b13391f-bd8a-4e69-91ec-f5b93ade84c6\">\n",
              "    <div class=\"colab-df-container\">\n",
              "      <div>\n",
              "<style scoped>\n",
              "    .dataframe tbody tr th:only-of-type {\n",
              "        vertical-align: middle;\n",
              "    }\n",
              "\n",
              "    .dataframe tbody tr th {\n",
              "        vertical-align: top;\n",
              "    }\n",
              "\n",
              "    .dataframe thead th {\n",
              "        text-align: right;\n",
              "    }\n",
              "</style>\n",
              "<table border=\"1\" class=\"dataframe\">\n",
              "  <thead>\n",
              "    <tr style=\"text-align: right;\">\n",
              "      <th></th>\n",
              "      <th>Model</th>\n",
              "      <th>RMSE</th>\n",
              "    </tr>\n",
              "  </thead>\n",
              "  <tbody>\n",
              "    <tr>\n",
              "      <th>0</th>\n",
              "      <td>Random Walk</td>\n",
              "      <td>74.525723</td>\n",
              "    </tr>\n",
              "    <tr>\n",
              "      <th>1</th>\n",
              "      <td>Mean</td>\n",
              "      <td>74.712191</td>\n",
              "    </tr>\n",
              "    <tr>\n",
              "      <th>2</th>\n",
              "      <td>LinearTrend</td>\n",
              "      <td>74.86737</td>\n",
              "    </tr>\n",
              "    <tr>\n",
              "      <th>3</th>\n",
              "      <td>QuadraticTrend</td>\n",
              "      <td>79.74297</td>\n",
              "    </tr>\n",
              "    <tr>\n",
              "      <th>4</th>\n",
              "      <td>back_LogTrend</td>\n",
              "      <td>74.401168</td>\n",
              "    </tr>\n",
              "  </tbody>\n",
              "</table>\n",
              "</div>\n",
              "      <button class=\"colab-df-convert\" onclick=\"convertToInteractive('df-0b13391f-bd8a-4e69-91ec-f5b93ade84c6')\"\n",
              "              title=\"Convert this dataframe to an interactive table.\"\n",
              "              style=\"display:none;\">\n",
              "        \n",
              "  <svg xmlns=\"http://www.w3.org/2000/svg\" height=\"24px\"viewBox=\"0 0 24 24\"\n",
              "       width=\"24px\">\n",
              "    <path d=\"M0 0h24v24H0V0z\" fill=\"none\"/>\n",
              "    <path d=\"M18.56 5.44l.94 2.06.94-2.06 2.06-.94-2.06-.94-.94-2.06-.94 2.06-2.06.94zm-11 1L8.5 8.5l.94-2.06 2.06-.94-2.06-.94L8.5 2.5l-.94 2.06-2.06.94zm10 10l.94 2.06.94-2.06 2.06-.94-2.06-.94-.94-2.06-.94 2.06-2.06.94z\"/><path d=\"M17.41 7.96l-1.37-1.37c-.4-.4-.92-.59-1.43-.59-.52 0-1.04.2-1.43.59L10.3 9.45l-7.72 7.72c-.78.78-.78 2.05 0 2.83L4 21.41c.39.39.9.59 1.41.59.51 0 1.02-.2 1.41-.59l7.78-7.78 2.81-2.81c.8-.78.8-2.07 0-2.86zM5.41 20L4 18.59l7.72-7.72 1.47 1.35L5.41 20z\"/>\n",
              "  </svg>\n",
              "      </button>\n",
              "      \n",
              "  <style>\n",
              "    .colab-df-container {\n",
              "      display:flex;\n",
              "      flex-wrap:wrap;\n",
              "      gap: 12px;\n",
              "    }\n",
              "\n",
              "    .colab-df-convert {\n",
              "      background-color: #E8F0FE;\n",
              "      border: none;\n",
              "      border-radius: 50%;\n",
              "      cursor: pointer;\n",
              "      display: none;\n",
              "      fill: #1967D2;\n",
              "      height: 32px;\n",
              "      padding: 0 0 0 0;\n",
              "      width: 32px;\n",
              "    }\n",
              "\n",
              "    .colab-df-convert:hover {\n",
              "      background-color: #E2EBFA;\n",
              "      box-shadow: 0px 1px 2px rgba(60, 64, 67, 0.3), 0px 1px 3px 1px rgba(60, 64, 67, 0.15);\n",
              "      fill: #174EA6;\n",
              "    }\n",
              "\n",
              "    [theme=dark] .colab-df-convert {\n",
              "      background-color: #3B4455;\n",
              "      fill: #D2E3FC;\n",
              "    }\n",
              "\n",
              "    [theme=dark] .colab-df-convert:hover {\n",
              "      background-color: #434B5C;\n",
              "      box-shadow: 0px 1px 3px 1px rgba(0, 0, 0, 0.15);\n",
              "      filter: drop-shadow(0px 1px 2px rgba(0, 0, 0, 0.3));\n",
              "      fill: #FFFFFF;\n",
              "    }\n",
              "  </style>\n",
              "\n",
              "      <script>\n",
              "        const buttonEl =\n",
              "          document.querySelector('#df-0b13391f-bd8a-4e69-91ec-f5b93ade84c6 button.colab-df-convert');\n",
              "        buttonEl.style.display =\n",
              "          google.colab.kernel.accessAllowed ? 'block' : 'none';\n",
              "\n",
              "        async function convertToInteractive(key) {\n",
              "          const element = document.querySelector('#df-0b13391f-bd8a-4e69-91ec-f5b93ade84c6');\n",
              "          const dataTable =\n",
              "            await google.colab.kernel.invokeFunction('convertToInteractive',\n",
              "                                                     [key], {});\n",
              "          if (!dataTable) return;\n",
              "\n",
              "          const docLinkHtml = 'Like what you see? Visit the ' +\n",
              "            '<a target=\"_blank\" href=https://colab.research.google.com/notebooks/data_table.ipynb>data table notebook</a>'\n",
              "            + ' to learn more about interactive tables.';\n",
              "          element.innerHTML = '';\n",
              "          dataTable['output_type'] = 'display_data';\n",
              "          await google.colab.output.renderOutput(dataTable, element);\n",
              "          const docLink = document.createElement('div');\n",
              "          docLink.innerHTML = docLinkHtml;\n",
              "          element.appendChild(docLink);\n",
              "        }\n",
              "      </script>\n",
              "    </div>\n",
              "  </div>\n",
              "  "
            ]
          },
          "metadata": {},
          "execution_count": 102
        }
      ]
    },
    {
      "cell_type": "code",
      "source": [
        "model_log.summary()"
      ],
      "metadata": {
        "colab": {
          "base_uri": "https://localhost:8080/",
          "height": 444
        },
        "id": "aRlzxw4nj0Fm",
        "outputId": "b630cc72-9892-4c0e-f0bb-83771047fc62"
      },
      "execution_count": null,
      "outputs": [
        {
          "output_type": "execute_result",
          "data": {
            "text/plain": [
              "<class 'statsmodels.iolib.summary.Summary'>\n",
              "\"\"\"\n",
              "                            OLS Regression Results                            \n",
              "==============================================================================\n",
              "Dep. Variable:                  log_y   R-squared:                       0.003\n",
              "Model:                            OLS   Adj. R-squared:                 -0.043\n",
              "Method:                 Least Squares   F-statistic:                   0.05844\n",
              "Date:                Tue, 15 Mar 2022   Prob (F-statistic):              0.811\n",
              "Time:                        20:51:53   Log-Likelihood:                 20.626\n",
              "No. Observations:                  24   AIC:                            -37.25\n",
              "Df Residuals:                      22   BIC:                            -34.90\n",
              "Df Model:                           1                                         \n",
              "Covariance Type:            nonrobust                                         \n",
              "==============================================================================\n",
              "                 coef    std err          t      P>|t|      [0.025      0.975]\n",
              "------------------------------------------------------------------------------\n",
              "Intercept      6.5779      0.042    155.303      0.000       6.490       6.666\n",
              "timeIndex      0.0008      0.003      0.242      0.811      -0.006       0.007\n",
              "==============================================================================\n",
              "Omnibus:                        1.650   Durbin-Watson:                   1.332\n",
              "Prob(Omnibus):                  0.438   Jarque-Bera (JB):                1.227\n",
              "Skew:                          -0.541   Prob(JB):                        0.541\n",
              "Kurtosis:                       2.767   Cond. No.                         26.1\n",
              "==============================================================================\n",
              "\n",
              "Warnings:\n",
              "[1] Standard Errors assume that the covariance matrix of the errors is correctly specified.\n",
              "\"\"\""
            ],
            "text/html": [
              "<table class=\"simpletable\">\n",
              "<caption>OLS Regression Results</caption>\n",
              "<tr>\n",
              "  <th>Dep. Variable:</th>          <td>log_y</td>      <th>  R-squared:         </th> <td>   0.003</td>\n",
              "</tr>\n",
              "<tr>\n",
              "  <th>Model:</th>                   <td>OLS</td>       <th>  Adj. R-squared:    </th> <td>  -0.043</td>\n",
              "</tr>\n",
              "<tr>\n",
              "  <th>Method:</th>             <td>Least Squares</td>  <th>  F-statistic:       </th> <td> 0.05844</td>\n",
              "</tr>\n",
              "<tr>\n",
              "  <th>Date:</th>             <td>Tue, 15 Mar 2022</td> <th>  Prob (F-statistic):</th>  <td> 0.811</td> \n",
              "</tr>\n",
              "<tr>\n",
              "  <th>Time:</th>                 <td>20:51:53</td>     <th>  Log-Likelihood:    </th> <td>  20.626</td>\n",
              "</tr>\n",
              "<tr>\n",
              "  <th>No. Observations:</th>      <td>    24</td>      <th>  AIC:               </th> <td>  -37.25</td>\n",
              "</tr>\n",
              "<tr>\n",
              "  <th>Df Residuals:</th>          <td>    22</td>      <th>  BIC:               </th> <td>  -34.90</td>\n",
              "</tr>\n",
              "<tr>\n",
              "  <th>Df Model:</th>              <td>     1</td>      <th>                     </th>     <td> </td>   \n",
              "</tr>\n",
              "<tr>\n",
              "  <th>Covariance Type:</th>      <td>nonrobust</td>    <th>                     </th>     <td> </td>   \n",
              "</tr>\n",
              "</table>\n",
              "<table class=\"simpletable\">\n",
              "<tr>\n",
              "      <td></td>         <th>coef</th>     <th>std err</th>      <th>t</th>      <th>P>|t|</th>  <th>[0.025</th>    <th>0.975]</th>  \n",
              "</tr>\n",
              "<tr>\n",
              "  <th>Intercept</th> <td>    6.5779</td> <td>    0.042</td> <td>  155.303</td> <td> 0.000</td> <td>    6.490</td> <td>    6.666</td>\n",
              "</tr>\n",
              "<tr>\n",
              "  <th>timeIndex</th> <td>    0.0008</td> <td>    0.003</td> <td>    0.242</td> <td> 0.811</td> <td>   -0.006</td> <td>    0.007</td>\n",
              "</tr>\n",
              "</table>\n",
              "<table class=\"simpletable\">\n",
              "<tr>\n",
              "  <th>Omnibus:</th>       <td> 1.650</td> <th>  Durbin-Watson:     </th> <td>   1.332</td>\n",
              "</tr>\n",
              "<tr>\n",
              "  <th>Prob(Omnibus):</th> <td> 0.438</td> <th>  Jarque-Bera (JB):  </th> <td>   1.227</td>\n",
              "</tr>\n",
              "<tr>\n",
              "  <th>Skew:</th>          <td>-0.541</td> <th>  Prob(JB):          </th> <td>   0.541</td>\n",
              "</tr>\n",
              "<tr>\n",
              "  <th>Kurtosis:</th>      <td> 2.767</td> <th>  Cond. No.          </th> <td>    26.1</td>\n",
              "</tr>\n",
              "</table><br/><br/>Warnings:<br/>[1] Standard Errors assume that the covariance matrix of the errors is correctly specified."
            ]
          },
          "metadata": {},
          "execution_count": 103
        }
      ]
    },
    {
      "cell_type": "markdown",
      "source": [
        "# Transformacion logaritmica con estacionalidad mensual"
      ],
      "metadata": {
        "id": "B4gwLFZei7FR"
      }
    },
    {
      "cell_type": "code",
      "source": [
        "# Creamos columna con el mes\n",
        "df_train['month'] = [d.strftime('%b') for d in df_train.index]\n",
        "df_test['month']  = [d.strftime('%b') for d in df_test.index]"
      ],
      "metadata": {
        "id": "4NtYqni7jGG_"
      },
      "execution_count": null,
      "outputs": []
    },
    {
      "cell_type": "code",
      "source": [
        "# Creamos las variables dummies de mes\n",
        "dummies_mes_train = pd.get_dummies(df_train['month'])\n",
        "dummies_mes_test = pd.get_dummies(df_test['month'])"
      ],
      "metadata": {
        "id": "YsP03STfjGEY"
      },
      "execution_count": null,
      "outputs": []
    },
    {
      "cell_type": "code",
      "source": [
        "# Hacemos el join entre el DataFrame con la serie de tiempo y las dummies\n",
        "df_train = df_train.join(dummies_mes_train)\n",
        "df_test = df_test.join(dummies_mes_test)"
      ],
      "metadata": {
        "id": "T8FtCi95jGCA"
      },
      "execution_count": null,
      "outputs": []
    },
    {
      "cell_type": "code",
      "source": [
        "df_train.head(4)"
      ],
      "metadata": {
        "colab": {
          "base_uri": "https://localhost:8080/",
          "height": 202
        },
        "id": "LyIup-f3jF-_",
        "outputId": "f5d3c63a-3625-4d9d-884a-f8aee96e4552"
      },
      "execution_count": null,
      "outputs": [
        {
          "output_type": "execute_result",
          "data": {
            "text/plain": [
              "            year month    y year_month year_month_last_year  timeIndex  \\\n",
              "2015-01-01  2015   Jan  587 2015-01-01           2014-01-01          0   \n",
              "2015-02-01  2015   Feb  661 2015-02-01           2014-02-01          1   \n",
              "2015-03-01  2015   Mar  817 2015-03-01           2014-03-01          2   \n",
              "2015-04-01  2015   Apr  799 2015-04-01           2014-04-01          3   \n",
              "\n",
              "            timeIndex_sq  QuadraticTrend     log_y  LogTrend  ...  Dec  Feb  \\\n",
              "2015-01-01             0      719.801923  6.375025  6.577920  ...    0    0   \n",
              "2015-02-01             1      721.603595  6.493754  6.578683  ...    0    1   \n",
              "2015-03-01             4      723.270135  6.705639  6.579446  ...    0    0   \n",
              "2015-04-01             9      724.801543  6.683361  6.580209  ...    0    0   \n",
              "\n",
              "            Jan  Jul  Jun  Mar  May  Nov  Oct  Sep  \n",
              "2015-01-01    1    0    0    0    0    0    0    0  \n",
              "2015-02-01    0    0    0    0    0    0    0    0  \n",
              "2015-03-01    0    0    0    1    0    0    0    0  \n",
              "2015-04-01    0    0    0    0    0    0    0    0  \n",
              "\n",
              "[4 rows x 23 columns]"
            ],
            "text/html": [
              "\n",
              "  <div id=\"df-8b5094da-a1b5-414e-b143-ee2479082707\">\n",
              "    <div class=\"colab-df-container\">\n",
              "      <div>\n",
              "<style scoped>\n",
              "    .dataframe tbody tr th:only-of-type {\n",
              "        vertical-align: middle;\n",
              "    }\n",
              "\n",
              "    .dataframe tbody tr th {\n",
              "        vertical-align: top;\n",
              "    }\n",
              "\n",
              "    .dataframe thead th {\n",
              "        text-align: right;\n",
              "    }\n",
              "</style>\n",
              "<table border=\"1\" class=\"dataframe\">\n",
              "  <thead>\n",
              "    <tr style=\"text-align: right;\">\n",
              "      <th></th>\n",
              "      <th>year</th>\n",
              "      <th>month</th>\n",
              "      <th>y</th>\n",
              "      <th>year_month</th>\n",
              "      <th>year_month_last_year</th>\n",
              "      <th>timeIndex</th>\n",
              "      <th>timeIndex_sq</th>\n",
              "      <th>QuadraticTrend</th>\n",
              "      <th>log_y</th>\n",
              "      <th>LogTrend</th>\n",
              "      <th>...</th>\n",
              "      <th>Dec</th>\n",
              "      <th>Feb</th>\n",
              "      <th>Jan</th>\n",
              "      <th>Jul</th>\n",
              "      <th>Jun</th>\n",
              "      <th>Mar</th>\n",
              "      <th>May</th>\n",
              "      <th>Nov</th>\n",
              "      <th>Oct</th>\n",
              "      <th>Sep</th>\n",
              "    </tr>\n",
              "  </thead>\n",
              "  <tbody>\n",
              "    <tr>\n",
              "      <th>2015-01-01</th>\n",
              "      <td>2015</td>\n",
              "      <td>Jan</td>\n",
              "      <td>587</td>\n",
              "      <td>2015-01-01</td>\n",
              "      <td>2014-01-01</td>\n",
              "      <td>0</td>\n",
              "      <td>0</td>\n",
              "      <td>719.801923</td>\n",
              "      <td>6.375025</td>\n",
              "      <td>6.577920</td>\n",
              "      <td>...</td>\n",
              "      <td>0</td>\n",
              "      <td>0</td>\n",
              "      <td>1</td>\n",
              "      <td>0</td>\n",
              "      <td>0</td>\n",
              "      <td>0</td>\n",
              "      <td>0</td>\n",
              "      <td>0</td>\n",
              "      <td>0</td>\n",
              "      <td>0</td>\n",
              "    </tr>\n",
              "    <tr>\n",
              "      <th>2015-02-01</th>\n",
              "      <td>2015</td>\n",
              "      <td>Feb</td>\n",
              "      <td>661</td>\n",
              "      <td>2015-02-01</td>\n",
              "      <td>2014-02-01</td>\n",
              "      <td>1</td>\n",
              "      <td>1</td>\n",
              "      <td>721.603595</td>\n",
              "      <td>6.493754</td>\n",
              "      <td>6.578683</td>\n",
              "      <td>...</td>\n",
              "      <td>0</td>\n",
              "      <td>1</td>\n",
              "      <td>0</td>\n",
              "      <td>0</td>\n",
              "      <td>0</td>\n",
              "      <td>0</td>\n",
              "      <td>0</td>\n",
              "      <td>0</td>\n",
              "      <td>0</td>\n",
              "      <td>0</td>\n",
              "    </tr>\n",
              "    <tr>\n",
              "      <th>2015-03-01</th>\n",
              "      <td>2015</td>\n",
              "      <td>Mar</td>\n",
              "      <td>817</td>\n",
              "      <td>2015-03-01</td>\n",
              "      <td>2014-03-01</td>\n",
              "      <td>2</td>\n",
              "      <td>4</td>\n",
              "      <td>723.270135</td>\n",
              "      <td>6.705639</td>\n",
              "      <td>6.579446</td>\n",
              "      <td>...</td>\n",
              "      <td>0</td>\n",
              "      <td>0</td>\n",
              "      <td>0</td>\n",
              "      <td>0</td>\n",
              "      <td>0</td>\n",
              "      <td>1</td>\n",
              "      <td>0</td>\n",
              "      <td>0</td>\n",
              "      <td>0</td>\n",
              "      <td>0</td>\n",
              "    </tr>\n",
              "    <tr>\n",
              "      <th>2015-04-01</th>\n",
              "      <td>2015</td>\n",
              "      <td>Apr</td>\n",
              "      <td>799</td>\n",
              "      <td>2015-04-01</td>\n",
              "      <td>2014-04-01</td>\n",
              "      <td>3</td>\n",
              "      <td>9</td>\n",
              "      <td>724.801543</td>\n",
              "      <td>6.683361</td>\n",
              "      <td>6.580209</td>\n",
              "      <td>...</td>\n",
              "      <td>0</td>\n",
              "      <td>0</td>\n",
              "      <td>0</td>\n",
              "      <td>0</td>\n",
              "      <td>0</td>\n",
              "      <td>0</td>\n",
              "      <td>0</td>\n",
              "      <td>0</td>\n",
              "      <td>0</td>\n",
              "      <td>0</td>\n",
              "    </tr>\n",
              "  </tbody>\n",
              "</table>\n",
              "<p>4 rows × 23 columns</p>\n",
              "</div>\n",
              "      <button class=\"colab-df-convert\" onclick=\"convertToInteractive('df-8b5094da-a1b5-414e-b143-ee2479082707')\"\n",
              "              title=\"Convert this dataframe to an interactive table.\"\n",
              "              style=\"display:none;\">\n",
              "        \n",
              "  <svg xmlns=\"http://www.w3.org/2000/svg\" height=\"24px\"viewBox=\"0 0 24 24\"\n",
              "       width=\"24px\">\n",
              "    <path d=\"M0 0h24v24H0V0z\" fill=\"none\"/>\n",
              "    <path d=\"M18.56 5.44l.94 2.06.94-2.06 2.06-.94-2.06-.94-.94-2.06-.94 2.06-2.06.94zm-11 1L8.5 8.5l.94-2.06 2.06-.94-2.06-.94L8.5 2.5l-.94 2.06-2.06.94zm10 10l.94 2.06.94-2.06 2.06-.94-2.06-.94-.94-2.06-.94 2.06-2.06.94z\"/><path d=\"M17.41 7.96l-1.37-1.37c-.4-.4-.92-.59-1.43-.59-.52 0-1.04.2-1.43.59L10.3 9.45l-7.72 7.72c-.78.78-.78 2.05 0 2.83L4 21.41c.39.39.9.59 1.41.59.51 0 1.02-.2 1.41-.59l7.78-7.78 2.81-2.81c.8-.78.8-2.07 0-2.86zM5.41 20L4 18.59l7.72-7.72 1.47 1.35L5.41 20z\"/>\n",
              "  </svg>\n",
              "      </button>\n",
              "      \n",
              "  <style>\n",
              "    .colab-df-container {\n",
              "      display:flex;\n",
              "      flex-wrap:wrap;\n",
              "      gap: 12px;\n",
              "    }\n",
              "\n",
              "    .colab-df-convert {\n",
              "      background-color: #E8F0FE;\n",
              "      border: none;\n",
              "      border-radius: 50%;\n",
              "      cursor: pointer;\n",
              "      display: none;\n",
              "      fill: #1967D2;\n",
              "      height: 32px;\n",
              "      padding: 0 0 0 0;\n",
              "      width: 32px;\n",
              "    }\n",
              "\n",
              "    .colab-df-convert:hover {\n",
              "      background-color: #E2EBFA;\n",
              "      box-shadow: 0px 1px 2px rgba(60, 64, 67, 0.3), 0px 1px 3px 1px rgba(60, 64, 67, 0.15);\n",
              "      fill: #174EA6;\n",
              "    }\n",
              "\n",
              "    [theme=dark] .colab-df-convert {\n",
              "      background-color: #3B4455;\n",
              "      fill: #D2E3FC;\n",
              "    }\n",
              "\n",
              "    [theme=dark] .colab-df-convert:hover {\n",
              "      background-color: #434B5C;\n",
              "      box-shadow: 0px 1px 3px 1px rgba(0, 0, 0, 0.15);\n",
              "      filter: drop-shadow(0px 1px 2px rgba(0, 0, 0, 0.3));\n",
              "      fill: #FFFFFF;\n",
              "    }\n",
              "  </style>\n",
              "\n",
              "      <script>\n",
              "        const buttonEl =\n",
              "          document.querySelector('#df-8b5094da-a1b5-414e-b143-ee2479082707 button.colab-df-convert');\n",
              "        buttonEl.style.display =\n",
              "          google.colab.kernel.accessAllowed ? 'block' : 'none';\n",
              "\n",
              "        async function convertToInteractive(key) {\n",
              "          const element = document.querySelector('#df-8b5094da-a1b5-414e-b143-ee2479082707');\n",
              "          const dataTable =\n",
              "            await google.colab.kernel.invokeFunction('convertToInteractive',\n",
              "                                                     [key], {});\n",
              "          if (!dataTable) return;\n",
              "\n",
              "          const docLinkHtml = 'Like what you see? Visit the ' +\n",
              "            '<a target=\"_blank\" href=https://colab.research.google.com/notebooks/data_table.ipynb>data table notebook</a>'\n",
              "            + ' to learn more about interactive tables.';\n",
              "          element.innerHTML = '';\n",
              "          dataTable['output_type'] = 'display_data';\n",
              "          await google.colab.output.renderOutput(dataTable, element);\n",
              "          const docLink = document.createElement('div');\n",
              "          docLink.innerHTML = docLinkHtml;\n",
              "          element.appendChild(docLink);\n",
              "        }\n",
              "      </script>\n",
              "    </div>\n",
              "  </div>\n",
              "  "
            ]
          },
          "metadata": {},
          "execution_count": 107
        }
      ]
    },
    {
      "cell_type": "markdown",
      "source": [
        "PREDICCION\n"
      ],
      "metadata": {
        "id": "Zw6QACqojSGj"
      }
    },
    {
      "cell_type": "code",
      "source": [
        "model_log_est = smf.ols('log_y ~ timeIndex + Apr + Aug + Dec + Feb + Jan + Jul + Jun + Mar + May + Nov + Oct + Sep',\\\n",
        "                          data = df_train).fit()"
      ],
      "metadata": {
        "id": "L0p4vjQFjF8T"
      },
      "execution_count": null,
      "outputs": []
    },
    {
      "cell_type": "code",
      "source": [
        "df_train['model_log_est'] = model_log_est.predict(df_train[[\"timeIndex\",\"Apr\",\"Aug\", \"Dec\", \"Feb\", \"Jan\",\\\n",
        "                                               \"Jul\", \"Jun\", \"Mar\", \"May\",\"Nov\", \"Oct\", \"Sep\"]])\n",
        "\n",
        "df_test['model_log_est'] = model_log_est.predict(df_test[[\"timeIndex\",\"Apr\",\"Aug\", \"Dec\", \"Feb\", \"Jan\",\\\n",
        "                                               \"Jul\", \"Jun\", \"Mar\", \"May\",\"Nov\", \"Oct\", \"Sep\"]])"
      ],
      "metadata": {
        "id": "2BGT6hdhjF5x"
      },
      "execution_count": null,
      "outputs": []
    },
    {
      "cell_type": "code",
      "source": [
        "df_train['back_LogEstTrend'] = np.exp(df_train['model_log_est'])\n",
        "df_test['back_LogEstTrend'] = np.exp(df_test['model_log_est'])"
      ],
      "metadata": {
        "id": "0gkIwBb0jF3W"
      },
      "execution_count": null,
      "outputs": []
    },
    {
      "cell_type": "code",
      "source": [
        "fig, axes = plt.subplots(1, 2,figsize=(10,5))\n",
        "df_train.plot(kind = \"line\", y = [\"y\",\"back_LogEstTrend\"],ax=axes[0],title='Train');\n",
        "df_test.plot(kind = \"line\", y = [\"y\",\"back_LogEstTrend\"],ax=axes[1],title='Test');\n",
        "plt.show()"
      ],
      "metadata": {
        "colab": {
          "base_uri": "https://localhost:8080/",
          "height": 347
        },
        "id": "5qG7Hg86jF0l",
        "outputId": "c5d0d375-e0fc-47f7-ff4a-d62fbac277f9"
      },
      "execution_count": null,
      "outputs": [
        {
          "output_type": "display_data",
          "data": {
            "text/plain": [
              "<Figure size 720x360 with 2 Axes>"
            ],
            "image/png": "[encoded data removed]"
          },
          "metadata": {
            "needs_background": "light"
          }
        }
      ]
    },
    {
      "cell_type": "code",
      "source": [
        "model_RMSE = RMSE(df_test.back_LogEstTrend, df_test.y)"
      ],
      "metadata": {
        "id": "MmosbB8Wk7QL"
      },
      "execution_count": null,
      "outputs": []
    },
    {
      "cell_type": "code",
      "source": [
        "df_Results.loc[5, \"Model\"] = \"back_LogEstTrend\"\n",
        "df_Results.loc[5, \"RMSE\"] = model_RMSE\n",
        "df_Results.head()"
      ],
      "metadata": {
        "colab": {
          "base_uri": "https://localhost:8080/",
          "height": 204
        },
        "id": "poia4hHRk964",
        "outputId": "8fd809a8-efc5-4799-a3d8-c6bf1083031b"
      },
      "execution_count": null,
      "outputs": [
        {
          "output_type": "execute_result",
          "data": {
            "text/plain": [
              "            Model       RMSE\n",
              "0     Random Walk  74.525723\n",
              "1            Mean  74.712191\n",
              "2     LinearTrend   74.86737\n",
              "3  QuadraticTrend   79.74297\n",
              "4   back_LogTrend  74.401168"
            ],
            "text/html": [
              "\n",
              "  <div id=\"df-1effe184-e937-4f5c-9cfb-0573efa11b61\">\n",
              "    <div class=\"colab-df-container\">\n",
              "      <div>\n",
              "<style scoped>\n",
              "    .dataframe tbody tr th:only-of-type {\n",
              "        vertical-align: middle;\n",
              "    }\n",
              "\n",
              "    .dataframe tbody tr th {\n",
              "        vertical-align: top;\n",
              "    }\n",
              "\n",
              "    .dataframe thead th {\n",
              "        text-align: right;\n",
              "    }\n",
              "</style>\n",
              "<table border=\"1\" class=\"dataframe\">\n",
              "  <thead>\n",
              "    <tr style=\"text-align: right;\">\n",
              "      <th></th>\n",
              "      <th>Model</th>\n",
              "      <th>RMSE</th>\n",
              "    </tr>\n",
              "  </thead>\n",
              "  <tbody>\n",
              "    <tr>\n",
              "      <th>0</th>\n",
              "      <td>Random Walk</td>\n",
              "      <td>74.525723</td>\n",
              "    </tr>\n",
              "    <tr>\n",
              "      <th>1</th>\n",
              "      <td>Mean</td>\n",
              "      <td>74.712191</td>\n",
              "    </tr>\n",
              "    <tr>\n",
              "      <th>2</th>\n",
              "      <td>LinearTrend</td>\n",
              "      <td>74.86737</td>\n",
              "    </tr>\n",
              "    <tr>\n",
              "      <th>3</th>\n",
              "      <td>QuadraticTrend</td>\n",
              "      <td>79.74297</td>\n",
              "    </tr>\n",
              "    <tr>\n",
              "      <th>4</th>\n",
              "      <td>back_LogTrend</td>\n",
              "      <td>74.401168</td>\n",
              "    </tr>\n",
              "  </tbody>\n",
              "</table>\n",
              "</div>\n",
              "      <button class=\"colab-df-convert\" onclick=\"convertToInteractive('df-1effe184-e937-4f5c-9cfb-0573efa11b61')\"\n",
              "              title=\"Convert this dataframe to an interactive table.\"\n",
              "              style=\"display:none;\">\n",
              "        \n",
              "  <svg xmlns=\"http://www.w3.org/2000/svg\" height=\"24px\"viewBox=\"0 0 24 24\"\n",
              "       width=\"24px\">\n",
              "    <path d=\"M0 0h24v24H0V0z\" fill=\"none\"/>\n",
              "    <path d=\"M18.56 5.44l.94 2.06.94-2.06 2.06-.94-2.06-.94-.94-2.06-.94 2.06-2.06.94zm-11 1L8.5 8.5l.94-2.06 2.06-.94-2.06-.94L8.5 2.5l-.94 2.06-2.06.94zm10 10l.94 2.06.94-2.06 2.06-.94-2.06-.94-.94-2.06-.94 2.06-2.06.94z\"/><path d=\"M17.41 7.96l-1.37-1.37c-.4-.4-.92-.59-1.43-.59-.52 0-1.04.2-1.43.59L10.3 9.45l-7.72 7.72c-.78.78-.78 2.05 0 2.83L4 21.41c.39.39.9.59 1.41.59.51 0 1.02-.2 1.41-.59l7.78-7.78 2.81-2.81c.8-.78.8-2.07 0-2.86zM5.41 20L4 18.59l7.72-7.72 1.47 1.35L5.41 20z\"/>\n",
              "  </svg>\n",
              "      </button>\n",
              "      \n",
              "  <style>\n",
              "    .colab-df-container {\n",
              "      display:flex;\n",
              "      flex-wrap:wrap;\n",
              "      gap: 12px;\n",
              "    }\n",
              "\n",
              "    .colab-df-convert {\n",
              "      background-color: #E8F0FE;\n",
              "      border: none;\n",
              "      border-radius: 50%;\n",
              "      cursor: pointer;\n",
              "      display: none;\n",
              "      fill: #1967D2;\n",
              "      height: 32px;\n",
              "      padding: 0 0 0 0;\n",
              "      width: 32px;\n",
              "    }\n",
              "\n",
              "    .colab-df-convert:hover {\n",
              "      background-color: #E2EBFA;\n",
              "      box-shadow: 0px 1px 2px rgba(60, 64, 67, 0.3), 0px 1px 3px 1px rgba(60, 64, 67, 0.15);\n",
              "      fill: #174EA6;\n",
              "    }\n",
              "\n",
              "    [theme=dark] .colab-df-convert {\n",
              "      background-color: #3B4455;\n",
              "      fill: #D2E3FC;\n",
              "    }\n",
              "\n",
              "    [theme=dark] .colab-df-convert:hover {\n",
              "      background-color: #434B5C;\n",
              "      box-shadow: 0px 1px 3px 1px rgba(0, 0, 0, 0.15);\n",
              "      filter: drop-shadow(0px 1px 2px rgba(0, 0, 0, 0.3));\n",
              "      fill: #FFFFFF;\n",
              "    }\n",
              "  </style>\n",
              "\n",
              "      <script>\n",
              "        const buttonEl =\n",
              "          document.querySelector('#df-1effe184-e937-4f5c-9cfb-0573efa11b61 button.colab-df-convert');\n",
              "        buttonEl.style.display =\n",
              "          google.colab.kernel.accessAllowed ? 'block' : 'none';\n",
              "\n",
              "        async function convertToInteractive(key) {\n",
              "          const element = document.querySelector('#df-1effe184-e937-4f5c-9cfb-0573efa11b61');\n",
              "          const dataTable =\n",
              "            await google.colab.kernel.invokeFunction('convertToInteractive',\n",
              "                                                     [key], {});\n",
              "          if (!dataTable) return;\n",
              "\n",
              "          const docLinkHtml = 'Like what you see? Visit the ' +\n",
              "            '<a target=\"_blank\" href=https://colab.research.google.com/notebooks/data_table.ipynb>data table notebook</a>'\n",
              "            + ' to learn more about interactive tables.';\n",
              "          element.innerHTML = '';\n",
              "          dataTable['output_type'] = 'display_data';\n",
              "          await google.colab.output.renderOutput(dataTable, element);\n",
              "          const docLink = document.createElement('div');\n",
              "          docLink.innerHTML = docLinkHtml;\n",
              "          element.appendChild(docLink);\n",
              "        }\n",
              "      </script>\n",
              "    </div>\n",
              "  </div>\n",
              "  "
            ]
          },
          "metadata": {},
          "execution_count": 113
        }
      ]
    },
    {
      "cell_type": "code",
      "source": [
        "model_log_est.summary()"
      ],
      "metadata": {
        "colab": {
          "base_uri": "https://localhost:8080/",
          "height": 730
        },
        "id": "UtesfXCilPiS",
        "outputId": "0963f084-264f-4bbc-87dc-83086618e14c"
      },
      "execution_count": null,
      "outputs": [
        {
          "output_type": "execute_result",
          "data": {
            "text/plain": [
              "<class 'statsmodels.iolib.summary.Summary'>\n",
              "\"\"\"\n",
              "                            OLS Regression Results                            \n",
              "==============================================================================\n",
              "Dep. Variable:                  log_y   R-squared:                       0.874\n",
              "Model:                            OLS   Adj. R-squared:                  0.736\n",
              "Method:                 Least Squares   F-statistic:                     6.357\n",
              "Date:                Tue, 15 Mar 2022   Prob (F-statistic):            0.00222\n",
              "Time:                        20:51:55   Log-Likelihood:                 45.449\n",
              "No. Observations:                  24   AIC:                            -64.90\n",
              "Df Residuals:                      11   BIC:                            -49.58\n",
              "Df Model:                          12                                         \n",
              "Covariance Type:            nonrobust                                         \n",
              "==============================================================================\n",
              "                 coef    std err          t      P>|t|      [0.025      0.975]\n",
              "------------------------------------------------------------------------------\n",
              "Intercept      6.0960      0.022    278.190      0.000       6.048       6.144\n",
              "timeIndex     -0.0015      0.002     -0.824      0.428      -0.006       0.003\n",
              "Apr            0.5290      0.037     14.474      0.000       0.449       0.609\n",
              "Aug            0.5172      0.037     14.097      0.000       0.436       0.598\n",
              "Dec            0.4483      0.038     11.717      0.000       0.364       0.532\n",
              "Feb            0.3866      0.037     10.442      0.000       0.305       0.468\n",
              "Jan            0.2751      0.037      7.356      0.000       0.193       0.357\n",
              "Jul            0.5029      0.037     13.771      0.000       0.423       0.583\n",
              "Jun            0.5173      0.036     14.197      0.000       0.437       0.597\n",
              "Mar            0.6074      0.037     16.531      0.000       0.527       0.688\n",
              "May            0.6601      0.036     18.112      0.000       0.580       0.740\n",
              "Nov            0.5548      0.038     14.701      0.000       0.472       0.638\n",
              "Oct            0.5230      0.037     14.021      0.000       0.441       0.605\n",
              "Sep            0.5743      0.037     15.541      0.000       0.493       0.656\n",
              "==============================================================================\n",
              "Omnibus:                        0.509   Durbin-Watson:                   2.455\n",
              "Prob(Omnibus):                  0.775   Jarque-Bera (JB):                0.583\n",
              "Skew:                           0.000   Prob(JB):                        0.747\n",
              "Kurtosis:                       2.236   Cond. No.                     1.61e+17\n",
              "==============================================================================\n",
              "\n",
              "Warnings:\n",
              "[1] Standard Errors assume that the covariance matrix of the errors is correctly specified.\n",
              "[2] The smallest eigenvalue is 1.68e-31. This might indicate that there are\n",
              "strong multicollinearity problems or that the design matrix is singular.\n",
              "\"\"\""
            ],
            "text/html": [
              "<table class=\"simpletable\">\n",
              "<caption>OLS Regression Results</caption>\n",
              "<tr>\n",
              "  <th>Dep. Variable:</th>          <td>log_y</td>      <th>  R-squared:         </th> <td>   0.874</td>\n",
              "</tr>\n",
              "<tr>\n",
              "  <th>Model:</th>                   <td>OLS</td>       <th>  Adj. R-squared:    </th> <td>   0.736</td>\n",
              "</tr>\n",
              "<tr>\n",
              "  <th>Method:</th>             <td>Least Squares</td>  <th>  F-statistic:       </th> <td>   6.357</td>\n",
              "</tr>\n",
              "<tr>\n",
              "  <th>Date:</th>             <td>Tue, 15 Mar 2022</td> <th>  Prob (F-statistic):</th>  <td>0.00222</td>\n",
              "</tr>\n",
              "<tr>\n",
              "  <th>Time:</th>                 <td>20:51:55</td>     <th>  Log-Likelihood:    </th> <td>  45.449</td>\n",
              "</tr>\n",
              "<tr>\n",
              "  <th>No. Observations:</th>      <td>    24</td>      <th>  AIC:               </th> <td>  -64.90</td>\n",
              "</tr>\n",
              "<tr>\n",
              "  <th>Df Residuals:</th>          <td>    11</td>      <th>  BIC:               </th> <td>  -49.58</td>\n",
              "</tr>\n",
              "<tr>\n",
              "  <th>Df Model:</th>              <td>    12</td>      <th>                     </th>     <td> </td>   \n",
              "</tr>\n",
              "<tr>\n",
              "  <th>Covariance Type:</th>      <td>nonrobust</td>    <th>                     </th>     <td> </td>   \n",
              "</tr>\n",
              "</table>\n",
              "<table class=\"simpletable\">\n",
              "<tr>\n",
              "      <td></td>         <th>coef</th>     <th>std err</th>      <th>t</th>      <th>P>|t|</th>  <th>[0.025</th>    <th>0.975]</th>  \n",
              "</tr>\n",
              "<tr>\n",
              "  <th>Intercept</th> <td>    6.0960</td> <td>    0.022</td> <td>  278.190</td> <td> 0.000</td> <td>    6.048</td> <td>    6.144</td>\n",
              "</tr>\n",
              "<tr>\n",
              "  <th>timeIndex</th> <td>   -0.0015</td> <td>    0.002</td> <td>   -0.824</td> <td> 0.428</td> <td>   -0.006</td> <td>    0.003</td>\n",
              "</tr>\n",
              "<tr>\n",
              "  <th>Apr</th>       <td>    0.5290</td> <td>    0.037</td> <td>   14.474</td> <td> 0.000</td> <td>    0.449</td> <td>    0.609</td>\n",
              "</tr>\n",
              "<tr>\n",
              "  <th>Aug</th>       <td>    0.5172</td> <td>    0.037</td> <td>   14.097</td> <td> 0.000</td> <td>    0.436</td> <td>    0.598</td>\n",
              "</tr>\n",
              "<tr>\n",
              "  <th>Dec</th>       <td>    0.4483</td> <td>    0.038</td> <td>   11.717</td> <td> 0.000</td> <td>    0.364</td> <td>    0.532</td>\n",
              "</tr>\n",
              "<tr>\n",
              "  <th>Feb</th>       <td>    0.3866</td> <td>    0.037</td> <td>   10.442</td> <td> 0.000</td> <td>    0.305</td> <td>    0.468</td>\n",
              "</tr>\n",
              "<tr>\n",
              "  <th>Jan</th>       <td>    0.2751</td> <td>    0.037</td> <td>    7.356</td> <td> 0.000</td> <td>    0.193</td> <td>    0.357</td>\n",
              "</tr>\n",
              "<tr>\n",
              "  <th>Jul</th>       <td>    0.5029</td> <td>    0.037</td> <td>   13.771</td> <td> 0.000</td> <td>    0.423</td> <td>    0.583</td>\n",
              "</tr>\n",
              "<tr>\n",
              "  <th>Jun</th>       <td>    0.5173</td> <td>    0.036</td> <td>   14.197</td> <td> 0.000</td> <td>    0.437</td> <td>    0.597</td>\n",
              "</tr>\n",
              "<tr>\n",
              "  <th>Mar</th>       <td>    0.6074</td> <td>    0.037</td> <td>   16.531</td> <td> 0.000</td> <td>    0.527</td> <td>    0.688</td>\n",
              "</tr>\n",
              "<tr>\n",
              "  <th>May</th>       <td>    0.6601</td> <td>    0.036</td> <td>   18.112</td> <td> 0.000</td> <td>    0.580</td> <td>    0.740</td>\n",
              "</tr>\n",
              "<tr>\n",
              "  <th>Nov</th>       <td>    0.5548</td> <td>    0.038</td> <td>   14.701</td> <td> 0.000</td> <td>    0.472</td> <td>    0.638</td>\n",
              "</tr>\n",
              "<tr>\n",
              "  <th>Oct</th>       <td>    0.5230</td> <td>    0.037</td> <td>   14.021</td> <td> 0.000</td> <td>    0.441</td> <td>    0.605</td>\n",
              "</tr>\n",
              "<tr>\n",
              "  <th>Sep</th>       <td>    0.5743</td> <td>    0.037</td> <td>   15.541</td> <td> 0.000</td> <td>    0.493</td> <td>    0.656</td>\n",
              "</tr>\n",
              "</table>\n",
              "<table class=\"simpletable\">\n",
              "<tr>\n",
              "  <th>Omnibus:</th>       <td> 0.509</td> <th>  Durbin-Watson:     </th> <td>   2.455</td>\n",
              "</tr>\n",
              "<tr>\n",
              "  <th>Prob(Omnibus):</th> <td> 0.775</td> <th>  Jarque-Bera (JB):  </th> <td>   0.583</td>\n",
              "</tr>\n",
              "<tr>\n",
              "  <th>Skew:</th>          <td> 0.000</td> <th>  Prob(JB):          </th> <td>   0.747</td>\n",
              "</tr>\n",
              "<tr>\n",
              "  <th>Kurtosis:</th>      <td> 2.236</td> <th>  Cond. No.          </th> <td>1.61e+17</td>\n",
              "</tr>\n",
              "</table><br/><br/>Warnings:<br/>[1] Standard Errors assume that the covariance matrix of the errors is correctly specified.<br/>[2] The smallest eigenvalue is 1.68e-31. This might indicate that there are<br/>strong multicollinearity problems or that the design matrix is singular."
            ]
          },
          "metadata": {},
          "execution_count": 114
        }
      ]
    },
    {
      "cell_type": "markdown",
      "source": [
        "# Media movil"
      ],
      "metadata": {
        "id": "40toQm0eTBw_"
      }
    },
    {
      "cell_type": "code",
      "source": [
        "df_grouped[\"sma_5\"] = df_grouped.y.rolling(5,min_periods=1).mean()\n",
        "df_grouped[\"sma_15\"] = df_grouped.y.rolling(15,min_periods=1).mean()"
      ],
      "metadata": {
        "id": "0jOv4yw1lXsO"
      },
      "execution_count": null,
      "outputs": []
    },
    {
      "cell_type": "code",
      "source": [
        "df_grouped.plot(kind = \"line\", y = [\"y\",\"sma_5\",\"sma_15\"],title='SMA');"
      ],
      "metadata": {
        "colab": {
          "base_uri": "https://localhost:8080/",
          "height": 293
        },
        "id": "gXj7wip8lXpl",
        "outputId": "237ddfc1-4c7f-4a3f-ab87-f0655af0170e"
      },
      "execution_count": null,
      "outputs": [
        {
          "output_type": "display_data",
          "data": {
            "text/plain": [
              "<Figure size 432x288 with 1 Axes>"
            ],
            "image/png": "[encoded data removed]"
          },
          "metadata": {
            "needs_background": "light"
          }
        }
      ]
    },
    {
      "cell_type": "markdown",
      "source": [
        "# Single Exponential Smoothing"
      ],
      "metadata": {
        "id": "KdnTwrgZi7aJ"
      }
    },
    {
      "cell_type": "code",
      "source": [
        "from statsmodels.tsa.holtwinters import SimpleExpSmoothing\n",
        "model_exp_smoothing_3 = SimpleExpSmoothing(df_train.y).fit(smoothing_level=0.3,optimized=False)\n",
        "model_exp_smoothing_5 = SimpleExpSmoothing(df_train.y).fit(smoothing_level=0.5,optimized=False)\n",
        "model_exp_smoothing_8 = SimpleExpSmoothing(df_train.y).fit(smoothing_level=0.8,optimized=False)"
      ],
      "metadata": {
        "id": "uV_Bx1DXlXm-"
      },
      "execution_count": null,
      "outputs": []
    },
    {
      "cell_type": "code",
      "source": [
        "df_train.plot(kind = \"line\", y = \"y\",color='black')\n",
        "model_exp_smoothing_3.fittedvalues.plot(label=\"alpha=0.3\",color='b');\n",
        "model_exp_smoothing_5.fittedvalues.plot(label=\"alpha=0.5\",color='g');\n",
        "model_exp_smoothing_8.fittedvalues.plot(label=\"alpha=0.8\",color='r');\n",
        "plt.legend();"
      ],
      "metadata": {
        "colab": {
          "base_uri": "https://localhost:8080/",
          "height": 277
        },
        "id": "epQkd-tvlXia",
        "outputId": "4174cc89-d31f-482f-a6bf-d24007006457"
      },
      "execution_count": null,
      "outputs": [
        {
          "output_type": "display_data",
          "data": {
            "text/plain": [
              "<Figure size 432x288 with 1 Axes>"
            ],
            "image/png": "[encoded data removed]"
          },
          "metadata": {
            "needs_background": "light"
          }
        }
      ]
    },
    {
      "cell_type": "code",
      "source": [
        "df_test[\"Simple_Smoothing_3\"] = model_exp_smoothing_3.forecast(len(df_test))\n",
        "df_test[\"Simple_Smoothing_5\"] = model_exp_smoothing_5.forecast(len(df_test))\n",
        "df_test[\"Simple_Smoothing_8\"] = model_exp_smoothing_8.forecast(len(df_test))"
      ],
      "metadata": {
        "id": "WBH5u19hmO7a"
      },
      "execution_count": null,
      "outputs": []
    },
    {
      "cell_type": "code",
      "source": [
        "model_RMSE_3 = RMSE(df_test[\"Simple_Smoothing_3\"], df_test.y)\n",
        "model_RMSE_5 = RMSE(df_test[\"Simple_Smoothing_5\"], df_test.y)\n",
        "model_RMSE_8 = RMSE(df_test[\"Simple_Smoothing_8\"], df_test.y)"
      ],
      "metadata": {
        "id": "p1rZ2F4fmO3Z"
      },
      "execution_count": null,
      "outputs": []
    },
    {
      "cell_type": "code",
      "source": [
        "# Calculamos el RMSE y almacenamos los resultados\n",
        "df_Results.loc[6, \"Model\"] = \"Simple Smoothing a=0.3\"; df_Results.loc[6, \"RMSE\"] = model_RMSE_3\n",
        "df_Results.loc[7, \"Model\"] = \"Simple Smoothing a=0.5\"; df_Results.loc[7, \"RMSE\"] = model_RMSE_5\n",
        "df_Results.loc[8, \"Model\"] = \"Simple Smoothing a=0.8\"; df_Results.loc[8, \"RMSE\"] = model_RMSE_8\n",
        "df_Results"
      ],
      "metadata": {
        "colab": {
          "base_uri": "https://localhost:8080/",
          "height": 328
        },
        "id": "d6kp7hdjmOyn",
        "outputId": "86696ee3-e3bb-43ae-f9da-1ce7fb86ec25"
      },
      "execution_count": null,
      "outputs": [
        {
          "output_type": "execute_result",
          "data": {
            "text/plain": [
              "                    Model       RMSE\n",
              "0             Random Walk  74.525723\n",
              "1                    Mean  74.712191\n",
              "2             LinearTrend   74.86737\n",
              "3          QuadraticTrend   79.74297\n",
              "4           back_LogTrend  74.401168\n",
              "5        back_LogEstTrend  83.122583\n",
              "6  Simple Smoothing a=0.3  75.099038\n",
              "7  Simple Smoothing a=0.5  74.602605\n",
              "8  Simple Smoothing a=0.8  74.121932"
            ],
            "text/html": [
              "\n",
              "  <div id=\"df-0d8a8d0a-c224-4ca2-9d79-db4d28c2f403\">\n",
              "    <div class=\"colab-df-container\">\n",
              "      <div>\n",
              "<style scoped>\n",
              "    .dataframe tbody tr th:only-of-type {\n",
              "        vertical-align: middle;\n",
              "    }\n",
              "\n",
              "    .dataframe tbody tr th {\n",
              "        vertical-align: top;\n",
              "    }\n",
              "\n",
              "    .dataframe thead th {\n",
              "        text-align: right;\n",
              "    }\n",
              "</style>\n",
              "<table border=\"1\" class=\"dataframe\">\n",
              "  <thead>\n",
              "    <tr style=\"text-align: right;\">\n",
              "      <th></th>\n",
              "      <th>Model</th>\n",
              "      <th>RMSE</th>\n",
              "    </tr>\n",
              "  </thead>\n",
              "  <tbody>\n",
              "    <tr>\n",
              "      <th>0</th>\n",
              "      <td>Random Walk</td>\n",
              "      <td>74.525723</td>\n",
              "    </tr>\n",
              "    <tr>\n",
              "      <th>1</th>\n",
              "      <td>Mean</td>\n",
              "      <td>74.712191</td>\n",
              "    </tr>\n",
              "    <tr>\n",
              "      <th>2</th>\n",
              "      <td>LinearTrend</td>\n",
              "      <td>74.86737</td>\n",
              "    </tr>\n",
              "    <tr>\n",
              "      <th>3</th>\n",
              "      <td>QuadraticTrend</td>\n",
              "      <td>79.74297</td>\n",
              "    </tr>\n",
              "    <tr>\n",
              "      <th>4</th>\n",
              "      <td>back_LogTrend</td>\n",
              "      <td>74.401168</td>\n",
              "    </tr>\n",
              "    <tr>\n",
              "      <th>5</th>\n",
              "      <td>back_LogEstTrend</td>\n",
              "      <td>83.122583</td>\n",
              "    </tr>\n",
              "    <tr>\n",
              "      <th>6</th>\n",
              "      <td>Simple Smoothing a=0.3</td>\n",
              "      <td>75.099038</td>\n",
              "    </tr>\n",
              "    <tr>\n",
              "      <th>7</th>\n",
              "      <td>Simple Smoothing a=0.5</td>\n",
              "      <td>74.602605</td>\n",
              "    </tr>\n",
              "    <tr>\n",
              "      <th>8</th>\n",
              "      <td>Simple Smoothing a=0.8</td>\n",
              "      <td>74.121932</td>\n",
              "    </tr>\n",
              "  </tbody>\n",
              "</table>\n",
              "</div>\n",
              "      <button class=\"colab-df-convert\" onclick=\"convertToInteractive('df-0d8a8d0a-c224-4ca2-9d79-db4d28c2f403')\"\n",
              "              title=\"Convert this dataframe to an interactive table.\"\n",
              "              style=\"display:none;\">\n",
              "        \n",
              "  <svg xmlns=\"http://www.w3.org/2000/svg\" height=\"24px\"viewBox=\"0 0 24 24\"\n",
              "       width=\"24px\">\n",
              "    <path d=\"M0 0h24v24H0V0z\" fill=\"none\"/>\n",
              "    <path d=\"M18.56 5.44l.94 2.06.94-2.06 2.06-.94-2.06-.94-.94-2.06-.94 2.06-2.06.94zm-11 1L8.5 8.5l.94-2.06 2.06-.94-2.06-.94L8.5 2.5l-.94 2.06-2.06.94zm10 10l.94 2.06.94-2.06 2.06-.94-2.06-.94-.94-2.06-.94 2.06-2.06.94z\"/><path d=\"M17.41 7.96l-1.37-1.37c-.4-.4-.92-.59-1.43-.59-.52 0-1.04.2-1.43.59L10.3 9.45l-7.72 7.72c-.78.78-.78 2.05 0 2.83L4 21.41c.39.39.9.59 1.41.59.51 0 1.02-.2 1.41-.59l7.78-7.78 2.81-2.81c.8-.78.8-2.07 0-2.86zM5.41 20L4 18.59l7.72-7.72 1.47 1.35L5.41 20z\"/>\n",
              "  </svg>\n",
              "      </button>\n",
              "      \n",
              "  <style>\n",
              "    .colab-df-container {\n",
              "      display:flex;\n",
              "      flex-wrap:wrap;\n",
              "      gap: 12px;\n",
              "    }\n",
              "\n",
              "    .colab-df-convert {\n",
              "      background-color: #E8F0FE;\n",
              "      border: none;\n",
              "      border-radius: 50%;\n",
              "      cursor: pointer;\n",
              "      display: none;\n",
              "      fill: #1967D2;\n",
              "      height: 32px;\n",
              "      padding: 0 0 0 0;\n",
              "      width: 32px;\n",
              "    }\n",
              "\n",
              "    .colab-df-convert:hover {\n",
              "      background-color: #E2EBFA;\n",
              "      box-shadow: 0px 1px 2px rgba(60, 64, 67, 0.3), 0px 1px 3px 1px rgba(60, 64, 67, 0.15);\n",
              "      fill: #174EA6;\n",
              "    }\n",
              "\n",
              "    [theme=dark] .colab-df-convert {\n",
              "      background-color: #3B4455;\n",
              "      fill: #D2E3FC;\n",
              "    }\n",
              "\n",
              "    [theme=dark] .colab-df-convert:hover {\n",
              "      background-color: #434B5C;\n",
              "      box-shadow: 0px 1px 3px 1px rgba(0, 0, 0, 0.15);\n",
              "      filter: drop-shadow(0px 1px 2px rgba(0, 0, 0, 0.3));\n",
              "      fill: #FFFFFF;\n",
              "    }\n",
              "  </style>\n",
              "\n",
              "      <script>\n",
              "        const buttonEl =\n",
              "          document.querySelector('#df-0d8a8d0a-c224-4ca2-9d79-db4d28c2f403 button.colab-df-convert');\n",
              "        buttonEl.style.display =\n",
              "          google.colab.kernel.accessAllowed ? 'block' : 'none';\n",
              "\n",
              "        async function convertToInteractive(key) {\n",
              "          const element = document.querySelector('#df-0d8a8d0a-c224-4ca2-9d79-db4d28c2f403');\n",
              "          const dataTable =\n",
              "            await google.colab.kernel.invokeFunction('convertToInteractive',\n",
              "                                                     [key], {});\n",
              "          if (!dataTable) return;\n",
              "\n",
              "          const docLinkHtml = 'Like what you see? Visit the ' +\n",
              "            '<a target=\"_blank\" href=https://colab.research.google.com/notebooks/data_table.ipynb>data table notebook</a>'\n",
              "            + ' to learn more about interactive tables.';\n",
              "          element.innerHTML = '';\n",
              "          dataTable['output_type'] = 'display_data';\n",
              "          await google.colab.output.renderOutput(dataTable, element);\n",
              "          const docLink = document.createElement('div');\n",
              "          docLink.innerHTML = docLinkHtml;\n",
              "          element.appendChild(docLink);\n",
              "        }\n",
              "      </script>\n",
              "    </div>\n",
              "  </div>\n",
              "  "
            ]
          },
          "metadata": {},
          "execution_count": 121
        }
      ]
    },
    {
      "cell_type": "markdown",
      "source": [
        "# ARIMA"
      ],
      "metadata": {
        "id": "girhoGBQXrlQ"
      }
    },
    {
      "cell_type": "code",
      "source": [
        "plt.figure(figsize=(4,3)); plt.plot(df_train.year_month, df_train.y); plt.show()"
      ],
      "metadata": {
        "colab": {
          "base_uri": "https://localhost:8080/",
          "height": 211
        },
        "id": "OClJl4FRXosV",
        "outputId": "2dc95a98-55ac-42c8-de03-a405b644bb1e"
      },
      "execution_count": null,
      "outputs": [
        {
          "output_type": "display_data",
          "data": {
            "text/plain": [
              "<Figure size 288x216 with 1 Axes>"
            ],
            "image/png": "[encoded data removed]"
          },
          "metadata": {
            "needs_background": "light"
          }
        }
      ]
    },
    {
      "cell_type": "code",
      "source": [
        "from statsmodels.tsa.stattools import adfuller\n",
        "\n",
        "result = adfuller(df_train['y']); \n",
        "print('ADF Statistic: %f' % result[0]); print('p-value: %f' % result[1])\n",
        "for key, value in  result[4].items():\n",
        "    print('Valor crítico %s: %.2f' % (key,value))"
      ],
      "metadata": {
        "colab": {
          "base_uri": "https://localhost:8080/"
        },
        "id": "X_JUgRc3XuUx",
        "outputId": "cfa529d9-a292-44c3-c571-0904f41560d5"
      },
      "execution_count": null,
      "outputs": [
        {
          "output_type": "stream",
          "name": "stdout",
          "text": [
            "ADF Statistic: -5.499251\n",
            "p-value: 0.000002\n",
            "Valor crítico 1%: -3.96\n",
            "Valor crítico 5%: -3.08\n",
            "Valor crítico 10%: -2.68\n"
          ]
        }
      ]
    },
    {
      "cell_type": "code",
      "source": [
        "res_model = df_train['y'] - df_train['back_LogEstTrend']\n",
        "plt.figure(figsize=(4,2.5)); plt.plot(df_train.timeIndex, res_model, '-');plt.show()"
      ],
      "metadata": {
        "colab": {
          "base_uri": "https://localhost:8080/",
          "height": 184
        },
        "id": "KFQOeg2_XuR-",
        "outputId": "bbc241e5-2c1a-4c8b-d70d-b2ea88f899bb"
      },
      "execution_count": null,
      "outputs": [
        {
          "output_type": "display_data",
          "data": {
            "text/plain": [
              "<Figure size 288x180 with 1 Axes>"
            ],
            "image/png": "[encoded data removed]"
          },
          "metadata": {
            "needs_background": "light"
          }
        }
      ]
    },
    {
      "cell_type": "code",
      "source": [
        "result = adfuller(res_model); print('ADF Statistic: %f' % result[0]); \n",
        "print('p-value: %f' % result[1])\n",
        "for key, value in  result[4].items():\n",
        "    print('Valor crítico %s: %.2f' % (key,value))"
      ],
      "metadata": {
        "colab": {
          "base_uri": "https://localhost:8080/"
        },
        "id": "jFXSIzj7Xwpp",
        "outputId": "ec89517c-8cdd-4442-80a3-8a9e01e42564"
      },
      "execution_count": null,
      "outputs": [
        {
          "output_type": "stream",
          "name": "stdout",
          "text": [
            "ADF Statistic: -6.032410\n",
            "p-value: 0.000000\n",
            "Valor crítico 1%: -3.75\n",
            "Valor crítico 5%: -3.00\n",
            "Valor crítico 10%: -2.64\n"
          ]
        }
      ]
    },
    {
      "cell_type": "code",
      "source": [
        "from statsmodels.tsa.stattools import acf, pacf\n",
        "from statsmodels.graphics.tsaplots import plot_acf, plot_pacf"
      ],
      "metadata": {
        "id": "0EneW7yNXwmd"
      },
      "execution_count": null,
      "outputs": []
    },
    {
      "cell_type": "code",
      "source": [
        "import statsmodels.tsa.api as smt"
      ],
      "metadata": {
        "id": "ku1oMX7aZfy9"
      },
      "execution_count": null,
      "outputs": []
    },
    {
      "cell_type": "code",
      "source": [
        "fig, axes = plt.subplots(1, 2,figsize=(8,3))\n",
        "smt.graphics.plot_acf(res_model, lags=20,ax=axes[0],title='ACF')\n",
        "smt.graphics.plot_pacf(res_model, lags=20,ax=axes[1],title='PACF')\n",
        "plt.show()"
      ],
      "metadata": {
        "colab": {
          "base_uri": "https://localhost:8080/",
          "height": 261
        },
        "id": "RCh0sT9vXwj0",
        "outputId": "34381f7c-c579-410b-817c-b45d80aa527a"
      },
      "execution_count": null,
      "outputs": [
        {
          "output_type": "stream",
          "name": "stderr",
          "text": [
            "/usr/local/lib/python3.7/dist-packages/statsmodels/regression/linear_model.py:1358: RuntimeWarning: invalid value encountered in sqrt\n",
            "  return rho, np.sqrt(sigmasq)\n"
          ]
        },
        {
          "output_type": "display_data",
          "data": {
            "text/plain": [
              "<Figure size 576x216 with 2 Axes>"
            ],
            "image/png": "[encoded data removed]"
          },
          "metadata": {
            "needs_background": "light"
          }
        }
      ]
    },
    {
      "cell_type": "code",
      "source": [
        "from statsmodels.tsa.arima_model import ARIMA"
      ],
      "metadata": {
        "id": "zD94KGKpdyVS"
      },
      "execution_count": null,
      "outputs": []
    },
    {
      "cell_type": "code",
      "source": [
        "model_ARIMA = ARIMA(res_model, order=(10,0,0))\n",
        "results_ARIMA = model_ARIMA.fit()"
      ],
      "metadata": {
        "id": "6p8kehzddwLZ"
      },
      "execution_count": null,
      "outputs": []
    },
    {
      "cell_type": "code",
      "source": [
        "print(results_ARIMA.summary())"
      ],
      "metadata": {
        "colab": {
          "base_uri": "https://localhost:8080/"
        },
        "id": "dA742mXdd1-J",
        "outputId": "8fcc9625-cf0a-430b-a415-3d157be3ff07"
      },
      "execution_count": null,
      "outputs": [
        {
          "output_type": "stream",
          "name": "stdout",
          "text": [
            "                              ARMA Model Results                              \n",
            "==============================================================================\n",
            "Dep. Variable:                      y   No. Observations:                   24\n",
            "Model:                    ARMA(10, 0)   Log Likelihood                -109.762\n",
            "Method:                       css-mle   S.D. of innovations             22.571\n",
            "Date:                Tue, 15 Mar 2022   AIC                            243.524\n",
            "Time:                        20:52:08   BIC                            257.660\n",
            "Sample:                    01-01-2015   HQIC                           247.274\n",
            "                         - 12-01-2016                                         \n",
            "==============================================================================\n",
            "                 coef    std err          z      P>|z|      [0.025      0.975]\n",
            "------------------------------------------------------------------------------\n",
            "const         -1.6343      2.691     -0.607      0.554      -6.909       3.640\n",
            "ar.L1.y       -0.4302      0.220     -1.956      0.072      -0.861       0.001\n",
            "ar.L2.y       -0.2044      0.230     -0.890      0.390      -0.655       0.246\n",
            "ar.L3.y       -0.1322      0.220     -0.602      0.557      -0.562       0.298\n",
            "ar.L4.y        0.0043      0.263      0.016      0.987      -0.511       0.520\n",
            "ar.L5.y        0.0235      0.259      0.091      0.929      -0.485       0.532\n",
            "ar.L6.y        0.1761      0.234      0.751      0.466      -0.283       0.636\n",
            "ar.L7.y       -0.0353      0.266     -0.133      0.896      -0.556       0.485\n",
            "ar.L8.y       -0.3650      0.245     -1.488      0.161      -0.846       0.116\n",
            "ar.L9.y       -0.1512      0.285     -0.530      0.605      -0.710       0.407\n",
            "ar.L10.y      -0.1648      0.270     -0.611      0.552      -0.693       0.364\n",
            "                                    Roots                                     \n",
            "==============================================================================\n",
            "                   Real          Imaginary           Modulus         Frequency\n",
            "------------------------------------------------------------------------------\n",
            "AR.1             1.0546           -0.4103j            1.1317           -0.0591\n",
            "AR.2             1.0546           +0.4103j            1.1317            0.0591\n",
            "AR.3             0.4288           -0.9882j            1.0772           -0.1848\n",
            "AR.4             0.4288           +0.9882j            1.0772            0.1848\n",
            "AR.5            -1.0651           -0.3262j            1.1139           -0.4527\n",
            "AR.6            -1.0651           +0.3262j            1.1139            0.4527\n",
            "AR.7            -0.5621           -1.0075j            1.1536           -0.3310\n",
            "AR.8            -0.5621           +1.0075j            1.1536            0.3310\n",
            "AR.9            -0.3151           -1.5408j            1.5726           -0.2821\n",
            "AR.10           -0.3151           +1.5408j            1.5726            0.2821\n",
            "------------------------------------------------------------------------------\n"
          ]
        }
      ]
    },
    {
      "cell_type": "code",
      "source": [
        "residuals = pd.DataFrame(results_ARIMA.resid)\n",
        "fig, axes = plt.subplots(2, 2,figsize=(10,4))\n",
        "\n",
        "residuals.plot(title=\"Residuals\", ax=axes[0,0]); \n",
        "residuals.plot(kind='kde', title='Density', ax=axes[0,1])\n",
        "smt.graphics.plot_acf(residuals, lags=20,ax=axes[1,0],title='ACF'); \n",
        "smt.graphics.plot_pacf(residuals, lags=20,ax=axes[1,1],title='PACF')\n",
        "plt.subplots_adjust(hspace=0.8)\n",
        "plt.show()"
      ],
      "metadata": {
        "colab": {
          "base_uri": "https://localhost:8080/",
          "height": 315
        },
        "id": "orOF_L47d18Q",
        "outputId": "6301339b-4f27-45b8-9ebf-89a30e0b5288"
      },
      "execution_count": null,
      "outputs": [
        {
          "output_type": "stream",
          "name": "stderr",
          "text": [
            "/usr/local/lib/python3.7/dist-packages/statsmodels/regression/linear_model.py:1358: RuntimeWarning: invalid value encountered in sqrt\n",
            "  return rho, np.sqrt(sigmasq)\n"
          ]
        },
        {
          "output_type": "display_data",
          "data": {
            "text/plain": [
              "<Figure size 720x288 with 4 Axes>"
            ],
            "image/png": "[encoded data removed]"
          },
          "metadata": {
            "needs_background": "light"
          }
        }
      ]
    },
    {
      "cell_type": "code",
      "source": [
        "predictions_ARIMA, se, conf = results_ARIMA.forecast(len(df_test['y']), alpha=0.05)"
      ],
      "metadata": {
        "id": "H3cIh2FEd15Q"
      },
      "execution_count": null,
      "outputs": []
    },
    {
      "cell_type": "code",
      "source": [
        "df_train['model_ARIMA'] = df_train['y'] + results_ARIMA.fittedvalues\n",
        "df_test['model_ARIMA'] = df_test['y'] + predictions_ARIMA"
      ],
      "metadata": {
        "id": "HO-lI2NZd12Z"
      },
      "execution_count": null,
      "outputs": []
    },
    {
      "cell_type": "code",
      "source": [
        "df_train.plot(kind = \"line\", y = ['y', 'model_ARIMA'],figsize=(10,3), title='train');"
      ],
      "metadata": {
        "colab": {
          "base_uri": "https://localhost:8080/",
          "height": 239
        },
        "id": "k0YzZa5qd1zg",
        "outputId": "bc68606b-5495-4b29-96c6-edded27fd1af"
      },
      "execution_count": null,
      "outputs": [
        {
          "output_type": "display_data",
          "data": {
            "text/plain": [
              "<Figure size 720x216 with 1 Axes>"
            ],
            "image/png": "[encoded data removed]"
          },
          "metadata": {
            "needs_background": "light"
          }
        }
      ]
    },
    {
      "cell_type": "code",
      "source": [
        "df_test.plot(kind = \"line\", y = ['y', 'model_ARIMA'],figsize=(10,3), title='test');"
      ],
      "metadata": {
        "colab": {
          "base_uri": "https://localhost:8080/",
          "height": 239
        },
        "id": "-8O03eXzd1wh",
        "outputId": "b9fe5b67-1c2a-4ecc-cefa-7af011ca9183"
      },
      "execution_count": null,
      "outputs": [
        {
          "output_type": "display_data",
          "data": {
            "text/plain": [
              "<Figure size 720x216 with 1 Axes>"
            ],
            "image/png": "[encoded data removed]"
          },
          "metadata": {
            "needs_background": "light"
          }
        }
      ]
    },
    {
      "cell_type": "code",
      "source": [
        "df_Results.loc[9, \"Model\"] = \"Log Model + est + ARIMA\"\n",
        "df_Results.loc[9, \"RMSE\"] = RMSE(df_test['model_ARIMA'], df_test['y'])\n",
        "df_Results"
      ],
      "metadata": {
        "colab": {
          "base_uri": "https://localhost:8080/",
          "height": 359
        },
        "id": "tKaYxZiCe1Un",
        "outputId": "0028c43a-398b-4993-e590-20889c43661b"
      },
      "execution_count": null,
      "outputs": [
        {
          "output_type": "execute_result",
          "data": {
            "text/plain": [
              "                     Model       RMSE\n",
              "0              Random Walk  74.525723\n",
              "1                     Mean  74.712191\n",
              "2              LinearTrend   74.86737\n",
              "3           QuadraticTrend   79.74297\n",
              "4            back_LogTrend  74.401168\n",
              "5         back_LogEstTrend  83.122583\n",
              "6   Simple Smoothing a=0.3  75.099038\n",
              "7   Simple Smoothing a=0.5  74.602605\n",
              "8   Simple Smoothing a=0.8  74.121932\n",
              "9  Log Model + est + ARIMA  12.020735"
            ],
            "text/html": [
              "\n",
              "  <div id=\"df-4b623689-fde1-4864-bff6-1b8bc24136a5\">\n",
              "    <div class=\"colab-df-container\">\n",
              "      <div>\n",
              "<style scoped>\n",
              "    .dataframe tbody tr th:only-of-type {\n",
              "        vertical-align: middle;\n",
              "    }\n",
              "\n",
              "    .dataframe tbody tr th {\n",
              "        vertical-align: top;\n",
              "    }\n",
              "\n",
              "    .dataframe thead th {\n",
              "        text-align: right;\n",
              "    }\n",
              "</style>\n",
              "<table border=\"1\" class=\"dataframe\">\n",
              "  <thead>\n",
              "    <tr style=\"text-align: right;\">\n",
              "      <th></th>\n",
              "      <th>Model</th>\n",
              "      <th>RMSE</th>\n",
              "    </tr>\n",
              "  </thead>\n",
              "  <tbody>\n",
              "    <tr>\n",
              "      <th>0</th>\n",
              "      <td>Random Walk</td>\n",
              "      <td>74.525723</td>\n",
              "    </tr>\n",
              "    <tr>\n",
              "      <th>1</th>\n",
              "      <td>Mean</td>\n",
              "      <td>74.712191</td>\n",
              "    </tr>\n",
              "    <tr>\n",
              "      <th>2</th>\n",
              "      <td>LinearTrend</td>\n",
              "      <td>74.86737</td>\n",
              "    </tr>\n",
              "    <tr>\n",
              "      <th>3</th>\n",
              "      <td>QuadraticTrend</td>\n",
              "      <td>79.74297</td>\n",
              "    </tr>\n",
              "    <tr>\n",
              "      <th>4</th>\n",
              "      <td>back_LogTrend</td>\n",
              "      <td>74.401168</td>\n",
              "    </tr>\n",
              "    <tr>\n",
              "      <th>5</th>\n",
              "      <td>back_LogEstTrend</td>\n",
              "      <td>83.122583</td>\n",
              "    </tr>\n",
              "    <tr>\n",
              "      <th>6</th>\n",
              "      <td>Simple Smoothing a=0.3</td>\n",
              "      <td>75.099038</td>\n",
              "    </tr>\n",
              "    <tr>\n",
              "      <th>7</th>\n",
              "      <td>Simple Smoothing a=0.5</td>\n",
              "      <td>74.602605</td>\n",
              "    </tr>\n",
              "    <tr>\n",
              "      <th>8</th>\n",
              "      <td>Simple Smoothing a=0.8</td>\n",
              "      <td>74.121932</td>\n",
              "    </tr>\n",
              "    <tr>\n",
              "      <th>9</th>\n",
              "      <td>Log Model + est + ARIMA</td>\n",
              "      <td>12.020735</td>\n",
              "    </tr>\n",
              "  </tbody>\n",
              "</table>\n",
              "</div>\n",
              "      <button class=\"colab-df-convert\" onclick=\"convertToInteractive('df-4b623689-fde1-4864-bff6-1b8bc24136a5')\"\n",
              "              title=\"Convert this dataframe to an interactive table.\"\n",
              "              style=\"display:none;\">\n",
              "        \n",
              "  <svg xmlns=\"http://www.w3.org/2000/svg\" height=\"24px\"viewBox=\"0 0 24 24\"\n",
              "       width=\"24px\">\n",
              "    <path d=\"M0 0h24v24H0V0z\" fill=\"none\"/>\n",
              "    <path d=\"M18.56 5.44l.94 2.06.94-2.06 2.06-.94-2.06-.94-.94-2.06-.94 2.06-2.06.94zm-11 1L8.5 8.5l.94-2.06 2.06-.94-2.06-.94L8.5 2.5l-.94 2.06-2.06.94zm10 10l.94 2.06.94-2.06 2.06-.94-2.06-.94-.94-2.06-.94 2.06-2.06.94z\"/><path d=\"M17.41 7.96l-1.37-1.37c-.4-.4-.92-.59-1.43-.59-.52 0-1.04.2-1.43.59L10.3 9.45l-7.72 7.72c-.78.78-.78 2.05 0 2.83L4 21.41c.39.39.9.59 1.41.59.51 0 1.02-.2 1.41-.59l7.78-7.78 2.81-2.81c.8-.78.8-2.07 0-2.86zM5.41 20L4 18.59l7.72-7.72 1.47 1.35L5.41 20z\"/>\n",
              "  </svg>\n",
              "      </button>\n",
              "      \n",
              "  <style>\n",
              "    .colab-df-container {\n",
              "      display:flex;\n",
              "      flex-wrap:wrap;\n",
              "      gap: 12px;\n",
              "    }\n",
              "\n",
              "    .colab-df-convert {\n",
              "      background-color: #E8F0FE;\n",
              "      border: none;\n",
              "      border-radius: 50%;\n",
              "      cursor: pointer;\n",
              "      display: none;\n",
              "      fill: #1967D2;\n",
              "      height: 32px;\n",
              "      padding: 0 0 0 0;\n",
              "      width: 32px;\n",
              "    }\n",
              "\n",
              "    .colab-df-convert:hover {\n",
              "      background-color: #E2EBFA;\n",
              "      box-shadow: 0px 1px 2px rgba(60, 64, 67, 0.3), 0px 1px 3px 1px rgba(60, 64, 67, 0.15);\n",
              "      fill: #174EA6;\n",
              "    }\n",
              "\n",
              "    [theme=dark] .colab-df-convert {\n",
              "      background-color: #3B4455;\n",
              "      fill: #D2E3FC;\n",
              "    }\n",
              "\n",
              "    [theme=dark] .colab-df-convert:hover {\n",
              "      background-color: #434B5C;\n",
              "      box-shadow: 0px 1px 3px 1px rgba(0, 0, 0, 0.15);\n",
              "      filter: drop-shadow(0px 1px 2px rgba(0, 0, 0, 0.3));\n",
              "      fill: #FFFFFF;\n",
              "    }\n",
              "  </style>\n",
              "\n",
              "      <script>\n",
              "        const buttonEl =\n",
              "          document.querySelector('#df-4b623689-fde1-4864-bff6-1b8bc24136a5 button.colab-df-convert');\n",
              "        buttonEl.style.display =\n",
              "          google.colab.kernel.accessAllowed ? 'block' : 'none';\n",
              "\n",
              "        async function convertToInteractive(key) {\n",
              "          const element = document.querySelector('#df-4b623689-fde1-4864-bff6-1b8bc24136a5');\n",
              "          const dataTable =\n",
              "            await google.colab.kernel.invokeFunction('convertToInteractive',\n",
              "                                                     [key], {});\n",
              "          if (!dataTable) return;\n",
              "\n",
              "          const docLinkHtml = 'Like what you see? Visit the ' +\n",
              "            '<a target=\"_blank\" href=https://colab.research.google.com/notebooks/data_table.ipynb>data table notebook</a>'\n",
              "            + ' to learn more about interactive tables.';\n",
              "          element.innerHTML = '';\n",
              "          dataTable['output_type'] = 'display_data';\n",
              "          await google.colab.output.renderOutput(dataTable, element);\n",
              "          const docLink = document.createElement('div');\n",
              "          docLink.innerHTML = docLinkHtml;\n",
              "          element.appendChild(docLink);\n",
              "        }\n",
              "      </script>\n",
              "    </div>\n",
              "  </div>\n",
              "  "
            ]
          },
          "metadata": {},
          "execution_count": 137
        }
      ]
    }
  ]
}